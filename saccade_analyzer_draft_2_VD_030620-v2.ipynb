{
 "cells": [
  {
   "cell_type": "code",
   "execution_count": 1,
   "metadata": {
    "code_folding": [
     0
    ]
   },
   "outputs": [
    {
     "name": "stderr",
     "output_type": "stream",
     "text": [
      "/usr/local/lib/python3.6/site-packages/h5py/__init__.py:34: FutureWarning: Conversion of the second argument of issubdtype from `float` to `np.floating` is deprecated. In future, it will be treated as `np.float64 == np.dtype(float).type`.\n",
      "  from ._conv import register_converters as _register_converters\n"
     ]
    }
   ],
   "source": [
    "#import packages\n",
    "import numpy as np\n",
    "import copy\n",
    "import pandas\n",
    "import os\n",
    "import imp\n",
    "import pickle\n",
    "from scipy.interpolate import interp1d\n",
    "import warnings\n",
    "import time\n",
    "import matplotlib.pyplot as plt\n",
    "import inspect\n",
    "import types\n",
    "import math as mat\n",
    "import seaborn as sns\n",
    "import matplotlib.gridspec as gridspec\n",
    "from matplotlib.colors import LogNorm\n",
    "import datetime\n",
    "from matplotlib import animation\n",
    "from IPython.display import HTML\n",
    "from tempfile import NamedTemporaryFile\n",
    "import matplotlib.backends.backend_pdf\n",
    "from scipy import interpolate\n",
    "from itertools import groupby\n",
    "import re\n",
    "import csv\n",
    "import copy\n",
    "from fnmatch import fnmatch\n",
    "import json\n",
    "import h5py \n",
    "import copy\n",
    "import math\n",
    "import sys\n",
    "import itertools\n",
    "pi = math.pi\n",
    "\n",
    "sys.path.append(\"/Users/fponce/Documents/vdesert/vdesert_funcs/\") \n",
    "import plot_funcs.mpl_functions as mpl\n",
    "from scipy.signal import butter,filtfilt\n",
    "\n",
    "sns.set()\n",
    "sns.set_style()\n",
    "%matplotlib inline"
   ]
  },
  {
   "cell_type": "code",
   "execution_count": 2,
   "metadata": {
    "collapsed": true
   },
   "outputs": [],
   "source": [
    "import analysis_funcs.saccade_ider as fs\n",
    "import analysis_funcs.saccade_ider_n_plot as fs_pt"
   ]
  },
  {
   "cell_type": "code",
   "execution_count": 3,
   "metadata": {
    "code_folding": [
     0
    ],
    "collapsed": true
   },
   "outputs": [],
   "source": [
    "#filter angles and dejitter functions\n",
    "\n",
    "def butter_lowpass(th_order=4, highcut=260, fs=32.):\n",
    "\n",
    "    nyq = 0.5 * fs\n",
    "    high = highcut / nyq\n",
    "    return butter(th_order, high, btype='low')\n",
    "\n",
    "def filtTrace(inArr, fs):\n",
    "\n",
    "    th_order, highcut = 4, 9.#highcut is 6 based of Maimons paper, could be up to 9\n",
    "    d, c = butter_lowpass(th_order, highcut, fs)\n",
    "    return filtfilt(d, c, inArr)\n",
    "\n",
    "#deJitter function\n",
    "def deJit(inArr, dJit=True, threshJit=5.):    # If kinefly jumps more than threshJit compared to samples before and after, then take the average of before and after.\n",
    "    # import numpy as np #uncomment if numpy had not been imported yet.\n",
    "    inArrdeJit = np.copy(inArr)\n",
    "    count = 0\n",
    "    if dJit:    \n",
    "        for idx in range (1,len(inArr)-1): # 1 frame jitter, comp. to prev and next\n",
    "            if abs(inArr[idx]-inArr[idx-1])>threshJit and abs(inArr[idx+1]-inArr[idx])>threshJit:\n",
    "                count = count + 1\n",
    "                inArrdeJit[idx] = np.mean((inArrdeJit[idx-1],inArrdeJit[idx+1]))\n",
    "        for idx in range (2,len(inArr)-2): # 2 frames jitter, comp. to prev and next+1\n",
    "            if abs(inArr[idx]-inArr[idx-1])>threshJit and abs(inArr[idx+2]-inArr[idx])>threshJit:\n",
    "                count = count + 1\n",
    "                inArrdeJit[idx] = np.mean((inArrdeJit[idx-1],inArrdeJit[idx+2]))\n",
    "        for idx in range (2,len(inArr)-2): # 2 frame jitter, comp. to prev-1 and next\n",
    "            if abs(inArr[idx]-inArr[idx-2])>threshJit and abs(inArr[idx+1]-inArr[idx])>threshJit:\n",
    "                count = count + 1\n",
    "                inArrdeJit[idx] = np.mean((inArrdeJit[idx-2],inArrdeJit[idx+1]))\n",
    "        # the following three for-loops can be commented to only dejitter based on nearest frame jumps\n",
    "        for idx in range (2,len(inArr)-2): # 3 frame jitter, comp. to prev-1 and next+1\n",
    "            if abs(inArr[idx]-inArr[idx-2])>threshJit and abs(inArr[idx+2]-inArr[idx])>threshJit:\n",
    "                count = count + 1\n",
    "                inArrdeJit[idx] = np.mean((inArrdeJit[idx-2],inArrdeJit[idx+2]))\n",
    "        for idx in range (1,len(inArr)-3): # 3 frame jitter, comp. to prev and next+2\n",
    "            if abs(inArr[idx]-inArr[idx-1])>threshJit and abs(inArr[idx+3]-inArr[idx])>threshJit:\n",
    "                count = count + 1\n",
    "                inArrdeJit[idx] = np.mean((inArrdeJit[idx-1],inArrdeJit[idx+3]))\n",
    "        for idx in range (3,len(inArr)-1): # 3 frame jitter, comp. to prev-2 and next\n",
    "            if abs(inArr[idx]-inArr[idx-3])>threshJit and abs(inArr[idx+1]-inArr[idx])>threshJit:\n",
    "                count = count + 1\n",
    "                inArrdeJit[idx] = np.mean((inArrdeJit[idx-3],inArrdeJit[idx+1]))\n",
    "    pct = 100 * count / len(inArr)\n",
    "    msg = str(count) + ' out of ' + str(len(inArr)) + ' samples were treated as jitter (' + str(pct)[0:4] +' %)'\n",
    "    return inArrdeJit, msg"
   ]
  },
  {
   "cell_type": "code",
   "execution_count": 4,
   "metadata": {},
   "outputs": [
    {
     "name": "stdout",
     "output_type": "stream",
     "text": [
      "15\n",
      "15\n"
     ]
    }
   ],
   "source": [
    "#import data from pickles\n",
    "\n",
    "pickle_path = \"/Users/fponce/Documents/vdesert/VD_030620/saccade_ider/VD_030620.p\"\n",
    "\n",
    "all_exp_data = pickle.load(open( pickle_path, \"rb\" ) )\n",
    "\n",
    "datapaths = all_exp_data[0]\n",
    "allangles_vf_uw = all_exp_data[1]\n",
    "all_start_frames_m = all_exp_data[2]\n",
    "all_end_frames_m = all_exp_data[3]\n",
    "\n",
    "print(len(allangles_vf_uw))\n",
    "print(len(datapaths))"
   ]
  },
  {
   "cell_type": "code",
   "execution_count": 5,
   "metadata": {
    "code_folding": [
     0
    ]
   },
   "outputs": [],
   "source": [
    "# #plotting\n",
    "# sns.set_style(\"ticks\")\n",
    "# tp = [5,6,7]\n",
    "# bckclr_labels = ['darkseagreen', 'lavender','lightyellow']\n",
    "# myc = [\"red\", \"medium green\", \"denim blue\"]\n",
    "# for j in range(len(tp)):\n",
    "#     fig, ax1 = plt.subplots(1,1,figsize=(15, 5))\n",
    "#     for i in range(len(allangles_vf)): \n",
    "#         p = allangles_vf[i][all_start_frames_m[i][tp[j]]:all_end_frames_m[i][tp[j]]]\n",
    "\n",
    "#         ax1.plot((0,21600), (0,0), 'r', linewidth= 2)\n",
    "\n",
    "#         mycolor = list(np.random.choice(range(256), size=3))\n",
    "#         plt.scatter(np.arange(len(p)), p, c=sns.xkcd_rgb['black'], alpha=0.1, s=10)#,'k',alpha= 0.5)\n",
    "#         ax1.set_title(j)\n",
    "#         ax1.set_ylim([-200, 200])\n",
    "#         ax1.set_xlim([0, (len(p))])\n",
    "        \n",
    "# #         ax1.set_xticks(np.arange(0, 5401, 1800))\n",
    "#         ax1.set_yticks(np.arange(-180, 225,45))\n",
    "#         ax1.yaxis.set_tick_params(labelsize=20)\n",
    "#         ax1.xaxis.set_tick_params(labelsize=20)\n",
    "#         sns.despine()\n",
    "#         ax1.tick_params(direction='in', length=8, width=2)\n",
    "#         sns.despine(offset=10, trim=False);\n",
    "#         ax1.spines['left'].set_linewidth(2)\n",
    "#         ax1.spines['bottom'].set_linewidth(2)\n",
    "#         ax1.grid(True,linewidth=2)  "
   ]
  },
  {
   "cell_type": "code",
   "execution_count": 6,
   "metadata": {
    "collapsed": true
   },
   "outputs": [],
   "source": [
    "#done in first notebook\n",
    "#unwrap before dejitter\n",
    "#first dejitter \n",
    "#then resample\n",
    "\n",
    "#done here\n",
    "#then filter\n",
    "#saccade find it\n",
    "\n",
    "# #unwrap\n",
    "# dejitter\n",
    "# resample\n",
    "# filter \n",
    "# saccade\n",
    "# re-wrap"
   ]
  },
  {
   "cell_type": "code",
   "execution_count": 7,
   "metadata": {
    "code_folding": [
     0
    ],
    "collapsed": true
   },
   "outputs": [],
   "source": [
    "# #plotting easier to see single traces\n",
    "# sns.set_style(\"ticks\")\n",
    "# tp = [5,6,7]\n",
    "# bckclr_labels = ['darkseagreen', 'lavender','lightyellow']\n",
    "# myc = [\"red\", \"medium green\", \"denim blue\"]\n",
    "# for j in range(len(tp)):\n",
    "#     fig, ax1 = plt.subplots(1,1,figsize=(15, 5))\n",
    "#     for i in [5]:#range(len(allangles_vf)): \n",
    "#         p = allangles_vf_filt[i][all_start_frames_m[i][tp[j]]:all_end_frames_m[i][tp[j]]]\n",
    "\n",
    "#         ax1.plot((0,21600), (0,0), 'r', linewidth= 2)\n",
    "\n",
    "#         mycolor = list(np.random.choice(range(256), size=3))\n",
    "#         #plt.scatter(np.arange(len(p)), p, c=sns.xkcd_rgb['black'], alpha=0.1, s=10)#,'k',alpha= 0.5)\n",
    "#         plt.plot(p)\n",
    "        \n",
    "#         ax1.set_title(j)\n",
    "#         ax1.set_ylim([-200, 200])\n",
    "#         ax1.set_xlim([0, (len(p))])\n",
    "#         ax1.set_xlim([3800, 4100])\n",
    "        \n",
    "# #         ax1.set_xticks(np.arange(0, 5401, 1800))\n",
    "#         ax1.set_yticks(np.arange(-180, 225,45))\n",
    "#         ax1.yaxis.set_tick_params(labelsize=20)\n",
    "#         ax1.xaxis.set_tick_params(labelsize=20)\n",
    "#         sns.despine()\n",
    "#         ax1.tick_params(direction='in', length=8, width=2)\n",
    "#         sns.despine(offset=10, trim=False);\n",
    "#         ax1.spines['left'].set_linewidth(2)\n",
    "#         ax1.spines['bottom'].set_linewidth(2)\n",
    "#         ax1.grid(True,linewidth=2)"
   ]
  },
  {
   "cell_type": "code",
   "execution_count": 8,
   "metadata": {
    "code_folding": [
     0
    ],
    "collapsed": true
   },
   "outputs": [],
   "source": [
    "#plotting dot plots\n",
    "# sns.set_style(\"ticks\")\n",
    "# tp = [5,6,7]\n",
    "# bckclr_labels = ['darkseagreen', 'lavender','lightyellow']\n",
    "# myc = [\"red\", \"medium green\", \"denim blue\"]\n",
    "# for j in range(len(tp)):\n",
    "#     fig, ax1 = plt.subplots(1,1,figsize=(15, 5))\n",
    "#     for i in range(len(allangles_vf)): \n",
    "#         p = allangles_vf_filt[i][all_start_frames_m[i][tp[j]]:all_end_frames_m[i][tp[j]]]\n",
    "\n",
    "#         ax1.plot((0,21600), (0,0), 'r', linewidth= 2)\n",
    "\n",
    "#         #ax1.plot((0,5400), (b, b), 'gold', linewidth= 4)\n",
    "# #         if j in [1,4]:\n",
    "# #             ax1.plot((0,5400), (0, 0), 'yellow', linewidth= 4)\n",
    "# #         else:\n",
    "# #             pass\n",
    "#         mycolor = list(np.random.choice(range(256), size=3))\n",
    "#         plt.scatter(np.arange(len(p)), p, c=sns.xkcd_rgb['black'], alpha=0.1, s=10)#,'k',alpha= 0.5)\n",
    "#         ax1.set_title(j)\n",
    "#         ax1.set_ylim([-200, 200])\n",
    "#         ax1.set_xlim([0, (len(p))])\n",
    "        \n",
    "# #         ax1.set_xticks(np.arange(0, 5401, 1800))\n",
    "#         ax1.set_yticks(np.arange(-180, 225,45))\n",
    "#         ax1.yaxis.set_tick_params(labelsize=20)\n",
    "#         ax1.xaxis.set_tick_params(labelsize=20)\n",
    "#             #ax1.set_xticklabels((round(all_start_frames[j]/30),round(all_end_frames[j+1]/30)))\n",
    "#             #box, ticks format\n",
    "#         sns.despine()\n",
    "#         ax1.tick_params(direction='in', length=8, width=2)\n",
    "#         sns.despine(offset=10, trim=False);\n",
    "#         ax1.spines['left'].set_linewidth(2)\n",
    "#         ax1.spines['bottom'].set_linewidth(2)\n",
    "#         ax1.grid(True,linewidth=2)\n",
    "        \n",
    "# #         if j in [0,3]:\n",
    "# #             ax1.patch.set_facecolor(bckclr_labels[0])\n",
    "# #         elif j in [1,4]:\n",
    "# #             ax1.patch.set_facecolor(bckclr_labels[1])\n",
    "# #         elif j in [2,5]:\n",
    "# #             ax1.patch.set_facecolor(bckclr_labels[2])            \n",
    "#         ax1.patch.set_alpha(0.7)"
   ]
  },
  {
   "cell_type": "code",
   "execution_count": 9,
   "metadata": {
    "collapsed": true
   },
   "outputs": [],
   "source": [
    "# #all_start_frames_m, all_end_frames_m\n",
    "# for i in range(len(allangles_vf_filt)):\n",
    "#     print('--------------------------')\n",
    "#     print(i)\n",
    "#     for j in range(len(all_start_frames_m[0])):\n",
    "#         print('-----------')\n",
    "#         print(j)\n",
    "#         print([all_start_frames_m[i][j],all_end_frames_m[i][j]])"
   ]
  },
  {
   "cell_type": "code",
   "execution_count": 10,
   "metadata": {
    "code_folding": [],
    "collapsed": true
   },
   "outputs": [],
   "source": [
    "#run saccade identifier for all exp\n",
    "\n",
    "#path to save figs if True\n",
    "sFigPath = '/Users/fponce/Documents/vdesert/VD_030620/saccade_ider/'\n",
    "\n",
    "all_SMagMx = []\n",
    "all_SMagMn = []\n",
    "all_SAmx = []\n",
    "all_SAmn = []\n",
    "all_SVmx = []\n",
    "all_SVmn = []\n",
    "all_headingVelo = []\n",
    "\n",
    "for i in range(len(allangles_vf_uw)):\n",
    "    flyAngle_uw = np.deg2rad(allangles_vf_uw[i])\n",
    "    #flyAngle_s = np.rad2deg(np.unwrap(np.deg2rad(flyAngle_wr), discont = np.pi))\n",
    "    SMagMx, SMagMn, SAmx, SAmn, SVmx, SVmn, headingVelo = fs.findSacs(flyAngle_uw, i, sFigPath, False)\n",
    "    all_SMagMx.append(SMagMx)\n",
    "    all_SMagMn.append(SMagMn)\n",
    "    all_SAmx.append(SAmx)\n",
    "    all_SAmn.append(SAmn)\n",
    "    all_SVmx.append(SVmx)\n",
    "    all_SVmn.append(SVmn)\n",
    "    all_headingVelo.append(headingVelo)"
   ]
  },
  {
   "cell_type": "code",
   "execution_count": 11,
   "metadata": {
    "code_folding": [
     0
    ],
    "collapsed": true
   },
   "outputs": [],
   "source": [
    "#plotting identified saccades, angular vel, angle, func\n",
    "def pltSacs_1(flyAngle, fly_n, sFigPath, headingVelo, SVMxThr, SVMnThr, flyAngleFilt, SSctnMx, SSctnMn, \\\n",
    "              SAmx, SAmn,):\n",
    "\n",
    "    a = (flyAngleFilt)\n",
    "    a_wr1 = np.arctan2(np.sin(np.deg2rad(a)), np.cos(np.deg2rad(a)))\n",
    "    a_wr = np.rad2deg(a_wr1)\n",
    "    \n",
    "    SSctnMx_wr1 = np.arctan2(np.sin(np.deg2rad(SSctnMx)), np.cos(np.deg2rad(SSctnMx)))\n",
    "    SSctnMx_wr = (np.rad2deg(SSctnMx_wr1))\n",
    "    SSctnMn_wr1 = np.arctan2(np.sin(np.deg2rad(SSctnMn)), np.cos(np.deg2rad(SSctnMn)))\n",
    "    SSctnMn_wr = (np.rad2deg(SSctnMn_wr1))\n",
    "    \n",
    "    #from mpl_functions import adjust_spines\n",
    "    import matplotlib.pyplot as plt\n",
    "    from matplotlib import gridspec\n",
    "    \n",
    "    sns.set_style(\"ticks\")\n",
    "    \n",
    "\n",
    "    # # default values for saccade ider\n",
    "    fVec, fs, headingVeloThresh, headingVeloCeil, magThresh, magCeil = \\\n",
    "    np.zeros_like(flyAngle),30., 60., 2500., 6., 180.\n",
    "\n",
    "\n",
    "    timeCol = np.arange(len(flyAngle))\n",
    "    sttT, endT = timeCol[0], timeCol[-1] # substitute if desired\n",
    "    figure_padding = 0.25\n",
    "    subplot_padding = 0.3\n",
    "    kleur2 = 'black'\n",
    "    lijnbreedte = .5\n",
    "    WoverH = 2. # figure ratio: W/H\n",
    "\n",
    "    headingVeloRange = 20 * headingVeloThresh\n",
    "\n",
    "    yLimMin, yLimMax = np.nanmin(flyAngle[10:-10]), np.nanmax(flyAngle[10:-10])\n",
    "\n",
    "    yLimMinPlt = yLimMin#-yRangeAdd\n",
    "\n",
    "    figH = 10.\n",
    "    figW = WoverH * figH\n",
    "    fig = plt.figure(figsize=(15,15))\n",
    "    fig.set_facecolor('w')\n",
    "\n",
    "    aspect_ratio = (4+subplot_padding)/(12.+subplot_padding)\n",
    "    \n",
    "    gs0 = gridspec.GridSpec(3, 1, height_ratios=[2,2,2]) #width_ratios=[20,1,1,1],\n",
    "    \n",
    "#     gs0.update(left=figure_padding*aspect_ratio, right=1-figure_padding*aspect_ratio,\n",
    "#                wspace=subplot_padding, hspace=subplot_padding,\n",
    "#                top=1-figure_padding+subplot_padding, bottom=figure_padding-subplot_padding)\n",
    "    \n",
    "    ax0 = fig.add_subplot(gs0[0, :])# headingVelo\n",
    "    ax2 = fig.add_subplot(gs0[1, :])# LmR and sacs\n",
    "    ax3 = fig.add_subplot(gs0[2, :])\n",
    "\n",
    "    #x= 0 line\n",
    "    ax0.axhspan(0, 0, alpha=1, color='k', zorder=0, linewidth=.5*lijnbreedte)\n",
    "    \n",
    "    #threshhold lines angular velocities\n",
    "    ax0.axhspan(headingVeloThresh, headingVeloThresh, linestyle='--',\n",
    "                alpha=.5, color='k', zorder=0, linewidth=0.5)\n",
    "    ax0.axhspan(-headingVeloThresh, -headingVeloThresh, linestyle='--',\n",
    "                alpha=.5, color='k', zorder=0, linewidth=0.5)\n",
    "    \n",
    "    #headingVeloCeil might not show up in graph\n",
    "    ax0.axhspan(headingVeloCeil, headingVeloCeil, linestyle=':',\n",
    "                alpha=1, color='g', zorder=1, linewidth=1)\n",
    "    ax0.axhspan(-headingVeloCeil, -headingVeloCeil, linestyle=':',\n",
    "                alpha=1, color='k', zorder=1, linewidth=1)\n",
    "\n",
    "    #angular velocity\n",
    "    ax0.plot(timeCol, headingVelo, color='k', zorder=2, linewidth=lijnbreedte)\n",
    "    ax0.plot(timeCol, SVMxThr, linestyle='None', marker='.', color='b', markersize=5, zorder=2)\n",
    "    ax0.plot(timeCol, SVMnThr, linestyle='None', marker='.', color='r', markersize=5, zorder=2)\n",
    "\n",
    "    #heading plotted in second graph\n",
    "    ax2.plot(timeCol, flyAngle, color='k', zorder=1, linewidth=1)\n",
    "    ax2.plot(timeCol, flyAngleFilt, color='g', zorder=1, linewidth=.5)\n",
    "    \n",
    "    #coloring the saccades in the heading in second plot\n",
    "    ax2.plot(timeCol, SSctnMx, color='b', zorder=2, linewidth=1)\n",
    "    ax2.plot(timeCol, SSctnMn, color='r', zorder=2, linewidth=1)\n",
    "\n",
    "    #heading plotted in third graph\n",
    "    #plt.scatter(np.arange(len(p))\n",
    "    \n",
    "    ax3.scatter(timeCol, a_wr, color='k', zorder=2, linewidth=1, s = 1)\n",
    "    ax3.axhspan(0, 0, alpha=1, color='g', zorder=1, linewidth=2)\n",
    "\n",
    "    ## Saccade ID overlays\n",
    "    #sIdcs = np.argwhere(np.abs(SAmx[~np.isnan(SAmx)])>0)\n",
    "    sIdcs = np.argwhere(np.abs(SAmx)>0)\n",
    "    for sIdx in sIdcs:\n",
    "        ax3.axvline(x=timeCol[sIdx], ymin=0., ymax=6., color='b', dashes=[1, 1], linewidth=lijnbreedte)\n",
    "    sIdcs = np.argwhere(np.abs(SAmn)>0)\n",
    "    for sIdx in sIdcs:\n",
    "        ax3.axvline(x=timeCol[sIdx], ymin=0., ymax=6., color='r', dashes=[1, 1], linewidth=lijnbreedte)\n",
    "\n",
    "\n",
    "    #coloring the saccades in the heading in second plot\n",
    "#     ax3.plot(timeCol, SSctnMx_wr, color='b', zorder=2, linewidth=1)\n",
    "#     ax3.plot(timeCol, SSctnMn_wr, color='r', zorder=2, linewidth=1)\n",
    "    ax3.scatter(timeCol, SSctnMx_wr, color='b', zorder=3, s = 1)\n",
    "    ax3.scatter(timeCol, SSctnMn_wr, color='r', zorder=3, s = 1)\n",
    "    \n",
    "    ##formatting##\n",
    "    ax0.set_ylabel('ang. vel. ($^\\circ$/s)', labelpad=0, fontname='Arial', fontsize = 16)\n",
    "    #ax0.yaxis.set_label_position('right')\n",
    "    ax0.set_xlim((sttT, endT))\n",
    "    ax0.set_ylim((-headingVeloRange,headingVeloRange)) #data\n",
    "\n",
    "    ax2.set_ylabel('angle unwr ($^\\circ$)', labelpad=1, fontname='Arial', fontsize = 16)\n",
    "    ax2.set_xlim((sttT, endT))\n",
    "    ax2.set_ylim((yLimMinPlt,yLimMax)) #data\n",
    "    \n",
    "    ax3.set_ylabel('angle ($^\\circ$)', labelpad=1, fontname='Arial', fontsize = 16)\n",
    "    ax3.set_xlim((sttT, endT)) \n",
    "    ax3.set_ylim([-180, 180])\n",
    "    ax3.set_yticks(np.arange(-180, 225,45))\n",
    "    \n",
    "    sns.despine()\n",
    "    ax0.tick_params(direction='in', length=8, width=2)\n",
    "    sns.despine(offset=10, trim=False);\n",
    "    ax0.spines['left'].set_linewidth(2)\n",
    "    ax0.spines['bottom'].set_linewidth(2)\n",
    "    #ax0.grid(True,linewidth=1)\n",
    "    ax0.set_xticklabels([])\n",
    "    ax0.yaxis.set_tick_params(labelsize=14)\n",
    "    \n",
    "    sns.despine()\n",
    "    ax2.tick_params(direction='in', length=8, width=2)\n",
    "    sns.despine(offset=10, trim=False);\n",
    "    ax2.spines['left'].set_linewidth(2)\n",
    "    ax2.spines['bottom'].set_linewidth(2)\n",
    "    #ax2.grid(True,linewidth=1)\n",
    "    ax2.set_xticklabels([])\n",
    "    ax2.yaxis.set_tick_params(labelsize=14)\n",
    "    \n",
    "    sns.despine()\n",
    "    ax3.tick_params(direction='in', length=8, width=2)\n",
    "    sns.despine(offset=10, trim=False);\n",
    "    ax3.spines['left'].set_linewidth(2)\n",
    "    ax3.spines['bottom'].set_linewidth(2)\n",
    "    #ax3.grid(True,linewidth=1)\n",
    "    ax3.xaxis.set_tick_params(labelsize=14)\n",
    "    ax3.yaxis.set_tick_params(labelsize=14)\n",
    "\n",
    "    if not os.path.exists(sFigPath):\n",
    "        #os.makedirs(sFigPath)\n",
    "        print('fig directory does not exist')\n",
    "    print ('figs can be found here: ' + sFigPath)\n",
    "\n",
    "#     #saving fig\n",
    "#     savePlotName = sFigPath + 'fly' + str(fly_n) +'_sac_t14'+ '.png'\n",
    "#     fig.savefig(savePlotName , bbox_inches='tight', dpi = 600)#dpi = 1200)\n",
    "#     plt.close"
   ]
  },
  {
   "cell_type": "code",
   "execution_count": 12,
   "metadata": {
    "code_folding": [],
    "collapsed": true
   },
   "outputs": [],
   "source": [
    "#tp = [5,11,12,14]"
   ]
  },
  {
   "cell_type": "code",
   "execution_count": 13,
   "metadata": {
    "code_folding": [],
    "scrolled": false
   },
   "outputs": [],
   "source": [
    "#run saccade identifier for single time bout (t)\n",
    "\n",
    "#path to save figs if True\n",
    "sFigPath_t = '/Users/fponce/Documents/vdesert/VD_030620/saccade_ider/'\n",
    "\n",
    "# all_SMagMx_t = []\n",
    "# all_SMagMn_t = []\n",
    "# all_SAmx_t = []\n",
    "# all_SAmn_t = []\n",
    "# all_SVmx_t = []\n",
    "# all_SVmn_t = []\n",
    "# all_headingVelo_t = []\n",
    "\n",
    "# tpj = 14\n",
    "# for i in range(len(allangles_vf_uw)):\n",
    "\n",
    "#     j1 = all_start_frames_m[i][tpj]\n",
    "#     j2 = all_end_frames_m[i][tpj]\n",
    "# #     j1 = 18923\n",
    "# #     j2 = 25523\n",
    "#     print(j1,j2)\n",
    "#     flyAngle_uw = allangles_vf_uw[i][j1:j2]\n",
    "    \n",
    "\n",
    "#     #flyAngle_s_t = np.rad2deg(np.unwrap(np.deg2rad(flyAngle_wr_t), discont = np.pi))\n",
    "    \n",
    "#     SMagMx_t, SMagMn_t, SAmx_t, SAmn_t, SVmx_t, SVmn_t, headingVelo_t, SVMxThr_t, SVMnThr_t, \\\n",
    "#     flyAngleFilt_t, SSctnMx_t, SSctnMn_t = fs_pt.findSacs_n_plot(flyAngle_uw, i, sFigPath_t, False)\n",
    "\n",
    "#     pltSacs_1(flyAngle_uw, i, sFigPath_t, headingVelo_t, SVMxThr_t, SVMnThr_t, flyAngleFilt_t,\\\n",
    "#               SSctnMx_t, SSctnMn_t, SAmx_t, SAmn_t)\n",
    "    \n",
    "    \n",
    "    \n",
    "#     all_SMagMx_t.append(SMagMx)\n",
    "#     all_SMagMn_t.append(SMagMn_t)\n",
    "#     all_SAmx_t.append(SAmx_t)\n",
    "#     all_SAmn_t.append(SAmn_t)\n",
    "#     all_SVmx_t.append(SVmx_t)\n",
    "#     all_SVmn_t.append(SVmn_t)\n",
    "#     all_headingVelo_t.append(headingVelo_t)"
   ]
  },
  {
   "cell_type": "code",
   "execution_count": 15,
   "metadata": {
    "collapsed": true
   },
   "outputs": [],
   "source": [
    "tp = [5,11,12]\n",
    "\n",
    "for j in range(len(tp)):\n",
    "    for i in range(len(allangles_vf_uw)): \n",
    "        \n",
    "        p = allangles_vf_uw[i][all_start_frames_m[i][tp[j]]:all_end_frames_m[i][tp[j]]]\n",
    "        \n",
    "        a_wr1 = np.arctan2(np.sin(np.deg2rad(p)), np.cos(np.deg2rad(p)))\n",
    "        a_wr = np.rad2deg(a_wr1)"
   ]
  },
  {
   "cell_type": "code",
   "execution_count": 104,
   "metadata": {
    "code_folding": [],
    "collapsed": true
   },
   "outputs": [],
   "source": [
    "#ff\n",
    "def KF( Y, Q, R, x1, P1, dt):\n",
    "\n",
    "    #Initialization\n",
    "    F = np.array([[1,    0,    dt,   0,      0.5*dt**2, 0], \n",
    "                  [0,    1,    0,    dt,     0,         0.5*dt**2],\n",
    "                  [0,    0,    1,    0,      dt,        0],\n",
    "                  [0,    0,    0,    1,      0,         dt],\n",
    "                  [0,    0,    0,    0,      1,         0],\n",
    "                  [0,    0,    0,    0,      0,         1]])\n",
    "\n",
    "    lx = len(Q)\n",
    "\n",
    "    H1 = np.zeros((2, 2))\n",
    "    np.fill_diagonal(H1, 1)\n",
    "    H2 = np.zeros((2, 4))\n",
    "    H = np.concatenate([H1,H2],axis = 1)\n",
    "\n",
    "    N = len(Y[1,:])\n",
    "\n",
    "    x = x1\n",
    "\n",
    "    P = P1\n",
    "\n",
    "    #Create matrices to save x_min, p_min, x_plus and p_plus.\n",
    "    x_min = np.zeros((lx,N))\n",
    "    p_min = np.zeros((lx,lx,N))\n",
    "    x_plus = np.zeros((lx,N))\n",
    "    p_plus = np.zeros((lx,lx,N))\n",
    "\n",
    "    #Forward Kalman Filter step.\n",
    "    for i in range(N):\n",
    "        x = F.dot(x)\n",
    "\n",
    "        P = (F.dot(P)).dot(np.transpose(F))+Q\n",
    "\n",
    "        x_min[:,i] = x\n",
    "\n",
    "        p_min[:,:,i] = P\n",
    "\n",
    "        k1 = P.dot(np.transpose(H))\n",
    "        k2 = (H.dot(P)).dot(np.transpose(H))+R\n",
    "        K = np.transpose(np.linalg.solve(np.transpose(k2),np.transpose(k1)))\n",
    "\n",
    "        x = x + K.dot(Y[:,i] - (H.dot(x)))\n",
    "\n",
    "        lx_1 = np.zeros((lx,lx))\n",
    "        np.fill_diagonal(lx_1, 1)\n",
    "        P = (lx_1-K.dot(H)).dot(P)\n",
    "\n",
    "        x_plus[:,i] = x\n",
    "        p_plus[:,:,i] = P\n",
    "\n",
    "    #Backward Rauch-Tung-Striebel smoother step.\n",
    "    xs = np.zeros((lx,N))\n",
    "    Ps = np.zeros((lx,lx,N))\n",
    "\n",
    "    for k in range(N)[::-1]:\n",
    "        if k+1 == N:\n",
    "            xs[:,k] = x_plus[:,k]\n",
    "            Ps[:,:,k] = p_plus[:,:,k]\n",
    "        else:\n",
    "            a1 = p_plus[:,:,k].dot(np.transpose(F))\n",
    "            a2 = p_min[:,:,k+1]\n",
    "            A = np.transpose(np.linalg.solve(np.transpose(a2),np.transpose(a1)))\n",
    "            xs[:,k] = x_plus[:,k] + A.dot(xs[:,k+1]-x_min[:,k+1])\n",
    "            Ps[:,:,k] = p_plus[:,:,k] + A.dot(Ps[:,:,k+1] - p_min[:,:,k+1]).dot(np.transpose(A))\n",
    "    return xs, Ps\n",
    "\n",
    "def get_xy_smooth( Y, dt, Q_vec ):\n",
    "    import numpy as np\n",
    "    Q = np.array([[Q_vec[0], 0, 0, 0, 0, 0], \n",
    "                  [0, Q_vec[1], 0, 0, 0, 0],\n",
    "                  [0, 0, Q_vec[2], 0, 0, 0],\n",
    "                  [0, 0, 0, Q_vec[3], 0, 0],\n",
    "                  [0, 0, 0, 0, Q_vec[4], 0],\n",
    "                  [0, 0, 0, 0, 0, Q_vec[5]]])\n",
    "    R = np.zeros((2, 2))\n",
    "    np.fill_diagonal(R, 1)\n",
    "\n",
    "    P1 = np.zeros((6, 6))\n",
    "    np.fill_diagonal(P1, 1)\n",
    "\n",
    "    #x1 = np.squeeze([np.zeros((2,1)), np.zeros((2,1)), np.zeros((2,1))])\n",
    "    x1 = np.zeros((1,6))\n",
    "    x1 = x1[0]\n",
    "    # Run KF for first time:\n",
    "    xs1, Ps1 = KF( Y, Q, R, x1, P1, dt )\n",
    "    x1 = xs1[:,0]\n",
    "    P1 = Ps1[:,:,0]\n",
    "    xs2, Ps2 = KF( Y, Q, R, x1, P1, dt )\n",
    "\n",
    "#modified by IVO\n",
    "#    X_smooth = np.zeros((5,5))\n",
    "#    X_smooth[0:1,:] = xs2[0:1,:]\n",
    "#    X_smooth[2:3,:] = xs2[2:3,:]\n",
    "#    X_smooth[4:5,:] = xs2[4:5,:]\n",
    "#    return X_smooth\n",
    "    return xs2\n",
    "\n",
    "#modified by IVO\n",
    "def KF_fxd_a(A, fs): \n",
    "    ## kalman filter that uses 'a' obtains from previously matched low-pass filtered trace. \n",
    "    #Is faster than KF_Lp_Match because no low-pass filtering is required \n",
    "    \n",
    "    #from kalmF import get_xy_smooth #KF, \n",
    "    if len(A.shape)<2:\n",
    "        A2d = np.vstack(( A, np.zeros_like(A) ))\n",
    "    else:\n",
    "        A2d = A\n",
    "            \n",
    "    dt = 1./fs\n",
    "    derivFact = fs/2.\n",
    "        \n",
    "#   a=.125 # consistently found to match a lp Fc = 6Hz when recording at 64 Hz in the pin tether, \n",
    "#   matching skipped for speed\n",
    "\n",
    "    a=0.0325 \n",
    "    # consistently found to match a lp Fc = 6Hz when recording at 100 Hz in the magno tether, \n",
    "    # matching skipped for speed\n",
    "    \n",
    "    b, c = derivFact*a, derivFact*a\n",
    "    Q_vec = [a,a, b/dt, b/dt, c/dt**2, c/dt**2]\n",
    "    t = get_xy_smooth(A2d, dt, Q_vec)\n",
    "\n",
    "    return t[0,:], t[1,:], t[2,:], t[3,:]"
   ]
  },
  {
   "cell_type": "code",
   "execution_count": 112,
   "metadata": {},
   "outputs": [],
   "source": [
    "def KF_fxd_a(A, fs): \n",
    "    ## kalman filter that uses 'a' obtains from previously matched low-pass filtered trace. \n",
    "    #Is faster than KF_Lp_Match because no low-pass filtering is required \n",
    "    \n",
    "    #from kalmF import get_xy_smooth #KF, \n",
    "    if len(A.shape)<2:\n",
    "        A2d = np.vstack(( A, np.zeros_like(A) ))\n",
    "    else:\n",
    "        A2d = A\n",
    "            \n",
    "    dt = 1./fs\n",
    "    derivFact = fs/2.\n",
    "        \n",
    "#   a=.125 # consistently found to match a lp Fc = 6Hz when recording at 64 Hz in the pin tether, \n",
    "#   matching skipped for speed\n",
    "\n",
    "    a=0.0325 \n",
    "    a = 0.0001\n",
    "    # consistently found to match a lp Fc = 6Hz when recording at 100 Hz in the magno tether, \n",
    "    # matching skipped for speed\n",
    "    \n",
    "    b, c = derivFact*a, derivFact*a\n",
    "    Q_vec = [a,a, b/dt, b/dt, c/dt**2, c/dt**2]\n",
    "    t = get_xy_smooth(A2d, dt, Q_vec)\n",
    "\n",
    "    return t[0,:], t[1,:], t[2,:], t[3,:]"
   ]
  },
  {
   "cell_type": "code",
   "execution_count": 113,
   "metadata": {},
   "outputs": [
    {
     "name": "stdout",
     "output_type": "stream",
     "text": [
      "5400\n"
     ]
    },
    {
     "data": {
      "image/png": "[encoded data removed]",
      "text/plain": [
       "<matplotlib.figure.Figure at 0x123cda0f0>"
      ]
     },
     "metadata": {},
     "output_type": "display_data"
    }
   ],
   "source": [
    "plt.plot(a_wr)\n",
    "print(len(a_wr))"
   ]
  },
  {
   "cell_type": "code",
   "execution_count": 114,
   "metadata": {},
   "outputs": [
    {
     "data": {
      "text/plain": [
       "[<matplotlib.lines.Line2D at 0x1241442e8>]"
      ]
     },
     "execution_count": 114,
     "metadata": {},
     "output_type": "execute_result"
    },
    {
     "data": {
      "image/png": "[encoded data removed]",
      "text/plain": [
       "<matplotlib.figure.Figure at 0x123d9bc18>"
      ]
     },
     "metadata": {},
     "output_type": "display_data"
    },
    {
     "data": {
      "image/png": "[encoded data removed]",
      "text/plain": [
       "<matplotlib.figure.Figure at 0x123d9ff98>"
      ]
     },
     "metadata": {},
     "output_type": "display_data"
    },
    {
     "data": {
      "image/png": "[encoded data removed]",
      "text/plain": [
       "<matplotlib.figure.Figure at 0x124004e48>"
      ]
     },
     "metadata": {},
     "output_type": "display_data"
    },
    {
     "data": {
      "image/png": "[encoded data removed]",
      "text/plain": [
       "<matplotlib.figure.Figure at 0x123ec0b70>"
      ]
     },
     "metadata": {},
     "output_type": "display_data"
    }
   ],
   "source": [
    "xx = KF_fxd_a(a_wr, 30)\n",
    "\n",
    "plt.figure()\n",
    "plt.plot(xx[0])\n",
    "\n",
    "plt.figure()\n",
    "plt.plot(xx[1])\n",
    "\n",
    "plt.figure()\n",
    "plt.plot(xx[2])\n",
    "\n",
    "plt.figure()\n",
    "plt.plot(xx[3])"
   ]
  },
  {
   "cell_type": "code",
   "execution_count": 84,
   "metadata": {
    "code_folding": [
     0
    ]
   },
   "outputs": [],
   "source": [
    "# #plotting\n",
    "# sns.set_style(\"ticks\")\n",
    "# tp = [5,11,12]\n",
    "# bckclr_labels = ['darkseagreen', 'lavender','lightyellow']\n",
    "# myc = [\"red\", \"medium green\", \"denim blue\"]\n",
    "# for j in range(len(tp)):\n",
    "#     fig, ax1 = plt.subplots(1,1,figsize=(15, 5))\n",
    "#     for i in range(len(allangles_vf_uw)): \n",
    "        \n",
    "#         p = allangles_vf_uw[i][all_start_frames_m[i][tp[j]]:all_end_frames_m[i][tp[j]]]\n",
    "        \n",
    "#         a_wr1 = np.arctan2(np.sin(np.deg2rad(p)), np.cos(np.deg2rad(p)))\n",
    "#         a_wr = np.rad2deg(a_wr1)\n",
    "\n",
    "#         ax1.plot((0,21600), (0,0), 'r', linewidth= 2)\n",
    "\n",
    "#         mycolor = list(np.random.choice(range(256), size=3))\n",
    "#         plt.scatter(np.arange(len(a_wr)), a_wr, c=sns.xkcd_rgb['black'], alpha=0.1, s=10)#,'k',alpha= 0.5)\n",
    "#         ax1.set_title(j)\n",
    "#         ax1.set_ylim([-200, 200])\n",
    "#         ax1.set_xlim([0, (len(a_wr))])\n",
    "        \n",
    "# #         ax1.set_xticks(np.arange(0, 5401, 1800))\n",
    "#         ax1.set_yticks(np.arange(-180, 225,45))\n",
    "#         ax1.yaxis.set_tick_params(labelsize=20)\n",
    "#         ax1.xaxis.set_tick_params(labelsize=20)\n",
    "#         sns.despine()\n",
    "#         ax1.tick_params(direction='in', length=8, width=2)\n",
    "#         sns.despine(offset=10, trim=False);\n",
    "#         ax1.spines['left'].set_linewidth(2)\n",
    "#         ax1.spines['bottom'].set_linewidth(2)\n",
    "#         ax1.grid(True,linewidth=2)  "
   ]
  },
  {
   "cell_type": "code",
   "execution_count": 77,
   "metadata": {
    "collapsed": true
   },
   "outputs": [],
   "source": [
    "#parameters KF\n",
    "dt = 0.0333\n",
    "a = 0.09\n",
    "Q_vec = [a,a/dt,a/dt**2]"
   ]
  },
  {
   "cell_type": "code",
   "execution_count": null,
   "metadata": {},
   "outputs": [],
   "source": []
  },
  {
   "cell_type": "code",
   "execution_count": 108,
   "metadata": {},
   "outputs": [
    {
     "ename": "IndexError",
     "evalue": "too many indices for array",
     "output_type": "error",
     "traceback": [
      "\u001b[0;31m---------------------------------------------------------------------------\u001b[0m",
      "\u001b[0;31mIndexError\u001b[0m                                Traceback (most recent call last)",
      "\u001b[0;32m<ipython-input-108-28dc35100ccb>\u001b[0m in \u001b[0;36m<module>\u001b[0;34m()\u001b[0m\n\u001b[1;32m      1\u001b[0m \u001b[0;34m\u001b[0m\u001b[0m\n\u001b[1;32m      2\u001b[0m \u001b[0;34m\u001b[0m\u001b[0m\n\u001b[0;32m----> 3\u001b[0;31m \u001b[0mxx\u001b[0m \u001b[0;34m=\u001b[0m \u001b[0mget_x_smooth\u001b[0m\u001b[0;34m(\u001b[0m\u001b[0;34m(\u001b[0m\u001b[0ma_wr\u001b[0m\u001b[0;34m)\u001b[0m\u001b[0;34m,\u001b[0m \u001b[0mdt\u001b[0m\u001b[0;34m,\u001b[0m \u001b[0mQ_vec\u001b[0m \u001b[0;34m)\u001b[0m\u001b[0;34m\u001b[0m\u001b[0m\n\u001b[0m\u001b[1;32m      4\u001b[0m \u001b[0;34m\u001b[0m\u001b[0m\n\u001b[1;32m      5\u001b[0m \u001b[0mprint\u001b[0m\u001b[0;34m(\u001b[0m\u001b[0mxx\u001b[0m\u001b[0;34m)\u001b[0m\u001b[0;34m\u001b[0m\u001b[0m\n",
      "\u001b[0;32m<ipython-input-41-bc1b59f2d8cf>\u001b[0m in \u001b[0;36mget_x_smooth\u001b[0;34m(Y, dt, Q_vec)\u001b[0m\n\u001b[1;32m     86\u001b[0m     \u001b[0;31m# Run KF for first time:\u001b[0m\u001b[0;34m\u001b[0m\u001b[0;34m\u001b[0m\u001b[0m\n\u001b[1;32m     87\u001b[0m \u001b[0;34m\u001b[0m\u001b[0m\n\u001b[0;32m---> 88\u001b[0;31m     \u001b[0mxs1\u001b[0m\u001b[0;34m,\u001b[0m \u001b[0mPs1\u001b[0m \u001b[0;34m=\u001b[0m \u001b[0mKF\u001b[0m\u001b[0;34m(\u001b[0m \u001b[0mY\u001b[0m\u001b[0;34m,\u001b[0m \u001b[0mQ\u001b[0m\u001b[0;34m,\u001b[0m \u001b[0mR\u001b[0m\u001b[0;34m,\u001b[0m \u001b[0mx1\u001b[0m\u001b[0;34m,\u001b[0m \u001b[0mP1\u001b[0m\u001b[0;34m,\u001b[0m \u001b[0mdt\u001b[0m \u001b[0;34m)\u001b[0m\u001b[0;34m\u001b[0m\u001b[0m\n\u001b[0m\u001b[1;32m     89\u001b[0m \u001b[0;34m\u001b[0m\u001b[0m\n\u001b[1;32m     90\u001b[0m     \u001b[0mx1\u001b[0m \u001b[0;34m=\u001b[0m \u001b[0mxs1\u001b[0m\u001b[0;34m[\u001b[0m\u001b[0;34m:\u001b[0m\u001b[0;34m,\u001b[0m\u001b[0;36m0\u001b[0m\u001b[0;34m]\u001b[0m\u001b[0;34m\u001b[0m\u001b[0m\n",
      "\u001b[0;32m<ipython-input-104-f8dba1c512ff>\u001b[0m in \u001b[0;36mKF\u001b[0;34m(Y, Q, R, x1, P1, dt)\u001b[0m\n\u001b[1;32m     17\u001b[0m     \u001b[0mH\u001b[0m \u001b[0;34m=\u001b[0m \u001b[0mnp\u001b[0m\u001b[0;34m.\u001b[0m\u001b[0mconcatenate\u001b[0m\u001b[0;34m(\u001b[0m\u001b[0;34m[\u001b[0m\u001b[0mH1\u001b[0m\u001b[0;34m,\u001b[0m\u001b[0mH2\u001b[0m\u001b[0;34m]\u001b[0m\u001b[0;34m,\u001b[0m\u001b[0maxis\u001b[0m \u001b[0;34m=\u001b[0m \u001b[0;36m1\u001b[0m\u001b[0;34m)\u001b[0m\u001b[0;34m\u001b[0m\u001b[0m\n\u001b[1;32m     18\u001b[0m \u001b[0;34m\u001b[0m\u001b[0m\n\u001b[0;32m---> 19\u001b[0;31m     \u001b[0mN\u001b[0m \u001b[0;34m=\u001b[0m \u001b[0mlen\u001b[0m\u001b[0;34m(\u001b[0m\u001b[0mY\u001b[0m\u001b[0;34m[\u001b[0m\u001b[0;36m1\u001b[0m\u001b[0;34m,\u001b[0m\u001b[0;34m:\u001b[0m\u001b[0;34m]\u001b[0m\u001b[0;34m)\u001b[0m\u001b[0;34m\u001b[0m\u001b[0m\n\u001b[0m\u001b[1;32m     20\u001b[0m \u001b[0;34m\u001b[0m\u001b[0m\n\u001b[1;32m     21\u001b[0m     \u001b[0mx\u001b[0m \u001b[0;34m=\u001b[0m \u001b[0mx1\u001b[0m\u001b[0;34m\u001b[0m\u001b[0m\n",
      "\u001b[0;31mIndexError\u001b[0m: too many indices for array"
     ]
    }
   ],
   "source": [
    "\n",
    "\n",
    "xx = get_x_smooth((a_wr), dt, Q_vec )\n",
    "\n",
    "print(xx)\n",
    "\n",
    "plt.plot(xx)"
   ]
  },
  {
   "cell_type": "code",
   "execution_count": null,
   "metadata": {
    "collapsed": true
   },
   "outputs": [],
   "source": []
  },
  {
   "cell_type": "code",
   "execution_count": null,
   "metadata": {
    "code_folding": [
     0
    ],
    "scrolled": false
   },
   "outputs": [],
   "source": [
    "# #density plots\n",
    "# sns.set_style(\"ticks\")\n",
    "\n",
    "# #run saccade identifier for single time bout (t)\n",
    "\n",
    "# #path to save figs if True\n",
    "# sFigPath_t = '/Users/fponce/Documents/vdesert/VD_030620/saccade_ider/'\n",
    "\n",
    "# # all_SMagMx_t = []\n",
    "# # all_SMagMn_t = []\n",
    "# # all_SAmx_t = []\n",
    "# # all_SAmn_t = []\n",
    "# # all_SVmx_t = []\n",
    "# # all_SVmn_t = []\n",
    "# # all_headingVelo_t = []\n",
    "# tp = 0\n",
    "# tpj = 12\n",
    "# for i in range(len(allangles_vf_uw)):\n",
    "\n",
    "#     j1 = all_start_frames_m[i][tpj]\n",
    "#     j2 = all_end_frames_m[i][tpj]\n",
    "# #     j1 = 18923\n",
    "# #     j2 = 25523\n",
    "#     #print(j1,j2)\n",
    "#     flyAngle_uw = allangles_vf_uw[i][j1:j2]\n",
    "    \n",
    "#     a_wr1 = np.arctan2(np.sin(np.deg2rad(flyAngle_uw)), np.cos(np.deg2rad(flyAngle_uw)))\n",
    "#     a_wr = np.rad2deg(a_wr1)\n",
    "    \n",
    "\n",
    "#     #flyAngle_s_t = np.rad2deg(np.unwrap(np.deg2rad(flyAngle_wr_t), discont = np.pi))\n",
    "    \n",
    "#     SMagMx_t, SMagMn_t, SAmx_t, SAmn_t, SVmx_t, SVmn_t, headingVelo_t, SVMxThr_t, SVMnThr_t, \\\n",
    "#     flyAngleFilt_t, SSctnMx_t, SSctnMn_t = fs_pt.findSacs_n_plot(flyAngle_uw, i, sFigPath_t, False)\n",
    "    \n",
    "#     nan_array = np.isnan(SMagMx_t)\n",
    "#     not_nan_array = ~ nan_array\n",
    "#     array2 = a_wr[not_nan_array]\n",
    "    \n",
    "\n",
    "#     nan_array1 = np.isnan(SMagMn_t)\n",
    "#     not_nan_array1 = ~ nan_array1\n",
    "#     array3 = a_wr[not_nan_array1]\n",
    "    \n",
    "#     plt.figure()\n",
    "#     fig, ax1 = plt.subplots(1,1,figsize=(15, 5)) \n",
    "    \n",
    "#     k = sns.distplot(array2,bins=[-180, -135, -90, -45, 0, 45, 90, 135, 180], hist=True, norm_hist=True)\n",
    "#     plt.title(i)\n",
    "    \n",
    "#     ax1.patch.set_facecolor('lavender')\n",
    "#     sns.set_style(\"ticks\")\n",
    "#     sns.despine()\n",
    "#     ax1.autoscale()\n",
    "#     #ax1.set_title('gain = '+str(test_gains[j]),fontsize = 20, fontweight='bold')\n",
    "#    #plt.ylim(0, None)\n",
    "#     #plt.ylim(0, 0.025)\n",
    "#     ax1.tick_params(direction='out', length=8, width=2)\n",
    "#     sns.despine(offset=10, trim=False);\n",
    "#     ax1.spines['left'].set_smart_bounds(True)\n",
    "#     ax1.spines['bottom'].set_smart_bounds(True)\n",
    "#     ax1.spines['left'].set_linewidth(2)\n",
    "#     ax1.spines['bottom'].set_linewidth(2)\n",
    "#     #ax1.grid(False,linewidth=2)\n",
    "#     ax1.yaxis.set_tick_params(labelsize=20)\n",
    "#     ax1.xaxis.set_tick_params(labelsize=20)\n",
    "#     ax1.set_xlabel('Frames', fontsize=20)\n",
    "    \n",
    "# #     plt.figure()\n",
    "# #     fig, ax1 = plt.subplots(1,1,figsize=(15, 5))\n",
    "#     p = sns.distplot(array3,bins=[-180, -135, -90, -45, 0, 45, 90, 135, 180], hist=True, norm_hist=True, color='red')\n",
    "#     plt.title('fly' + str(i) +'_sac_pdf_t12', fontsize=25)\n",
    "    \n",
    "#     ax1.patch.set_facecolor('lavender')\n",
    "#     sns.set_style(\"ticks\")\n",
    "#     sns.despine()\n",
    "#     ax1.autoscale()\n",
    "#     #ax1.set_title('gain = '+str(test_gains[j]),fontsize = 20, fontweight='bold')\n",
    "#    #plt.ylim(0, None)\n",
    "#     #plt.ylim(0, 0.025)\n",
    "#     ax1.tick_params(direction='out', length=8, width=2)\n",
    "#     sns.despine(offset=10, trim=False);\n",
    "#     ax1.spines['left'].set_smart_bounds(True)\n",
    "#     ax1.spines['bottom'].set_smart_bounds(True)\n",
    "#     ax1.spines['left'].set_linewidth(2)\n",
    "#     ax1.spines['bottom'].set_linewidth(2)\n",
    "#     #ax1.grid(False,linewidth=2)\n",
    "#     ax1.yaxis.set_tick_params(labelsize=20)\n",
    "#     ax1.xaxis.set_tick_params(labelsize=20)\n",
    "#     ax1.set_xlabel('Frames', fontsize=20)\n",
    "    \n",
    "#     #saving fig\n",
    "#     savePlotName = sFigPath + 'fly' + str(i) +'_sac_pdf_t12'+'.png'\n",
    "#     fig.savefig(savePlotName , bbox_inches='tight', dpi = 600)#dpi = 1200)\n",
    "#     plt.close"
   ]
  },
  {
   "cell_type": "code",
   "execution_count": null,
   "metadata": {
    "collapsed": true
   },
   "outputs": [],
   "source": []
  },
  {
   "cell_type": "code",
   "execution_count": null,
   "metadata": {
    "collapsed": true
   },
   "outputs": [],
   "source": []
  },
  {
   "cell_type": "code",
   "execution_count": null,
   "metadata": {
    "collapsed": true
   },
   "outputs": [],
   "source": []
  },
  {
   "cell_type": "code",
   "execution_count": null,
   "metadata": {
    "collapsed": true
   },
   "outputs": [],
   "source": []
  },
  {
   "cell_type": "code",
   "execution_count": null,
   "metadata": {
    "collapsed": true
   },
   "outputs": [],
   "source": []
  },
  {
   "cell_type": "code",
   "execution_count": 13,
   "metadata": {
    "code_folding": [],
    "collapsed": true
   },
   "outputs": [],
   "source": [
    "# #magnitude vs speed\n",
    "# sns.set_style(\"ticks\")\n",
    "# fig, ax1 = plt.subplots(1,1,figsize=(10, 10))\n",
    "# for i in range(len(allangles_vf_filt)):\n",
    "    \n",
    "#     #fig, ax1 = plt.subplots(1,1,figsize=(15, 5))\n",
    "#     plt.plot(all_SMagMx[i], all_SVmx[i], '.', color = sns.xkcd_rgb[\"denim blue\"], markersize=12, alpha = 0.5)\n",
    "    \n",
    "#     ax1.set_title('Saccade magnitude vs speed', fontname='Arial', fontsize = 22)\n",
    "#     ax1.set_xlabel('saccade magnitude', fontsize=18)\n",
    "#     ax1.set_ylabel('saccade speed', fontsize=18)\n",
    "# #     ax1.set_ylim([0, 400])\n",
    "# #     ax1.set_xlim([0, (len(p))])\n",
    "# #     ax1.set_xlim([3800, 4100])\n",
    "\n",
    "# #   ax1.set_xticks(np.arange(0, 5401, 1800))\n",
    "# #     ax1.set_yticks(np.arange(-180, 225,45))\n",
    "#     ax1.yaxis.set_tick_params(labelsize=20)\n",
    "#     ax1.xaxis.set_tick_params(labelsize=20)\n",
    "#     sns.despine()\n",
    "#     ax1.tick_params(direction='in', length=8, width=2)\n",
    "#     sns.despine(offset=10, trim=False);\n",
    "#     ax1.spines['left'].set_linewidth(2)\n",
    "#     ax1.spines['bottom'].set_linewidth(2)\n",
    "#     ax1.grid(True,linewidth=2)    "
   ]
  },
  {
   "cell_type": "code",
   "execution_count": null,
   "metadata": {
    "collapsed": true
   },
   "outputs": [],
   "source": []
  },
  {
   "cell_type": "code",
   "execution_count": null,
   "metadata": {
    "collapsed": true
   },
   "outputs": [],
   "source": []
  },
  {
   "cell_type": "code",
   "execution_count": null,
   "metadata": {
    "collapsed": true
   },
   "outputs": [],
   "source": []
  },
  {
   "cell_type": "code",
   "execution_count": null,
   "metadata": {
    "collapsed": true
   },
   "outputs": [],
   "source": []
  },
  {
   "cell_type": "code",
   "execution_count": null,
   "metadata": {
    "collapsed": true
   },
   "outputs": [],
   "source": []
  },
  {
   "cell_type": "code",
   "execution_count": null,
   "metadata": {
    "collapsed": true
   },
   "outputs": [],
   "source": []
  }
 ],
 "metadata": {
  "kernelspec": {
   "display_name": "Python 3",
   "language": "python",
   "name": "python3"
  },
  "language_info": {
   "codemirror_mode": {
    "name": "ipython",
    "version": 3
   },
   "file_extension": ".py",
   "mimetype": "text/x-python",
   "name": "python",
   "nbconvert_exporter": "python",
   "pygments_lexer": "ipython3",
   "version": "3.6.1"
  }
 },
 "nbformat": 4,
 "nbformat_minor": 2
}
