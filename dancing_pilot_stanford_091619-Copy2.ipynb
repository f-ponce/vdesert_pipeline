{
 "cells": [
  {
   "cell_type": "code",
   "execution_count": 1,
   "metadata": {
    "code_folding": [
     0
    ],
    "collapsed": true
   },
   "outputs": [],
   "source": [
    "#import packages\n",
    "import numpy as np\n",
    "import copy\n",
    "import pandas\n",
    "import os\n",
    "import imp\n",
    "import pickle\n",
    "from scipy.interpolate import interp1d\n",
    "import warnings\n",
    "import time\n",
    "import matplotlib.pyplot as plt\n",
    "import inspect\n",
    "import types\n",
    "import math as mat\n",
    "import seaborn as sns\n",
    "import matplotlib.gridspec as gridspec\n",
    "from matplotlib.colors import LogNorm\n",
    "import datetime\n",
    "from matplotlib import animation\n",
    "from IPython.display import HTML\n",
    "from tempfile import NamedTemporaryFile\n",
    "import matplotlib.backends.backend_pdf\n",
    "from scipy import interpolate\n",
    "from itertools import groupby\n",
    "import re\n",
    "import csv\n",
    "import copy\n",
    "from fnmatch import fnmatch\n",
    "import json\n",
    "import copy\n",
    "import math\n",
    "import glob\n",
    "pi = math.pi\n",
    "\n",
    "sns.set()\n",
    "sns.set_style()\n",
    "%matplotlib inline"
   ]
  },
  {
   "cell_type": "code",
   "execution_count": 2,
   "metadata": {
    "code_folding": [
     0
    ],
    "collapsed": true
   },
   "outputs": [],
   "source": [
    "#functions\n",
    "def get_elapsed_time(my_list):\n",
    "#for list of lists\n",
    "    all_t_ellapsed = []\n",
    "    for i in range(len(my_list)):\n",
    "        t_ellapsed = my_list[i] - my_list[0]\n",
    "        all_t_ellapsed.append(t_ellapsed)\n",
    "    return all_t_ellapsed\n",
    "\n",
    "def create_circle():\n",
    "    circle= plt.Circle((0,0), radius= 1)\n",
    "    return circle\n",
    "\n",
    "def show_shape(patch):\n",
    "    ax=plt.gca()\n",
    "    ax.add_patch(patch)\n",
    "    plt.axis('scaled')\n",
    "    plt.show()"
   ]
  },
  {
   "cell_type": "code",
   "execution_count": 3,
   "metadata": {
    "scrolled": false
   },
   "outputs": [
    {
     "name": "stdout",
     "output_type": "stream",
     "text": [
      "411\n"
     ]
    }
   ],
   "source": [
    "dataDir = \"/Users/fponce/Documents/pilot_stanford_091719/with_opto_files_novideos\"\n",
    "\n",
    "mystr = 'trial*'\n",
    "\n",
    "datapaths = []\n",
    "for path, subdirs, files in os.walk(dataDir):\n",
    "    for name in files:\n",
    "        #all_files.append(name)\n",
    "        if fnmatch(name, mystr):\n",
    "            datapaths.append(os.path.join(path, name))\n",
    "\n",
    "print(len(datapaths))\n",
    "\n",
    "#renaming files that end with .txt with the name of their directory + filename\n",
    "# for f in datapaths:\n",
    "#     ff = (os.path.dirname(f))\n",
    "#     k = os.path.split(os.path.dirname(f))[-1]\n",
    "#     k1 = os.path.basename(f)\n",
    "#     os.rename(f, os.path.join(ff, k+'_'+k1)) "
   ]
  },
  {
   "cell_type": "code",
   "execution_count": 4,
   "metadata": {},
   "outputs": [
    {
     "name": "stdout",
     "output_type": "stream",
     "text": [
      "137\n"
     ]
    }
   ],
   "source": [
    "mystr = 'exp*'\n",
    "\n",
    "exp_datapaths = []\n",
    "for path, subdirs, files in os.walk(dataDir):\n",
    "    for name in subdirs:\n",
    "        #all_files.append(name)\n",
    "        if fnmatch(name, mystr):\n",
    "            exp_datapaths.append(os.path.join(path, name))\n",
    "\n",
    "#taken from metadata file\n",
    "food_condition_per_exp = [15,10,5,15,10,15,10,15,5,5,20]\n",
    "\n",
    "all_fc = []\n",
    "for i in range(len(exp_datapaths)):\n",
    "    fc = np.ones(len(next(os.walk(exp_datapaths[i]))[1]))*food_condition_per_exp[i]\n",
    "    all_fc.append(fc)\n",
    "\n",
    "#flattening list\n",
    "all_fc = [y for x in all_fc for y in x]\n",
    "print(len(all_fc))"
   ]
  },
  {
   "cell_type": "code",
   "execution_count": 5,
   "metadata": {
    "code_folding": [
     0
    ],
    "collapsed": true
   },
   "outputs": [],
   "source": [
    "#used to remove videos\n",
    "\n",
    "# mystr = '*.mkv'\n",
    "\n",
    "# datapaths = []\n",
    "# for path, subdirs, files in os.walk(dataDir):\n",
    "#     for name in files:\n",
    "#         all_files.append(name)\n",
    "#         if fnmatch(name, mystr):\n",
    "#             datapaths.append(os.path.join(path, name))\n",
    "\n",
    "# for f in datapaths:\n",
    "#     os.remove(f)"
   ]
  },
  {
   "cell_type": "code",
   "execution_count": 6,
   "metadata": {
    "scrolled": false
   },
   "outputs": [
    {
     "name": "stdout",
     "output_type": "stream",
     "text": [
      "137\n",
      "137\n",
      "137\n",
      "/Users/fponce/Documents/pilot_stanford_091719/with_opto_files_novideos/exp-20190828-094443/trial-1-20190828-095102/trial-1-20190828-095102_cnc.txt\n",
      "/Users/fponce/Documents/pilot_stanford_091719/with_opto_files_novideos/exp-20190828-094443/trial-1-20190828-095102/trial-1-20190828-095102_cam.txt\n",
      "/Users/fponce/Documents/pilot_stanford_091719/with_opto_files_novideos/exp-20190828-094443/trial-1-20190828-095102/trial-1-20190828-095102_opto.txt\n"
     ]
    }
   ],
   "source": [
    "#making a list of paths to files\n",
    "\n",
    "#finding cnc files\n",
    "str_cnc = '*cnc.txt'\n",
    "\n",
    "datapaths_cnc = []\n",
    "for path, subdirs, files in os.walk(dataDir):\n",
    "    for name in files:\n",
    "        if fnmatch(name, str_cnc):\n",
    "            datapaths_cnc.append(os.path.join(path, name))\n",
    "print(len(datapaths_cnc))\n",
    "\n",
    "#finding cam files\n",
    "str_cam = '*cam.txt'\n",
    "\n",
    "datapaths_cam = []\n",
    "for path, subdirs, files in os.walk(dataDir):\n",
    "    for name in files:\n",
    "        if fnmatch(name, str_cam):\n",
    "            datapaths_cam.append(os.path.join(path, name))\n",
    "print(len(datapaths_cam))\n",
    "\n",
    "str_opto = '*opto.txt'\n",
    "\n",
    "datapaths_opto = []\n",
    "for path, subdirs, files in os.walk(dataDir):\n",
    "    for name in files:\n",
    "        if fnmatch(name, str_opto):\n",
    "            datapaths_opto.append(os.path.join(path, name))\n",
    "print(len(datapaths_opto))\n",
    "\n",
    "print(datapaths_cnc[0])\n",
    "print(datapaths_cam[0])\n",
    "print(datapaths_opto[0])"
   ]
  },
  {
   "cell_type": "code",
   "execution_count": 7,
   "metadata": {
    "code_folding": [
     0
    ],
    "collapsed": true
   },
   "outputs": [],
   "source": [
    "#reading in the data (t,x,y) into separate lists and \n",
    "#appending them into a list of all the files tested\n",
    "\n",
    "#cnc files\n",
    "allfiles_t_cnc_s = []\n",
    "allfiles_x_cnc_s = []\n",
    "allfiles_y_cnc_s = []        \n",
    "for i in range(len(datapaths_cnc)):\n",
    "    t_cnc = []\n",
    "    x_cnc = []\n",
    "    y_cnc = []\n",
    "    with open (datapaths_cnc[i]) as myfile:\n",
    "        for line in myfile:\n",
    "            x1,x2,x3 = line.rstrip().split(',')\n",
    "            t_cnc.append(x1)\n",
    "            x_cnc.append(x2)\n",
    "            y_cnc.append(x3)\n",
    "    allfiles_t_cnc_s.append(t_cnc)\n",
    "    allfiles_x_cnc_s.append(x_cnc)\n",
    "    allfiles_y_cnc_s.append(y_cnc)\n",
    "\n",
    "#cam files\n",
    "allfiles_t_cam_s = []\n",
    "allfiles_x_cam_s = []\n",
    "allfiles_y_cam_s = [] \n",
    "allfiles_a_cam_s = [] #angle\n",
    "for i in range(len(datapaths_cam)):\n",
    "    t_cam = []\n",
    "    x_cam = []\n",
    "    y_cam = []\n",
    "    a_cam = []\n",
    "    with open (datapaths_cam[i]) as myfile:\n",
    "        for line in myfile:\n",
    "            x1,x2,x3,x4 = line.rstrip().split(',')\n",
    "            t_cam.append(x1)\n",
    "            x_cam.append(x2)\n",
    "            y_cam.append(x3)\n",
    "            a_cam.append(x4)\n",
    "    allfiles_t_cam_s.append(t_cam)\n",
    "    allfiles_x_cam_s.append(x_cam)\n",
    "    allfiles_y_cam_s.append(y_cam)\n",
    "    allfiles_a_cam_s.append(a_cam)\n",
    "    \n",
    "#opto files    \n",
    "allfiles_t_food_s = []\n",
    "allfiles_x_food_s = []\n",
    "allfiles_y_food_s = [] \n",
    "allfiles_t_led_s = []\n",
    "allfiles_status_led_s = []\n",
    "for i in range(len(datapaths_opto)):\n",
    "    t_food = []\n",
    "    x_food = []\n",
    "    y_food = []\n",
    "    t_led = []\n",
    "    status_led = []\n",
    "    with open (datapaths_opto[i]) as myfile:\n",
    "        for line in myfile:\n",
    "            x = line.rstrip().split(',')\n",
    "            if x[0] == 'food':\n",
    "                x1,x2,x3,x4 = line.rstrip().split(',')\n",
    "                t_food.append(x2)\n",
    "                x_food.append(x3)\n",
    "                y_food.append(x4)\n",
    "            elif x[0] == 'led':\n",
    "                x1,x2,x3 = line.rstrip().split(',')\n",
    "                t_led.append(x2)\n",
    "                status_led.append(x3)  \n",
    "    allfiles_t_food_s.append(t_food)\n",
    "    allfiles_x_food_s.append(x_food)\n",
    "    allfiles_y_food_s.append(y_food) \n",
    "    allfiles_t_led_s.append(t_led)\n",
    "    allfiles_status_led_s.append(status_led)"
   ]
  },
  {
   "cell_type": "code",
   "execution_count": 9,
   "metadata": {},
   "outputs": [
    {
     "name": "stdout",
     "output_type": "stream",
     "text": [
      "14\n",
      "14\n"
     ]
    }
   ],
   "source": [
    "print(len(allfiles_t_led_s[1]))\n",
    "print(len(allfiles_status_led_s[1]))\n"
   ]
  },
  {
   "cell_type": "code",
   "execution_count": 10,
   "metadata": {
    "code_folding": [
     0
    ],
    "collapsed": true
   },
   "outputs": [],
   "source": [
    "#transform values in lists from strings to floats and get rid of the first line which are strings (t,x,y)\n",
    "\n",
    "#cnc\n",
    "allfiles_t_cnc = []\n",
    "allfiles_x_cnc = []\n",
    "allfiles_y_cnc = []        \n",
    "for i in range(len(allfiles_t_cnc_s)):\n",
    "    t_cnc_file = []\n",
    "    x_cnc_file = []\n",
    "    y_cnc_file = []\n",
    "    for j in range(1,len(allfiles_t_cnc_s[i])):\n",
    "        t_cnc = float(allfiles_t_cnc_s[i][j])\n",
    "        x_cnc = float(allfiles_x_cnc_s[i][j])\n",
    "        y_cnc = float(allfiles_y_cnc_s[i][j])\n",
    "        t_cnc_file.append(t_cnc)\n",
    "        x_cnc_file.append(x_cnc)\n",
    "        y_cnc_file.append(y_cnc)\n",
    "    allfiles_t_cnc.append(t_cnc_file)\n",
    "    allfiles_x_cnc.append(x_cnc_file)\n",
    "    allfiles_y_cnc.append(y_cnc_file)\n",
    "\n",
    "#cam\n",
    "allfiles_t_cam = []\n",
    "allfiles_x_cam = []\n",
    "allfiles_y_cam = []        \n",
    "for i in range(len(allfiles_t_cam_s)):\n",
    "    t_cam_file = []\n",
    "    x_cam_file = []\n",
    "    y_cam_file = []\n",
    "    for j in range(1,len(allfiles_t_cam_s[i])):\n",
    "        t_cam = float(allfiles_t_cam_s[i][j])\n",
    "        x_cam = float(allfiles_x_cam_s[i][j])\n",
    "        y_cam = float(allfiles_y_cam_s[i][j])\n",
    "        t_cam_file.append(t_cam)\n",
    "        x_cam_file.append(x_cam)\n",
    "        y_cam_file.append(y_cam)\n",
    "    allfiles_t_cam.append(t_cam_file)\n",
    "    allfiles_x_cam.append(x_cam_file)\n",
    "    allfiles_y_cam.append(y_cam_file)\n",
    "\n",
    "#opto\n",
    "#food\n",
    "allfiles_t_food = []\n",
    "allfiles_x_food = []\n",
    "allfiles_y_food = []    \n",
    "for i in range(len(allfiles_t_food_s)):\n",
    "    t_food_file = []\n",
    "    x_food_file = []\n",
    "    y_food_file = [] \n",
    "    for j in range(len(allfiles_t_food_s[i])):\n",
    "        t_food = float(allfiles_t_food_s[i][j])\n",
    "        x_food = float(allfiles_x_food_s[i][j])\n",
    "        y_food = float(allfiles_y_food_s[i][j])\n",
    "        t_food_file.append(t_food)\n",
    "        x_food_file.append(x_food)\n",
    "        y_food_file.append(y_food)\n",
    "    allfiles_t_food.append(t_food_file)\n",
    "    allfiles_x_food.append(x_food_file)\n",
    "    allfiles_y_food.append(y_food_file)\n",
    "\n",
    "#led    \n",
    "allfiles_t_led = []  \n",
    "for i in range(len(allfiles_t_led_s)):\n",
    "    t_led_file = []\n",
    "    for j in range(len(allfiles_t_led_s[i])):\n",
    "        t_led = float(allfiles_t_led_s[i][j])\n",
    "        t_led_file.append(t_led )\n",
    "    allfiles_t_led.append(t_led_file)\n",
    "    \n",
    "allfiles_status_led = []  \n",
    "for i in range(len(allfiles_status_led_s)):\n",
    "    allfiles_status_led_file = []\n",
    "    for j in range(len(allfiles_status_led_s[i])):\n",
    "        s_led = str(allfiles_status_led_s[i][j])\n",
    "        allfiles_status_led_file.append(s_led)\n",
    "    allfiles_status_led.append(allfiles_status_led_file)\n",
    "    \n",
    "#checking in files are empty and erasing the cnc, cam, opto\n",
    "#files that correspond to that experiment\n",
    "all_files_to_erase = []\n",
    "for i in range(len(datapaths_cnc)):\n",
    "    if len(allfiles_t_cnc[i])>0 and len(allfiles_t_cam[i])>0:\n",
    "        pass\n",
    "    else:\n",
    "        all_files_to_erase.append(i)\n",
    "\n",
    "allfiles_t_cnc = np.delete(allfiles_t_cnc, all_files_to_erase).tolist()\n",
    "allfiles_x_cnc = np.delete(allfiles_x_cnc, all_files_to_erase).tolist()\n",
    "allfiles_y_cnc = np.delete(allfiles_y_cnc, all_files_to_erase).tolist()\n",
    "    \n",
    "allfiles_t_cam = np.delete(allfiles_t_cam, all_files_to_erase).tolist()\n",
    "allfiles_x_cam = np.delete(allfiles_x_cam, all_files_to_erase).tolist()\n",
    "allfiles_y_cam = np.delete(allfiles_y_cam, all_files_to_erase).tolist()\n",
    "\n",
    "allfiles_t_food = np.delete(allfiles_t_food, all_files_to_erase).tolist()\n",
    "allfiles_x_food = np.delete(allfiles_x_food, all_files_to_erase).tolist()\n",
    "allfiles_y_food = np.delete(allfiles_y_food, all_files_to_erase).tolist()\n",
    "    \n",
    "allfiles_t_led = np.delete(allfiles_t_led, all_files_to_erase).tolist()\n",
    "allfiles_status_led = np.delete(allfiles_status_led, all_files_to_erase).tolist()"
   ]
  },
  {
   "cell_type": "code",
   "execution_count": 12,
   "metadata": {},
   "outputs": [
    {
     "name": "stdout",
     "output_type": "stream",
     "text": [
      "50\n",
      "50\n"
     ]
    }
   ],
   "source": [
    "print(len(allfiles_t_led[0]))\n",
    "print(len(allfiles_status_led[0]))"
   ]
  },
  {
   "cell_type": "code",
   "execution_count": 9,
   "metadata": {
    "code_folding": [
     0
    ],
    "collapsed": true
   },
   "outputs": [],
   "source": [
    "#getting elapsed times\n",
    "allfiles_et_cnc = []\n",
    "allfiles_et_cam = []\n",
    "allfiles_et_food = []\n",
    "allfiles_et_led = []\n",
    "for i in range(len(allfiles_t_cnc)):\n",
    "    et_cnc = get_elapsed_time((allfiles_t_cnc[i]))\n",
    "    et_cam = get_elapsed_time((allfiles_t_cam[i]))\n",
    "    et_food = get_elapsed_time((allfiles_t_food[i]))\n",
    "    et_led = get_elapsed_time((allfiles_t_led[i]))\n",
    "    allfiles_et_cnc.append(et_cnc)\n",
    "    allfiles_et_cam.append(et_cam)\n",
    "    allfiles_et_food.append(et_food)\n",
    "    allfiles_et_led.append(et_led)"
   ]
  },
  {
   "cell_type": "code",
   "execution_count": 10,
   "metadata": {
    "code_folding": []
   },
   "outputs": [
    {
     "name": "stdout",
     "output_type": "stream",
     "text": [
      "136\n",
      "136\n"
     ]
    }
   ],
   "source": [
    "#get the common code for each trial of cnc, cam, and opto files\n",
    "all_experiment_names = []\n",
    "for i in range(len(datapaths_cam)):\n",
    "    exp_name = os.path.split(os.path.dirname(datapaths_cnc[i]))[-1]\n",
    "    all_experiment_names.append(exp_name)\n",
    "\n",
    "all_experiment_names = np.delete(all_experiment_names, all_files_to_erase).tolist()\n",
    "print(len(all_experiment_names))\n",
    "\n",
    "all_food_condition = np.delete(all_fc, all_files_to_erase).tolist()\n",
    "print(len(all_food_condition))"
   ]
  },
  {
   "cell_type": "code",
   "execution_count": null,
   "metadata": {
    "collapsed": true
   },
   "outputs": [],
   "source": []
  },
  {
   "cell_type": "code",
   "execution_count": null,
   "metadata": {
    "collapsed": true
   },
   "outputs": [],
   "source": []
  },
  {
   "cell_type": "code",
   "execution_count": 11,
   "metadata": {
    "code_folding": [],
    "collapsed": true
   },
   "outputs": [],
   "source": [
    "#interpolating using a vector the size of cnc time (why not cam?, ?)\n",
    "\n",
    "allfiles_x_cnc_reg = []\n",
    "allfiles_y_cnc_reg = []\n",
    "allfiles_x_cam_reg = []\n",
    "allfiles_y_cam_reg = []\n",
    "allfiles_t_reg = []\n",
    "for i in range(len(allfiles_t_cnc)):\n",
    "    \n",
    "    reg_t_cnc = np.arange(0, allfiles_et_cnc[i][-1],0.01)\n",
    "    reg_t_cam = np.arange(0, allfiles_et_cam[i][-1],0.01)\n",
    "    if len(reg_t_cnc)>=len(reg_t_cam):\n",
    "        reg_t = reg_t_cnc\n",
    "    else:\n",
    "        reg_t = reg_t_cam\n",
    "\n",
    "    f_x_cnc = interp1d(allfiles_et_cnc[i], allfiles_x_cnc[i], bounds_error=False)\n",
    "    f_y_cnc = interp1d(allfiles_et_cnc[i], allfiles_y_cnc[i], bounds_error=False)\n",
    "\n",
    "    f_x_cam = interp1d(allfiles_et_cam[i], allfiles_x_cam[i], bounds_error=False)\n",
    "    f_y_cam = interp1d(allfiles_et_cam[i], allfiles_y_cam[i], bounds_error=False)       \n",
    "\n",
    "    try:\n",
    "        x_cnc_reg = f_x_cnc(reg_t)\n",
    "        y_cnc_reg = f_y_cnc(reg_t)\n",
    "\n",
    "        x_cam_reg = f_x_cam(reg_t)\n",
    "        y_cam_reg = f_y_cam(reg_t)\n",
    "\n",
    "    except:\n",
    "        print('cant interpolate')\n",
    "\n",
    "    allfiles_x_cnc_reg.append(x_cnc_reg)\n",
    "    allfiles_y_cnc_reg.append(y_cnc_reg)\n",
    "    allfiles_x_cam_reg.append(x_cam_reg)\n",
    "    allfiles_y_cam_reg.append(y_cam_reg)\n",
    "    allfiles_t_reg.append(reg_t)"
   ]
  },
  {
   "cell_type": "code",
   "execution_count": 30,
   "metadata": {},
   "outputs": [
    {
     "name": "stdout",
     "output_type": "stream",
     "text": [
      "136\n"
     ]
    }
   ],
   "source": [
    "print(len(allfiles_t_reg))"
   ]
  },
  {
   "cell_type": "code",
   "execution_count": 12,
   "metadata": {
    "code_folding": [],
    "collapsed": true
   },
   "outputs": [],
   "source": [
    "#adding cnc + cam\n",
    "allfiles_x = []\n",
    "allfiles_y = []\n",
    "for i in range(len(allfiles_x_cnc_reg)):\n",
    "    x = allfiles_x_cnc_reg[i] + allfiles_x_cam_reg[i]\n",
    "    y = allfiles_y_cnc_reg[i] + allfiles_y_cam_reg[i]\n",
    "    allfiles_x.append(x)\n",
    "    allfiles_y.append(y)"
   ]
  },
  {
   "cell_type": "code",
   "execution_count": 25,
   "metadata": {},
   "outputs": [
    {
     "name": "stdout",
     "output_type": "stream",
     "text": [
      "trial-1-20190828-095102\n"
     ]
    }
   ],
   "source": [
    "print((all_experiment_names[0]))"
   ]
  },
  {
   "cell_type": "code",
   "execution_count": null,
   "metadata": {
    "collapsed": true
   },
   "outputs": [],
   "source": []
  },
  {
   "cell_type": "code",
   "execution_count": 13,
   "metadata": {
    "collapsed": true
   },
   "outputs": [],
   "source": [
    "import pickle\n",
    "\n",
    "with open('all_experiment_names.pkl', 'wb') as f:\n",
    "    pickle.dump(all_experiment_names, f)\n",
    "    \n",
    "with open('allfiles_x.pkl', 'wb') as f:\n",
    "    pickle.dump(allfiles_x, f)\n",
    "    \n",
    "with open('allfiles_y.pkl', 'wb') as f:\n",
    "    pickle.dump(allfiles_y, f)\n",
    "    \n",
    "with open('allfiles_t_reg.pkl', 'wb') as f:\n",
    "    pickle.dump(allfiles_t_reg, f)\n",
    "    \n",
    "with open('allfiles_t_food.pkl', 'wb') as f:\n",
    "    pickle.dump(allfiles_t_food, f)\n",
    "    \n",
    "with open('allfiles_x_food.pkl', 'wb') as f:\n",
    "    pickle.dump(allfiles_x_food, f)\n",
    "    \n",
    "with open('allfiles_y_food.pkl', 'wb') as f:\n",
    "    pickle.dump(allfiles_y_food, f)"
   ]
  },
  {
   "cell_type": "code",
   "execution_count": null,
   "metadata": {
    "collapsed": true
   },
   "outputs": [],
   "source": []
  },
  {
   "cell_type": "code",
   "execution_count": 17,
   "metadata": {
    "collapsed": true
   },
   "outputs": [],
   "source": [
    "def plot_raw_data(x, y, food_x, food_y, mytitle, savefigdir):\n",
    "    \n",
    "    fig, axs = plt.subplots(1,1,figsize=(10,10))     \n",
    "    \n",
    "    plt.plot(x, y, 'k')\n",
    "    plt.scatter(x[0], y[0], color = 'g', s = 50)\n",
    "    #plt.scatter(centered_x_food, centered_y_food, color = 'r', s = 100)\n",
    "    \n",
    "    for j in range(len(food_x)):\n",
    "        circle= plt.Circle((food_x[j],food_y[j]), radius= 0.01, color = 'r', alpha = 0.5)\n",
    "        ax=plt.gca()\n",
    "        ax.add_patch(circle)\n",
    "\n",
    "    #plot format\n",
    "    axs.set_aspect('equal')\n",
    "    plt.axis('scaled')\n",
    "    axs.yaxis.set_tick_params(labelsize=15)\n",
    "    axs.xaxis.set_tick_params(labelsize=15)\n",
    "    sns.despine(offset=10, trim=False);\n",
    "\n",
    "    xmin, xmax = axs.get_xlim()\n",
    "    ymin, ymax = axs.get_ylim()\n",
    "    \n",
    "    if xmin<ymin:\n",
    "        mymin = xmin\n",
    "    else:\n",
    "        mymin = ymin\n",
    "        \n",
    "    if xmax>ymax:\n",
    "        mymax = xmax\n",
    "    else:\n",
    "        mymax = ymax  \n",
    "        \n",
    "    if np.abs(mymax)>np.abs(mymin):\n",
    "        mylim = mymax\n",
    "    else:\n",
    "        mylim = mymin\n",
    "    axs.set_ylim(-mylim, mylim)\n",
    "    axs.set_xlim(-mylim, mylim)\n",
    "    \n",
    "    axs.set_xlabel('Distance in meters', fontsize = 20, fontweight = 'bold')\n",
    "    axs.set_ylabel('Distance in meters', fontsize = 20, fontweight = 'bold')\n",
    "    plt.title(mytitle, fontsize = 20, fontweight = 'bold')\n",
    "    \n",
    "    fig.savefig(savefigdir+'rawdata_'+str(all_experiment_names[i])+'.pdf')"
   ]
  },
  {
   "cell_type": "code",
   "execution_count": 18,
   "metadata": {
    "code_folding": [
     0
    ]
   },
   "outputs": [
    {
     "data": {
      "image/png": "[encoded data removed]",
      "text/plain": [
       "<matplotlib.figure.Figure at 0x2da3fdc50>"
      ]
     },
     "metadata": {},
     "output_type": "display_data"
    }
   ],
   "source": [
    "#plot raw data\n",
    "sns.set()\n",
    "for i in [0]:#range(len(allfiles_x)):\n",
    "    fig, axs = plt.subplots(1,1,figsize=(5,5))  \n",
    "    \n",
    "    centered_x = allfiles_x[i] - allfiles_x[i][0]\n",
    "    centered_y = allfiles_y[i] - allfiles_y[i][0]\n",
    "    centered_x_food = allfiles_x_food[i] - allfiles_x[i][0]\n",
    "    centered_y_food = allfiles_y_food[i] - allfiles_y[i][0]    \n",
    "    \n",
    "    plt.plot(centered_x, centered_y, 'k')\n",
    "    plt.scatter(centered_x[0], centered_y[0], color = 'g', s = 50)\n",
    "    #plt.scatter(centered_x_food, centered_y_food, color = 'r', s = 100)\n",
    "    \n",
    "    for j in range(len(centered_x_food)):\n",
    "        circle= plt.Circle((centered_x_food[j],centered_y_food[j]), radius= 0.01, color = 'r', alpha = 0.5)\n",
    "        ax=plt.gca()\n",
    "        ax.add_patch(circle)\n",
    "\n",
    "    #plot format\n",
    "    axs.set_aspect('equal')\n",
    "    plt.axis('scaled')\n",
    "    axs.yaxis.set_tick_params(labelsize=15)\n",
    "    axs.xaxis.set_tick_params(labelsize=15)\n",
    "    sns.despine(offset=10, trim=False);\n",
    "\n",
    "    xmin, xmax = axs.get_xlim()\n",
    "    ymin, ymax = axs.get_ylim()\n",
    "    \n",
    "    if xmin<ymin:\n",
    "        mymin = xmin\n",
    "    else:\n",
    "        mymin = ymin\n",
    "        \n",
    "    if xmax>ymax:\n",
    "        mymax = xmax\n",
    "    else:\n",
    "        mymax = ymax  \n",
    "        \n",
    "    if np.abs(mymax)>np.abs(mymin):\n",
    "        mylim = mymax\n",
    "    else:\n",
    "        mylim = mymin\n",
    "    axs.set_ylim(-mylim, mylim)\n",
    "    axs.set_xlim(-mylim, mylim)\n",
    "    \n",
    "    axs.set_xlabel('Distance in meters', fontsize = 20, fontweight = 'bold')\n",
    "    axs.set_ylabel('Distance in meters', fontsize = 20, fontweight = 'bold')\n",
    "    plt.title(all_experiment_names[i], fontsize = 20, fontweight = 'bold')"
   ]
  },
  {
   "cell_type": "code",
   "execution_count": 19,
   "metadata": {
    "collapsed": true
   },
   "outputs": [],
   "source": [
    "#Calculate distances between food and previous food\n",
    "\n",
    "def calculateDistance(dx,dy):  \n",
    "    dist = math.sqrt((dx)**2 + (dy)**2)  \n",
    "    return dist\n",
    "\n",
    "def calculateDistance_list(dx,dy):\n",
    "    distances = []\n",
    "    for i in range(len(dx)):\n",
    "        d = calculateDistance(dx[i],dy[i])\n",
    "        distances.append(d)\n",
    "    return distances"
   ]
  },
  {
   "cell_type": "code",
   "execution_count": null,
   "metadata": {
    "collapsed": true
   },
   "outputs": [],
   "source": []
  },
  {
   "cell_type": "code",
   "execution_count": 20,
   "metadata": {},
   "outputs": [
    {
     "name": "stdout",
     "output_type": "stream",
     "text": [
      "15.0\n"
     ]
    }
   ],
   "source": [
    "print(all_food_condition[0])"
   ]
  },
  {
   "cell_type": "code",
   "execution_count": null,
   "metadata": {
    "collapsed": true
   },
   "outputs": [],
   "source": [
    "allfiles_x[i]\n",
    "allfiles_y[i]"
   ]
  },
  {
   "cell_type": "code",
   "execution_count": null,
   "metadata": {
    "collapsed": true
   },
   "outputs": [],
   "source": []
  },
  {
   "cell_type": "code",
   "execution_count": 16,
   "metadata": {
    "code_folding": [],
    "collapsed": true
   },
   "outputs": [],
   "source": [
    "#Get centered x, y, and foods\n",
    "#Get filenames that never got food\n",
    "#Calculate distances between foods\n",
    "\n",
    "all_centered_x = []\n",
    "all_centered_y = []\n",
    "\n",
    "for i in range(len(allfiles_x)): \n",
    "    \n",
    "    centered_x = allfiles_x[i] - allfiles_x[i][0]\n",
    "    centered_y = allfiles_y[i] - allfiles_y[i][0] \n",
    "\n",
    "    all_centered_x.append(centered_x)\n",
    "    all_centered_y.append(centered_y)\n",
    "\n",
    "\n",
    "all_centered_x_food = []\n",
    "all_centered_y_food = []\n",
    "\n",
    "for i in range(len(allfiles_x)): \n",
    "    \n",
    "    centered_x_food = allfiles_x_food[i] - allfiles_x[i][0]\n",
    "    centered_y_food = allfiles_y_food[i] - allfiles_y[i][0] \n",
    "\n",
    "    all_centered_x_food.append(centered_x_food)\n",
    "    all_centered_y_food.append(centered_y_food)\n",
    "\n",
    "#trials that never got food stimuli\n",
    "# for i in range(len(all_centered_x_food)): \n",
    "#     if len(all_centered_x_food[i])==0:\n",
    "#         print(all_experiment_names[i])\n",
    "\n",
    "all_inter_food_distances = []\n",
    "for i in range(len(all_centered_x_food)): \n",
    "    dif_x = np.diff(all_centered_x_food[i])\n",
    "    dif_y = np.diff(all_centered_y_food[i])\n",
    "\n",
    "    d = calculateDistance_list(dif_x, dif_y)    \n",
    "    all_inter_food_distances.append(d)\n",
    "\n",
    "# plt.plot(all_inter_food_distances[0], '.', markersize = 10)\n",
    "# plt.title(all_experiment_names [0])\n",
    "# print(len(all_inter_food_distances[0]))"
   ]
  },
  {
   "cell_type": "code",
   "execution_count": 17,
   "metadata": {
    "collapsed": true
   },
   "outputs": [],
   "source": []
  },
  {
   "cell_type": "code",
   "execution_count": 29,
   "metadata": {
    "collapsed": true
   },
   "outputs": [],
   "source": [
    "#Save raw data\n",
    "# savefigdir_15 = '/Users/fponce/Documents/pilot_stanford_091719/plots_093019/food_15cm/'\n",
    "# savefigdir_10 = '/Users/fponce/Documents/pilot_stanford_091719/plots_093019/food_10cm/'\n",
    "# savefigdir_5 = '/Users/fponce/Documents/pilot_stanford_091719/plots_093019/food_5cm/'\n",
    "# savefigdir_20 = '/Users/fponce/Documents/pilot_stanford_091719/plots_093019/food_20cm/'\n",
    "# for i in range(len(all_centered_x_food)): \n",
    "#     if all_food_condition[i] == 20:\n",
    "#         plot_raw_data(all_centered_x[i], all_centered_y[i],\\\n",
    "#                       all_centered_x_food[i], all_centered_y_food[i], \n",
    "#                       all_experiment_names[i], savefigdir_20)\n"
   ]
  },
  {
   "cell_type": "code",
   "execution_count": null,
   "metadata": {
    "collapsed": true
   },
   "outputs": [],
   "source": [
    "for i in range(len(allfiles_t_cam)):"
   ]
  },
  {
   "cell_type": "code",
   "execution_count": null,
   "metadata": {
    "collapsed": true,
    "scrolled": false
   },
   "outputs": [],
   "source": []
  },
  {
   "cell_type": "code",
   "execution_count": null,
   "metadata": {
    "collapsed": true
   },
   "outputs": [],
   "source": []
  }
 ],
 "metadata": {
  "kernelspec": {
   "display_name": "Python 3",
   "language": "python",
   "name": "python3"
  },
  "language_info": {
   "codemirror_mode": {
    "name": "ipython",
    "version": 3
   },
   "file_extension": ".py",
   "mimetype": "text/x-python",
   "name": "python",
   "nbconvert_exporter": "python",
   "pygments_lexer": "ipython3",
   "version": "3.6.1"
  }
 },
 "nbformat": 4,
 "nbformat_minor": 2
}
