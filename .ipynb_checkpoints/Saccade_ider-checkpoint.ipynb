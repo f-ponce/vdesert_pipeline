{
 "cells": [
  {
   "cell_type": "code",
   "execution_count": 1,
   "metadata": {
    "collapsed": true
   },
   "outputs": [],
   "source": [
    "#from ivo"
   ]
  },
  {
   "cell_type": "code",
   "execution_count": 2,
   "metadata": {},
   "outputs": [
    {
     "name": "stderr",
     "output_type": "stream",
     "text": [
      "/usr/local/lib/python3.6/site-packages/h5py/__init__.py:34: FutureWarning: Conversion of the second argument of issubdtype from `float` to `np.floating` is deprecated. In future, it will be treated as `np.float64 == np.dtype(float).type`.\n",
      "  from ._conv import register_converters as _register_converters\n"
     ]
    }
   ],
   "source": [
    "import sys\n",
    "sys.path.append(\"/Users/fponce/Documents/vdesert/vdesert_funcs/\") \n",
    "import import_funcs.vdesert_functions as ff"
   ]
  },
  {
   "cell_type": "code",
   "execution_count": 3,
   "metadata": {
    "collapsed": true
   },
   "outputs": [],
   "source": [
    "import numpy as np\n",
    "import os\n",
    "fly, cellType, trace = 'test_0', 'wildType', 'MT'\n",
    "\n",
    "flyAngle1 = [ -79.05965007,-77.54512746,-77.88935515,-78.15799086,-79.03764785\n",
    ",-81.84263245,-83.06032492,-83.99092419,-84.41301479,-84.10632104\n",
    ",-84.2855313, -83.63170201,-82.61478716,-82.22336273,-82.0651695\n",
    ",-81.32179054,-79.89708624,-79.4220451, -78.08954027,-77.77219797\n",
    ",-77.29645548,-75.90861756,-74.5633274, -74.67322384,-75.09318523\n",
    ",-75.15096201,-75.54354755,-76.04768557,-77.34643669,-77.72436575\n",
    ",-78.61311171,-80.76524567,-82.53386166,-85.81721157,-87.23834343\n",
    ",-88.59971456,-88.51861113,-88.85627405,-89.19976518,-89.06875655\n",
    ",-88.22148049,-87.91723752,-86.2943797, -84.29405304,-83.10491072\n",
    ",-81.57666435,-80.66907063,-78.06055998,-75.77409341,-75.68085589\n",
    ",-75.27704838,-75.64086724,-75.42004507,-74.31779176,-74.07050949\n",
    ",-73.97062303,-73.6350036, -73.97898181,-72.69053635,-72.40015877\n",
    ",-73.38504323,-73.85508043,-74.55334964,-75.58849238,-76.67213771\n",
    ",-78.63422527,-80.96270283,-83.19538697,-84.34721664,-85.66544736\n",
    ",-87.05051462,-86.93643284,-86.72724267,-86.33582403,-86.82133147\n",
    ",-87.44429562,-88.87793786,-91.11497682,-93.77225958,-95.18114545\n",
    ",-96.83054144,-97.84568528,-99.13972921,-98.80606839,-99.50666464\n",
    ",-99.24229169, -100.09810996, -102.8082363,-104.69007083, -104.71944895\n",
    ", -104.9014601,-105.782719, -106.85710722, -107.29214423, -108.77644168\n",
    ", -109.99449493, -111.53199177, -112.85620763, -114.2223109,-115.20397063]\n",
    "\n",
    "flyAngle = np.rad2deg(np.unwrap(np.deg2rad(flyAngle1), discont = np.pi))\n",
    "\n"
   ]
  },
  {
   "cell_type": "code",
   "execution_count": 4,
   "metadata": {
    "collapsed": true
   },
   "outputs": [],
   "source": [
    "sFigPath = '/Users/fponce/Documents/vdesert/temp1/'\n",
    "\n",
    "fVec, fs, headingVeloThresh, headingVeloCeil, magThresh, magCeil = \\\n",
    "np.zeros_like(flyAngle),30., 20., 240., 10., 140.# default values\n",
    "#64.,60.,2500.(ceil),6.,180. #the 10 could be 10"
   ]
  },
  {
   "cell_type": "code",
   "execution_count": 12,
   "metadata": {
    "code_folding": [],
    "collapsed": true
   },
   "outputs": [],
   "source": [
    "## Local functions (inside this function, so they don't need to be separately defined)\n",
    "from scipy.signal import butter,filtfilt\n",
    "\n",
    "def butter_lowpass(th_order=4, highcut=260, fs=32.):\n",
    "    \n",
    "    nyq = 0.5 * fs\n",
    "    high = highcut / nyq\n",
    "    return butter(th_order, high, btype='low')\n",
    "\n",
    "def filtTrace(inArr, fs):\n",
    "    \n",
    "    th_order, highcut = 4, 6.#highcut is 6 based of Maimons paper, could be up to 9 \n",
    "    d, c = butter_lowpass(th_order, highcut, fs)\n",
    "    return filtfilt(d, c, inArr)\n",
    "\n",
    "def calcMag(idx, headingVelo, flyAngleFilt): \n",
    "    # calculate difference in heading angle between nearest local extremes (of opposite sign)\n",
    "    \n",
    "    k=0\n",
    "    chkMore=True\n",
    "    refSign=np.sign(headingVelo[idx])\n",
    "    while chkMore:\n",
    "        k += 1\n",
    "        compSign=np.sign(headingVelo[idx-k])\n",
    "        if refSign != compSign: # if not equal\n",
    "            onIdx=idx-k+1\n",
    "            chkMore=False\n",
    "    k=0\n",
    "    chkMore=True\n",
    "    while chkMore:\n",
    "        k += 1\n",
    "        compSign=np.sign(headingVelo[idx+k])\n",
    "        if refSign != compSign:\n",
    "            offIdx=idx+k\n",
    "            chkMore=False\n",
    "    # integrate: BR (behavioral response) = dWSA(offIdx)-dWSA(onIdx)\n",
    "    return flyAngleFilt[offIdx] - flyAngleFilt[onIdx], onIdx, offIdx \n",
    "\n",
    "\n",
    "def sacOnly(inVec, fVec):\n",
    "    fVecSqz = np.squeeze(fVec)\n",
    "    outVec = np.array( np.sum([inVec, fVecSqz], axis=0) ).transpose()\n",
    "    outVec[outVec == 0] = np.nan\n",
    "    return outVec\n",
    "\n",
    "\n",
    "def pltSacs(flyAngle, headingVelo, SVMxThr, SVMnThr, flyAngleFilt, SSctnMx, SSctnMn):\n",
    "    \n",
    "    #from mpl_functions import adjust_spines\n",
    "    import matplotlib.pyplot as plt\n",
    "    from matplotlib import gridspec\n",
    "    \n",
    "    timeCol = np.arange(len(flyAngle))/fs\n",
    "    sttT, endT = timeCol[0], timeCol[-1] # substitute if desired\n",
    "    figure_padding = 0.25\n",
    "    subplot_padding = 0.04\n",
    "    kleur2 = 'black'\n",
    "    lijnbreedte = .5\n",
    "    WoverH = 2. # figure ratio: W/H\n",
    "\n",
    "    headingVeloRange = 12 * headingVeloThresh\n",
    "\n",
    "    yLimMin, yLimMax = np.nanmin(flyAngle[10:-10]), np.nanmax(flyAngle[10:-10])\n",
    "#        yRange = yLimMax - yLimMin\n",
    "#        yRangeAdd  = 2*magCeil\n",
    "    yLimMinPlt = yLimMin#-yRangeAdd\n",
    "\n",
    "#        yCtrPlt = yLimMin-magCeil\n",
    "#        magCeilMinPlt = yCtrPlt+magCeil\n",
    "#        magCeilMinPlt = yCtrPlt-magCeil\n",
    "#        magTreshPlt = magCeil\n",
    "\n",
    "    figH = 2.\n",
    "    figW = WoverH * figH\n",
    "    fig = plt.figure(figsize=(figW,figH))\n",
    "    fig.set_facecolor('w')\n",
    "\n",
    "    aspect_ratio = (4+subplot_padding)/(12.+subplot_padding)\n",
    "    gs0 = gridspec.GridSpec(2, 1, height_ratios=[1,1.67]) #width_ratios=[20,1,1,1], \n",
    "    gs0.update(left=figure_padding*aspect_ratio, right=1-figure_padding*aspect_ratio, \n",
    "               wspace=subplot_padding, hspace=subplot_padding, \n",
    "               top=1-figure_padding+subplot_padding, bottom=figure_padding-subplot_padding)\n",
    "    ax0 = plt.subplot(gs0[0, 0]) # headingVelo       \n",
    "    ax2 = plt.subplot(gs0[1, 0]) # LmR and sacs  \n",
    "\n",
    "    ax0.axhspan(0, 0, alpha=.5, color='k', zorder=0, linewidth=.5*lijnbreedte)\n",
    "    ax0.axhspan(headingVeloThresh, headingVeloThresh, linestyle='--', \n",
    "                alpha=.5, color='k', zorder=0, linewidth=.5*lijnbreedte)\n",
    "    ax0.axhspan(-headingVeloThresh, -headingVeloThresh, linestyle='--', \n",
    "                alpha=.5, color='k', zorder=0, linewidth=.5*lijnbreedte)\n",
    "    ax0.axhspan(headingVeloCeil, headingVeloCeil, linestyle=':', \n",
    "                alpha=.5, color='k', zorder=0, linewidth=.5*lijnbreedte)\n",
    "    ax0.axhspan(-headingVeloCeil, -headingVeloCeil, linestyle=':', \n",
    "                alpha=.5, color='k', zorder=0, linewidth=.5*lijnbreedte)\n",
    "\n",
    "#        ax2.axhspan(yCtrPlt, yCtrPlt,  alpha=.5, color='k', zorder=0, linewidth=.5*lijnbreedte)\n",
    "#        ax2.axhspan(yCtrPlt+magThresh, yCtrPlt+magThresh, linestyle='--', \n",
    "#alpha=.5, color='k', zorder=0, linewidth=.5*lijnbreedte)\n",
    "#        ax2.axhspan(yCtrPlt-magThresh, yCtrPlt-magThresh, linestyle='--', \n",
    "#alpha=.5, color='k', zorder=0, linewidth=.5*lijnbreedte)\n",
    "#        ax2.axhspan(yCtrPlt+magCeil,   yCtrPlt+magCeil, linestyle=':', \n",
    "#alpha=.5, color='k', zorder=0, linewidth=.5*lijnbreedte)\n",
    "#        ax2.axhspan(yCtrPlt-magCeil,   yCtrPlt-magCeil, linestyle=':', \n",
    "#alpha=.5, color='k', zorder=0, linewidth=.5*lijnbreedte)\n",
    "\n",
    "    ax0.plot(timeCol, headingVelo, color='k', zorder=2, linewidth=lijnbreedte)\n",
    "    ax0.plot(timeCol, SVMxThr, linestyle='None', marker='.', color='b', markersize=2, zorder=20)\n",
    "    ax0.plot(timeCol, SVMnThr, linestyle='None', marker='.', color='r', markersize=2, zorder=20)  \n",
    "\n",
    "    ax2.plot(timeCol, flyAngle, color='g', zorder=4, linewidth=lijnbreedte*.5)\n",
    "    ax2.plot(timeCol, flyAngleFilt, color='k', zorder=2, linewidth=lijnbreedte)\n",
    "    ax2.plot(timeCol, SSctnMx, color='b', zorder=19, linewidth=lijnbreedte)\n",
    "    ax2.plot(timeCol, SSctnMn, color='r', zorder=19, linewidth=lijnbreedte)\n",
    "#        ax2.plot(timeCol, yCtrPlt+SMagMx, linestyle='None', marker='.', color='b', markersize=2, zorder=20)\n",
    "#        ax2.plot(timeCol, yCtrPlt+SMagMn, linestyle='None', marker='.', color='r', markersize=2, zorder=20)\n",
    "\n",
    "    ax0.set_ylabel('ang. vel. ($^\\circ$/s)', labelpad=0, fontname='Arial')\n",
    "    ax0.yaxis.set_label_position('right')\n",
    "\n",
    "    ax0.set_xlim((sttT, endT))\n",
    "    ax0.set_ylim((-headingVeloRange,headingVeloRange)) #data\n",
    "    #adjust_spines(ax0,'right', yticks=[-headingVeloCeil, 0, headingVeloCeil], linewidth=.6, spineColor=kleur2)\n",
    "    ff.adjust_spines(ax0,'left', yticks=[0, headingVeloRange], linewidth=.6, spineColor=kleur2)\n",
    "    ax2.set_ylabel('angle ($^\\circ$)', labelpad=0, fontname='Arial')\n",
    "\n",
    "    ax2.set_xlim((sttT, endT))\n",
    "    ax2.set_ylim((yLimMinPlt,yLimMax)) #data\n",
    "    #+10,+2 depends on trial length!!!!!!!!!!!!!!!!!!!!!!!!!!!!!!!!!!!!!!!!!!!!!!!!!!!!!!!!!\n",
    "    ff.adjust_spines(ax2,['left', 'bottom'], xticks=[sttT, sttT+2], yticks=[yLimMin, yLimMax], \n",
    "                  linewidth=.6, spineColor=kleur2)\n",
    "#        ax2.text(sttT+2, yLimMinPlt-25, '10 s', color=kleur2, fontname='Arial') \n",
    "    ax2.spines['bottom'].set_linewidth(1.) #axis\n",
    "\n",
    "    if not os.path.exists(sFigPath):\n",
    "        os.makedirs(sFigPath)\n",
    "    print ('figs can be found here: ' + sFigPath)\n",
    "    ax2.set_xticks([ ]) # TOGGLE TO hide TIME TICKS\n",
    "    savePlotName = sFigPath + '_' + fly + '.png'\n",
    "    fig.savefig(savePlotName , bbox_inches='tight', dpi = 1200)\n",
    "#        print 'saved to check Sac_ID results: ' + savePlotName\n",
    "#        print ' '\n",
    "    plt.close\n",
    "\n",
    "### end of local functions"
   ]
  },
  {
   "cell_type": "code",
   "execution_count": 20,
   "metadata": {
    "code_folding": [
     36
    ],
    "collapsed": true
   },
   "outputs": [],
   "source": [
    "def findSacs(flyAngle,  *args):\n",
    "\n",
    "\n",
    "# Finds local min-/maxima that are within threshold/ceiling bounds of wing steering velocity (headingVelo)\n",
    "# Subsequently, integrates the unidirectional headingVelo sections surrounding local extremes, \n",
    "#and retain only those saccades that supersede magnitude thresholds.\n",
    "# Usage: \n",
    "# $ import Sac_ID as sid\n",
    "# $ SAmx, SAmn, SVmx, SVmn = sid.findSacs(flyAngle)\n",
    "# IN:\n",
    "# flyAngle: the Fly Angle\n",
    "# OUT:\n",
    "# SAmx, SAmn, SVmx, SVmn: np.nan vectors with saccade Angles or saccade Velocities in positive \n",
    "#and negative directions, respectively\n",
    "    \n",
    "# Extra IN (if you don't want to use defaults):\n",
    "# All you need to call this function is above this line. rest is extra.\n",
    "# fVec: A np.zeros vector with NaN entries where the fly is not flying\n",
    "# fs: the sampling frequency\n",
    "# headingVeloThresh, headingVeloCeil, magThresh, magCeil: thresholds and magnitudes\n",
    "\n",
    "              \n",
    "    import os\n",
    "    import numpy as np\n",
    "    from scipy.signal import butter, filtfilt\n",
    "    \n",
    "    fly, cellType, trace = 'test_0', 'wildType', 'MT'\n",
    "    \n",
    "\n",
    "    # Default saccade identifier parameters\n",
    "    plotQ = True\n",
    "    deffVec, deffs, defheadingVeloThresh, defheadingVeloCeil, defmagThresh, defmagCeil = \\\n",
    "    np.zeros_like(flyAngle),30., 20., 240., 10., 140.# default values\n",
    "    ## check for arguments\n",
    "    varargin = args\n",
    "    nargin = 1 + len(varargin)\n",
    "    if nargin == 1:\n",
    "        fVec, fs, headingVeloThresh, headingVeloCeil, magThresh, magCeil = \\\n",
    "        deffVec, deffs, defheadingVeloThresh, defheadingVeloCeil, defmagThresh, defmagCeil\n",
    "    elif nargin == 2:\n",
    "        fs, headingVeloThresh, headingVeloCeil, magThresh, magCeil = \\\n",
    "        deffs, defheadingVeloThresh, defheadingVeloCeil, defmagThresh, defmagCeil\n",
    "        fVec = varargin[0]\n",
    "    elif nargin == 3:\n",
    "        headingVeloThresh, headingVeloCeil, magThresh, magCeil = \\\n",
    "        defheadingVeloThresh, defheadingVeloCeil, defmagThresh, defmagCeil\n",
    "        fVec, fs = varargin[0], varargin[1]\n",
    "    elif nargin == 4:\n",
    "        headingVeloCeil, magThresh, magCeil = defheadingVeloCeil, defmagThresh, defmagCeil\n",
    "        fVec, fs, headingVeloThresh = varargin[0], varargin[1], varargin[2]\n",
    "    elif nargin == 5:\n",
    "        magThresh, magCeil = defmagThresh, defmagCeil\n",
    "        fVec, fs, headingVeloThresh, headingVeloCeil = varargin[0], varargin[1], varargin[2], varargin[3]\n",
    "    elif nargin == 6:\n",
    "        magCeil = defmagCeil\n",
    "        fVec, fs, headingVeloThresh, headingVeloCeil, magThresh = varargin[0], \n",
    "        varargin[1], varargin[2], varargin[3], varargin[4]\n",
    "    elif nargin == 7:\n",
    "        fVec, fs, headingVeloThresh, headingVeloCeil, magThresh, magCeil = varargin[0], \n",
    "        varargin[1], varargin[2], varargin[3], varargin[4], varargin[5]\n",
    "    else:\n",
    "        print ('could not assign all parameters')\n",
    "\n",
    "    ## Low-pass filter the incoming angle vector\n",
    "    flyAngleFilt= filtTrace(flyAngle, fs)\n",
    "    #flyAngleFilt = flyAngle\n",
    "    ## d/dt the filtered angle vector\n",
    "    headingVelo=np.zeros_like(flyAngleFilt)\n",
    "    for k in range(len(flyAngleFilt)-1):\n",
    "        headingVelo[k]=(flyAngleFilt[k+1]-flyAngleFilt[k])*fs\n",
    "        \n",
    "    # In words: find local extremes that exceed headingVelo threshold during flight\n",
    "    # subsequently, integrate the unidirectional headingVelo sections surrounding local extremes.        \n",
    "    \n",
    "    ## Place holders\n",
    "    headingVeloMxThr,   headingVeloMnThr= np.zeros_like(headingVelo), np.zeros_like(headingVelo) \n",
    "    SheadingVeloMx,     SheadingVeloMn  = np.zeros_like(headingVelo), np.zeros_like(headingVelo)\n",
    "    lcMxMagTemp,    lcMnMagTemp = np.zeros_like(headingVelo), np.zeros_like(headingVelo)\n",
    "    lcMxMag,        lcMnMag     = np.zeros_like(headingVelo), np.zeros_like(headingVelo) \n",
    "    sacMx,          sacMn       = np.zeros_like(headingVelo), np.zeros_like(headingVelo)\n",
    "    lcMnonIdx,      lcMnoffIdx  = np.zeros_like(headingVelo), np.zeros_like(headingVelo)\n",
    "    lcMxonIdx,      lcMxoffIdx  = np.zeros_like(headingVelo), np.zeros_like(headingVelo)\n",
    "    lcMxdeltaIdx,   lcMndeltaIdx= np.zeros_like(headingVelo), np.zeros_like(headingVelo)\n",
    "    SacAngMx,       SacAngMn    = np.zeros_like(headingVelo), np.zeros_like(headingVelo)\n",
    "    SacIdxMx,       SacIdxMn    = np.zeros_like(headingVelo), np.zeros_like(headingVelo)\n",
    "        \n",
    "    ## Find local extremes in the rate, that exceed the saccade velocity threshold \n",
    "    #0.5 not trivially chosen\n",
    "    reboundIds = int(np.floor(.5*fs)) # .5 s refractory period!!!!!!!!!!!!!!!!!!!!!!!!!!!!!!!!!!!!!!!!!\n",
    "    for idx in range (reboundIds,len(headingVelo)-reboundIds):\n",
    "        if headingVelo[idx]>=headingVelo[idx-1] and headingVelo[idx]>=headingVelo[idx+1] and \\\n",
    "        headingVelo[idx]>headingVeloThresh and headingVelo[idx]<headingVeloCeil:\n",
    "            headingVeloMxThr[idx] = headingVelo[idx]\n",
    "        elif headingVelo[idx]<=headingVelo[idx-1] and headingVelo[idx]<=headingVelo[idx+1] and \\\n",
    "        headingVelo[idx]<-headingVeloThresh and headingVelo[idx]>-headingVeloCeil:\n",
    "            headingVeloMnThr[idx] = headingVelo[idx]\n",
    "    \n",
    "    ## Retain extremes that are less than magnitude limit (velocity dependent) \n",
    "    #(no longer: also exceed the saccade magnitude threshold)\n",
    "    # Integrate unidirectional headingVelo sections surrounding local extremes to obtain saccade magnitude\n",
    "    for idx in range (int(1.4*reboundIds),len(headingVelo)-int(1.4*reboundIds)):\n",
    "        if abs(headingVeloMxThr[idx])>0: # for every local max\n",
    "            lcSteerMag, onIdx, offIdx = calcMag(idx, headingVelo, flyAngleFilt)\n",
    "            if lcSteerMag < magCeil:\n",
    "                lcMxMagTemp[idx] = lcSteerMag \n",
    "                lcMxonIdx[idx] = onIdx\n",
    "                lcMxoffIdx[idx] = offIdx\n",
    "                lcMxdeltaIdx[idx] = offIdx-idx\n",
    "        if abs(headingVeloMnThr[idx])>0: # for every local minimum\n",
    "            lcSteerMag, onIdx, offIdx = calcMag(idx, headingVelo, flyAngleFilt)\n",
    "            if lcSteerMag > -magCeil:\n",
    "                lcMnMagTemp[idx] = lcSteerMag\n",
    "                lcMnonIdx[idx] = onIdx\n",
    "                lcMnoffIdx[idx] = offIdx\n",
    "                lcMndeltaIdx[idx] = offIdx-idx\n",
    "    \n",
    "    ## Obtain saccades, retained extremes that are not 'rebounds' (stable pre-onset activity for edgeSec/4).\n",
    "    for idx in range (reboundIds,len(headingVelo)-reboundIds):\n",
    "        if lcMxMagTemp[idx]>0: # for every local maximum\n",
    "            if abs(np.mean(lcMnMagTemp[idx-reboundIds:idx]))<magThresh/reboundIds and \\\n",
    "            ~np.isnan(fVec[idx-reboundIds:idx+reboundIds]).any(axis=0): \n",
    "                SheadingVeloMx[idx] = headingVelo[idx]\n",
    "                lcMxMag[idx] = lcMxMagTemp[idx]\n",
    "                sacMx[int(lcMxonIdx[idx]):int(lcMxoffIdx[idx])] = flyAngleFilt \\\n",
    "                [int(lcMxonIdx[idx]):int(lcMxoffIdx[idx])]\n",
    "                sacPeakIdx = int(idx+lcMxdeltaIdx[idx])\n",
    "                SacAngMx[sacPeakIdx] = flyAngleFilt[sacPeakIdx] # such that saccades can be indicated at peaks \n",
    "                SacIdxMx[idx] = sacPeakIdx # indices of saccades, to allow cropping of saccades\n",
    "        elif lcMnMagTemp[idx]<0: # for every local minimum\n",
    "            if abs(np.mean(lcMxMagTemp[idx-reboundIds:idx]))<magThresh/reboundIds and \\\n",
    "            ~np.isnan(fVec[idx-reboundIds:idx+reboundIds]).any(axis=0): \n",
    "                SheadingVeloMn[idx] = headingVelo[idx]\n",
    "                lcMnMag[idx] = lcMnMagTemp[idx]\n",
    "                sacMn[int(lcMnonIdx[idx]):int(lcMnoffIdx[idx])] = flyAngleFilt \\\n",
    "                [int(lcMnonIdx[idx]):int(lcMnoffIdx[idx])]\n",
    "                sacPeakIdx = int(idx+lcMndeltaIdx[idx])\n",
    "                SacAngMn[sacPeakIdx] = flyAngleFilt[sacPeakIdx] # such that saccades can be indicated at peaks \n",
    "                SacIdxMn[idx] = sacPeakIdx # indices of saccades, to allow cropping of saccades\n",
    "    ## only when fly is flying, set all other indices to nan    \n",
    "    SVMxThr, SVMnThr = sacOnly(headingVeloMxThr, fVec), sacOnly(headingVeloMnThr, fVec) # diagnostic\n",
    "\n",
    "    # SMagMx, SMagMn   = sacOnly(lcMxMag, fVec), sacOnly(lcMnMag, fVec) # diagnostic\n",
    "    SSctnMx, SSctnMn = sacOnly(sacMx, fVec), sacOnly(sacMn, fVec)\n",
    "    \n",
    "    ## plot to verify\n",
    "    if plotQ:\n",
    "        pltSacs(flyAngle, headingVelo, SVMxThr, SVMnThr, flyAngleFilt, SSctnMx, SSctnMn)\n",
    "\n",
    "    SAmx, SAmn       = sacOnly(SacAngMx, fVec), sacOnly(SacAngMn, fVec)\n",
    "    SVmx, SVmn       = sacOnly(SheadingVeloMx, fVec), sacOnly(SheadingVeloMn, fVec)\n",
    "    SIdxmx, SIdxmn   = sacOnly(SacIdxMx, fVec), sacOnly(SacIdxMn, fVec)\n",
    "    #return SAmx, SAmn, SVmx, SVmn, SSctnMx, SSctnMn, SIdxmx, SIdxmn\n",
    "    return SAmx, SAmn, SVmx, SVmn, headingVelo"
   ]
  },
  {
   "cell_type": "code",
   "execution_count": 21,
   "metadata": {
    "code_folding": [
     1
    ],
    "collapsed": true
   },
   "outputs": [],
   "source": [
    "#def classSacs(SacIdxVec, LIds, fs):\n",
    "    #    import numpy as np\n",
    "    #    # Separate expansion-associated saccades (L) from spontaneous saccades (S, the remainder)\n",
    "    #    # from CB paper: \n",
    "    #    # \"classified as loom-elicited, \n",
    "    #    # when the peak L-R velocity occurred within 0.5 s of the mean response\n",
    "    #    # peak relative to the end of the looming stimulus, \n",
    "    #    # or classified as spontaneous\"\n",
    "    #    # LPkRespIdx = index where peak is expected (the mean response time)\n",
    "    #    stimPeakIds = 1.2*fs\n",
    "    #    LPkRespIds = LIds + stimPeakIds # behavioral response peaks at 1.2 s after stimulus onset (.2 s after max expansion reached)\n",
    "    #    nanVec, SacIdxVecLm, SacIdxVecSpnt =  np.zeros_like(SacIdxVec)*np.nan, np.zeros_like(SacIdxVec)*np.nan, SacIdxVec\n",
    "    #    QrtrSecFrames= .5*fs        \n",
    "    #    for LmNum, LmIdx in enumerate(LPkRespIds): # for every (loom) stimulus peak response index\n",
    "    #        stimRangeFr, stimRangeTo  = int(LmIdx-QrtrSecFrames), int(LmIdx+QrtrSecFrames)\n",
    "    #        SacIdxVecLm[stimRangeFr:stimRangeTo] = SacIdxVec[stimRangeFr:stimRangeTo] # simply copy the SacIdxVec for the stimulus windows\n",
    "    #    SacIdxVecSpnt[~np.isnan(SacIdxVecLm)] = nanVec[~np.isnan(SacIdxVecLm)] # when expansion-associated saccades are present, classify as not spontaneous\n",
    "    #    return SacIdxVecLm, SacIdxVecSpnt"
   ]
  },
  {
   "cell_type": "code",
   "execution_count": 22,
   "metadata": {
    "collapsed": true
   },
   "outputs": [],
   "source": [
    "import numpy as np\n",
    "import matplotlib.pyplot as plt\n",
    "\n",
    "%matplotlib inline"
   ]
  },
  {
   "cell_type": "code",
   "execution_count": 23,
   "metadata": {},
   "outputs": [
    {
     "data": {
      "text/plain": [
       "[<matplotlib.lines.Line2D at 0x1134bddd8>]"
      ]
     },
     "execution_count": 23,
     "metadata": {},
     "output_type": "execute_result"
    },
    {
     "data": {
      "image/png": "[encoded data removed]",
      "text/plain": [
       "<matplotlib.figure.Figure at 0x11302b748>"
      ]
     },
     "metadata": {},
     "output_type": "display_data"
    }
   ],
   "source": [
    "plt.plot(flyAngle)"
   ]
  },
  {
   "cell_type": "code",
   "execution_count": 24,
   "metadata": {},
   "outputs": [
    {
     "data": {
      "text/plain": [
       "[<matplotlib.lines.Line2D at 0x10b8d84a8>]"
      ]
     },
     "execution_count": 24,
     "metadata": {},
     "output_type": "execute_result"
    },
    {
     "data": {
      "image/png": "[encoded data removed]",
      "text/plain": [
       "<matplotlib.figure.Figure at 0x113420828>"
      ]
     },
     "metadata": {},
     "output_type": "display_data"
    }
   ],
   "source": [
    "plt.plot(flyAngle1)"
   ]
  },
  {
   "cell_type": "code",
   "execution_count": 25,
   "metadata": {},
   "outputs": [
    {
     "name": "stdout",
     "output_type": "stream",
     "text": [
      "figs can be found here: /Users/fponce/Documents/vdesert/temp1/\n"
     ]
    },
    {
     "data": {
      "image/png": "[encoded data removed]",
      "text/plain": [
       "<matplotlib.figure.Figure at 0x1134a9c18>"
      ]
     },
     "metadata": {},
     "output_type": "display_data"
    }
   ],
   "source": [
    "SAmx, SAmn, SVmx, SVmn, v = findSacs(flyAngle)\n"
   ]
  },
  {
   "cell_type": "code",
   "execution_count": 26,
   "metadata": {},
   "outputs": [
    {
     "name": "stdout",
     "output_type": "stream",
     "text": [
      "[         nan          nan          nan          nan          nan\n",
      "          nan          nan          nan          nan          nan\n",
      "          nan          nan          nan          nan          nan\n",
      "          nan          nan          nan          nan          nan\n",
      "          nan          nan          nan -74.63564761          nan\n",
      "          nan          nan          nan          nan          nan\n",
      "          nan          nan          nan          nan          nan\n",
      "          nan          nan          nan          nan          nan\n",
      "          nan          nan          nan          nan          nan\n",
      "          nan          nan          nan          nan          nan\n",
      " -75.37905031          nan          nan          nan          nan\n",
      "          nan          nan          nan          nan          nan\n",
      "          nan          nan          nan          nan          nan\n",
      "          nan          nan          nan          nan          nan\n",
      "          nan          nan          nan          nan          nan\n",
      "          nan          nan          nan          nan          nan\n",
      "          nan          nan          nan          nan          nan\n",
      "          nan          nan          nan          nan          nan\n",
      "          nan          nan          nan          nan          nan\n",
      "          nan          nan          nan          nan          nan] [          nan           nan           nan           nan           nan\n",
      "           nan           nan           nan  -84.41773738           nan\n",
      "           nan           nan           nan           nan           nan\n",
      "           nan           nan           nan           nan           nan\n",
      "           nan           nan           nan           nan           nan\n",
      "           nan           nan           nan           nan           nan\n",
      "           nan           nan           nan           nan           nan\n",
      "           nan           nan           nan  -89.01451757           nan\n",
      "           nan           nan           nan           nan           nan\n",
      "           nan           nan           nan           nan           nan\n",
      "           nan           nan           nan           nan           nan\n",
      "           nan           nan           nan           nan           nan\n",
      "           nan           nan           nan           nan           nan\n",
      "           nan           nan           nan           nan           nan\n",
      "           nan  -86.96362762           nan           nan           nan\n",
      "           nan           nan           nan           nan           nan\n",
      "           nan           nan           nan  -99.05079359           nan\n",
      "           nan           nan           nan           nan           nan\n",
      "           nan           nan           nan           nan           nan\n",
      "           nan           nan           nan           nan -115.2063566 ] [        nan         nan         nan         nan         nan         nan\n",
      "         nan         nan         nan         nan         nan         nan\n",
      "         nan         nan         nan 29.2045341          nan         nan\n",
      "         nan         nan 30.88174781         nan         nan         nan\n",
      "         nan         nan         nan         nan         nan         nan\n",
      "         nan         nan         nan         nan         nan         nan\n",
      "         nan         nan         nan         nan         nan         nan\n",
      " 47.02867274         nan         nan         nan 60.4791026          nan\n",
      "         nan         nan         nan         nan         nan         nan\n",
      "         nan         nan         nan         nan         nan         nan\n",
      "         nan         nan         nan         nan         nan         nan\n",
      "         nan         nan         nan         nan         nan         nan\n",
      "         nan         nan         nan         nan         nan         nan\n",
      "         nan         nan         nan         nan         nan         nan\n",
      "         nan         nan         nan         nan         nan         nan\n",
      "         nan         nan         nan         nan         nan         nan\n",
      "         nan         nan         nan         nan] [         nan          nan          nan          nan -56.04984794\n",
      "          nan          nan          nan          nan          nan\n",
      "          nan          nan          nan          nan          nan\n",
      "          nan          nan          nan          nan          nan\n",
      "          nan          nan          nan          nan          nan\n",
      "          nan          nan          nan          nan          nan\n",
      "          nan          nan -74.69428944          nan          nan\n",
      "          nan          nan          nan          nan          nan\n",
      "          nan          nan          nan          nan          nan\n",
      "          nan          nan          nan          nan          nan\n",
      "          nan          nan          nan          nan          nan\n",
      "          nan          nan          nan          nan          nan\n",
      "          nan          nan          nan          nan          nan\n",
      " -64.61902761          nan          nan          nan          nan\n",
      "          nan          nan          nan          nan          nan\n",
      "          nan          nan -65.9320697           nan          nan\n",
      "          nan          nan          nan          nan          nan\n",
      "          nan -55.04076786          nan          nan          nan\n",
      "          nan          nan          nan          nan          nan\n",
      " -42.98272962          nan          nan          nan          nan]\n"
     ]
    }
   ],
   "source": [
    "print(SAmx, SAmn, SVmx, SVmn)\n"
   ]
  },
  {
   "cell_type": "code",
   "execution_count": 27,
   "metadata": {},
   "outputs": [
    {
     "data": {
      "text/plain": [
       "[<matplotlib.lines.Line2D at 0x11330a6a0>]"
      ]
     },
     "execution_count": 27,
     "metadata": {},
     "output_type": "execute_result"
    },
    {
     "data": {
      "image/png": "[encoded data removed]",
      "text/plain": [
       "<matplotlib.figure.Figure at 0x11351bf28>"
      ]
     },
     "metadata": {},
     "output_type": "display_data"
    }
   ],
   "source": [
    "plt.plot(v)"
   ]
  },
  {
   "cell_type": "code",
   "execution_count": null,
   "metadata": {
    "collapsed": true
   },
   "outputs": [],
   "source": []
  },
  {
   "cell_type": "code",
   "execution_count": null,
   "metadata": {
    "collapsed": true
   },
   "outputs": [],
   "source": []
  },
  {
   "cell_type": "code",
   "execution_count": null,
   "metadata": {
    "collapsed": true
   },
   "outputs": [],
   "source": []
  },
  {
   "cell_type": "code",
   "execution_count": null,
   "metadata": {
    "collapsed": true
   },
   "outputs": [],
   "source": []
  },
  {
   "cell_type": "code",
   "execution_count": null,
   "metadata": {
    "collapsed": true
   },
   "outputs": [],
   "source": []
  },
  {
   "cell_type": "code",
   "execution_count": null,
   "metadata": {
    "collapsed": true
   },
   "outputs": [],
   "source": []
  },
  {
   "cell_type": "code",
   "execution_count": null,
   "metadata": {
    "collapsed": true
   },
   "outputs": [],
   "source": []
  }
 ],
 "metadata": {
  "kernelspec": {
   "display_name": "Python 3",
   "language": "python",
   "name": "python3"
  },
  "language_info": {
   "codemirror_mode": {
    "name": "ipython",
    "version": 3
   },
   "file_extension": ".py",
   "mimetype": "text/x-python",
   "name": "python",
   "nbconvert_exporter": "python",
   "pygments_lexer": "ipython3",
   "version": "3.6.1"
  }
 },
 "nbformat": 4,
 "nbformat_minor": 2
}
