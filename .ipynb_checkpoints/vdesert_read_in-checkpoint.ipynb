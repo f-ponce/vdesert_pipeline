{
 "cells": [
  {
   "cell_type": "code",
   "execution_count": 2,
   "metadata": {
    "code_folding": [
     0
    ]
   },
   "outputs": [
    {
     "name": "stderr",
     "output_type": "stream",
     "text": [
      "/usr/local/lib/python3.6/site-packages/h5py/__init__.py:34: FutureWarning: Conversion of the second argument of issubdtype from `float` to `np.floating` is deprecated. In future, it will be treated as `np.float64 == np.dtype(float).type`.\n",
      "  from ._conv import register_converters as _register_converters\n"
     ]
    }
   ],
   "source": [
    "#import packages\n",
    "import numpy as np\n",
    "import copy\n",
    "import pandas\n",
    "import os\n",
    "import imp\n",
    "import pickle\n",
    "from scipy.interpolate import interp1d\n",
    "import warnings\n",
    "import time\n",
    "import matplotlib.pyplot as plt\n",
    "import inspect\n",
    "import types\n",
    "import math as mat\n",
    "import seaborn as sns\n",
    "import matplotlib.gridspec as gridspec\n",
    "from matplotlib.colors import LogNorm\n",
    "import datetime\n",
    "from matplotlib import animation\n",
    "from IPython.display import HTML\n",
    "from tempfile import NamedTemporaryFile\n",
    "import matplotlib.backends.backend_pdf\n",
    "from scipy import interpolate\n",
    "from itertools import groupby\n",
    "import re\n",
    "import csv\n",
    "import copy\n",
    "from fnmatch import fnmatch\n",
    "import json\n",
    "import h5py\n",
    "\n",
    "sns.set()\n",
    "sns.set_style()\n",
    "%matplotlib inline"
   ]
  },
  {
   "cell_type": "code",
   "execution_count": 3,
   "metadata": {
    "code_folding": [],
    "collapsed": true
   },
   "outputs": [],
   "source": [
    "#functions"
   ]
  },
  {
   "cell_type": "code",
   "execution_count": 4,
   "metadata": {},
   "outputs": [
    {
     "name": "stdout",
     "output_type": "stream",
     "text": [
      "/Users/fponce/Documents/vdesert/temp/data_2019-06-25-19-40-18.hdf5\n",
      "7\n"
     ]
    }
   ],
   "source": [
    "dataDir = '/Users/fponce/Documents/vdesert/temp'\n",
    "pattern_vdesert_data = \"*.hdf5\"\n",
    "\n",
    "datapaths = []\n",
    "for path, subdirs, files in os.walk(dataDir):\n",
    "    for name in files:\n",
    "        if fnmatch(name, pattern_vdesert_data):\n",
    "            datapaths.append(os.path.join(path, name))\n",
    "            \n",
    "print(datapaths[-1])\n",
    "print(len(datapaths))"
   ]
  },
  {
   "cell_type": "code",
   "execution_count": 5,
   "metadata": {
    "collapsed": true
   },
   "outputs": [],
   "source": [
    "#panels \n",
    "# [[-180.0,  -90.0], 5] \n",
    "# [[ -90.0,    0.0], 4]\n",
    "# [[   0.0,   90.0], 6]\n",
    "# [[  90.0,  180.0], 3]"
   ]
  },
  {
   "cell_type": "code",
   "execution_count": 6,
   "metadata": {},
   "outputs": [
    {
     "name": "stdout",
     "output_type": "stream",
     "text": [
      "['angle', 'autostep_action_running', 'autostep_action_started', 'autostep_action_stopped', 'current_trial_index', 'elapsed_time', 'flow_action_running', 'flow_action_started', 'flow_action_stopped', 'init_angle', 'magnotether_angle', 'magnotether_ros_tstamps', 'magnotether_tstamps', 'motion_data_position', 'motion_data_ros_tstamps', 'motion_data_setpoint', 'motion_data_time', 'motion_data_tstamps', 'name', 'panels_action_running', 'panels_action_started', 'panels_action_stopped', 'ros_tstamps', 'trial_e_time', 'tstamps']\n"
     ]
    }
   ],
   "source": [
    "#check for keys\n",
    "for i in range(len(datapaths)):\n",
    "    f = h5py.File(datapaths[i], \"r\")\n",
    "    datasetNames = [n for n in f.keys()]\n",
    "print(datasetNames)"
   ]
  },
  {
   "cell_type": "code",
   "execution_count": 7,
   "metadata": {
    "code_folding": [
     0
    ],
    "collapsed": true
   },
   "outputs": [],
   "source": [
    "#hdf5 -> np.arrays\n",
    "all_ros_ts = []\n",
    "all_ts = []\n",
    "all_elapsed_time = []\n",
    "all_trial_index = []\n",
    "all_trial_elapsed_time = []\n",
    "all_angle_for_autostep = []\n",
    "all_init_angle = []\n",
    "all_autostep_running = []\n",
    "all_autostep_started = []\n",
    "all_autostep_stopped = []\n",
    "all_flow_running = []\n",
    "all_flow_started = []\n",
    "all_flow_stopped = []\n",
    "all_panels_running = []\n",
    "all_panels_started = []\n",
    "all_panels_stopped = []\n",
    "\n",
    "all_magnotether_angle = []\n",
    "all_magnotether_ros_tstamps = []\n",
    "all_magnotether_tstamps = []\n",
    "\n",
    "all_motion_ros_tstamps = []\n",
    "all_motion_tstamps = []\n",
    "all_motion_setpoint = []\n",
    "all_motion_position = []\n",
    "\n",
    "for i in range(len(datapaths)):\n",
    "    f = h5py.File(datapaths[i], \"r\")\n",
    "    \n",
    "    #virtual_desert topic\n",
    "    ros_ts = np.asarray(f['ros_tstamps'])\n",
    "    ts = np.asarray(f['tstamps'])\n",
    "    elapsed_time = np.asarray(f['elapsed_time'])\n",
    "    trial_index = np.asarray(f['current_trial_index'])\n",
    "    trial_elapsed_time = np.asarray(f['trial_e_time'])\n",
    "    angle_for_autostep = np.asarray(f['angle'])\n",
    "    init_angle = np.asarray(f['init_angle'])\n",
    "    \n",
    "    #actions\n",
    "    autostep_running = np.asarray(f['autostep_action_running'])\n",
    "    autostep_started = np.asarray(f['autostep_action_started'])\n",
    "    autostep_stopped = np.asarray(f['autostep_action_stopped'])\n",
    "    \n",
    "    flow_running = np.asarray(f['flow_action_running'])\n",
    "    flow_started = np.asarray(f['flow_action_started'])\n",
    "    flow_stopped = np.asarray(f['flow_action_stopped'])  \n",
    "    \n",
    "    panels_running = np.asarray(f['panels_action_running'])\n",
    "    panels_started = np.asarray(f['panels_action_started'])\n",
    "    panels_stopped = np.asarray(f['panels_action_stopped'])      \n",
    "    \n",
    "    #magnotether_angle topic\n",
    "    magnotether_angle = np.asarray(f['magnotether_angle'])\n",
    "    magnotether_ros_tstamps = np.asarray(f['magnotether_ros_tstamps'])\n",
    "    magnotether_tstamps = np.asarray(f['magnotether_tstamps'])\n",
    "    \n",
    "    #motion_data topic\n",
    "    motion_ros_tstamps = np.asarray(f['motion_data_ros_tstamps'])\n",
    "    motion_tstamps = np.asarray(f['motion_data_tstamps'])\n",
    "    motion_setpoint = np.asarray(f['motion_data_setpoint'])\n",
    "    motion_position = np.asarray(f['motion_data_position'])\n",
    "    \n",
    "    all_ros_ts.append(ros_ts)\n",
    "    all_ts.append(ts)\n",
    "    all_elapsed_time.append(elapsed_time)\n",
    "    all_trial_index.append(trial_index)\n",
    "    all_trial_elapsed_time.append(trial_elapsed_time)\n",
    "    all_angle_for_autostep.append(angle_for_autostep)\n",
    "    all_init_angle.append(init_angle)\n",
    "    all_autostep_running.append(autostep_running)\n",
    "    all_autostep_started.append(autostep_started)\n",
    "    all_autostep_stopped.append(autostep_stopped)\n",
    "    all_flow_running.append(flow_running)\n",
    "    all_flow_started.append(flow_started)\n",
    "    all_flow_stopped.append(flow_stopped)\n",
    "    all_panels_running.append(panels_running)\n",
    "    all_panels_started.append(panels_started)\n",
    "    all_panels_stopped.append(panels_stopped)\n",
    "    all_magnotether_angle.append(magnotether_angle)\n",
    "    all_magnotether_ros_tstamps.append(magnotether_ros_tstamps)\n",
    "    all_magnotether_tstamps.append(magnotether_tstamps)\n",
    "    all_motion_ros_tstamps.append(motion_ros_tstamps)\n",
    "    all_motion_tstamps.append(motion_tstamps)\n",
    "    all_motion_setpoint.append(motion_setpoint)\n",
    "    all_motion_position.append(motion_position)"
   ]
  },
  {
   "cell_type": "code",
   "execution_count": 8,
   "metadata": {
    "code_folding": [
     0
    ],
    "scrolled": false
   },
   "outputs": [],
   "source": [
    "# #dropping frames\n",
    "# times = all_magnotether_tstamps\n",
    "\n",
    "# for i in range(len(times)):\n",
    "#     plt.figure(figsize = (15,5))\n",
    "#     plt.scatter(np.arange(0, len(times[i])-1, 1), np.diff(times[i]))\n",
    "#     #plt.ylim(0,0.2)\n",
    "#     plt.title('timestamps')\n",
    "#     frames_dropped = []\n",
    "#     for j in range(len(np.diff(times[i]))):\n",
    "#         if (np.diff(times[i]))[j]>0.06:\n",
    "#             frames_dropped.append(i)\n",
    "#             #print((np.diff(times[i]))[j])\n",
    "#     print('percent dropped')\n",
    "#     print(len(frames_dropped)*100/len(times[i]))\n",
    "\n",
    "# times = all_magnotether_ros_tstamps\n",
    "\n",
    "# for i in range(len(times)):\n",
    "#     plt.figure(figsize = (15,5))\n",
    "#     plt.scatter(np.arange(0, len(times[i])-1, 1), np.diff(times[i]))\n",
    "#     #plt.ylim(0,0.2)\n",
    "#     #plt.xlim(0,500)\n",
    "#     plt.title('ros timestamps')\n",
    "#     frames_dropped = []\n",
    "#     for j in range(len(np.diff(times[i]))):\n",
    "#         if (np.diff(times[i]))[j]>0.06:\n",
    "#             frames_dropped.append(i)\n",
    "#             #print((np.diff(times[i]))[j])\n",
    "#     print('percent dropped')\n",
    "#     print(len(frames_dropped))\n",
    "#     print(len(frames_dropped)*100/len(times[i]))    "
   ]
  },
  {
   "cell_type": "code",
   "execution_count": 9,
   "metadata": {
    "collapsed": true
   },
   "outputs": [],
   "source": [
    "def smallestSignedAngleBetween(x, y):\n",
    "    a = math.atan2(math.sin(y-x), math.cos(y-x))\n",
    "    return a\n",
    "\n",
    "def get_smallestSignedAngleBetween(ax, y):\n",
    "    yy=np.deg2rad(np.ones(len(ax))*y)\n",
    "    axx = np.deg2rad(ax)\n",
    "    \n",
    "    array_smallestsignedangle = []\n",
    "    for k in range(len(ax)):\n",
    "        kk = smallestSignedAngleBetween(axx[k], yy[k])*-1\n",
    "        kk = (np.rad2deg(kk))\n",
    "        array_smallestsignedangle.append(kk)\n",
    "    \n",
    "    return array_smallestsignedangle"
   ]
  },
  {
   "cell_type": "code",
   "execution_count": 10,
   "metadata": {
    "code_folding": []
   },
   "outputs": [
    {
     "name": "stdout",
     "output_type": "stream",
     "text": [
      "[[90, 90, 90, 180, 90, 90], [180, 0, 90, -90, 0, 180], [-90, 0, 180, -90, 0, 180], [180, -90, 90, -90, 0, 90], [-90, 90, -90, 90, -90, 0], [-90, -90, -90, -90, -90, -90], [90, -90, 90, 180, -90, 0]]\n"
     ]
    }
   ],
   "source": [
    "#get which patterns where presented\n",
    "number_trials = 7\n",
    "#Get panel angle from init angle\n",
    "all_init_angle_pats = []\n",
    "for i in range(len(datapaths)):\n",
    "    ang_panel_pattern_trials = []\n",
    "    for j in range((number_trials)):\n",
    "        ang_panel_pattern = all_init_angle[i][np.where(all_trial_index[i]==j)][0]\n",
    "        ang_panel_pattern_trials.append(ang_panel_pattern)\n",
    "    all_init_angle_pats.append(ang_panel_pattern_trials)\n",
    "\n",
    "all_pats = []\n",
    "for i in range(len(datapaths)):\n",
    "    pats_trials = []\n",
    "    for j in [1,2,3,4,5,6]:\n",
    "        if -180<=all_init_angle_pats[i][j]<=-90:\n",
    "            p=90\n",
    "        elif -90<=all_init_angle_pats[i][j]<=0:\n",
    "            p=180\n",
    "        elif 0<=all_init_angle_pats[i][j]<=90:\n",
    "            p=-90\n",
    "        elif 90<=all_init_angle_pats[i][j]<=180:\n",
    "            p=0\n",
    "        pats_trials.append(p)\n",
    "    all_pats.append(pats_trials)\n",
    "print(all_pats)"
   ]
  },
  {
   "cell_type": "code",
   "execution_count": 11,
   "metadata": {},
   "outputs": [
    {
     "name": "stdout",
     "output_type": "stream",
     "text": [
      "55506\n",
      "55506\n",
      "34110\n"
     ]
    }
   ],
   "source": [
    "print(len(all_elapsed_time[0]))\n",
    "# print(len(all_magnotether_tstamps[0]))\n",
    "# print(len(all_magnotether_angle[0]))\n",
    "# print(len(all_motion_position[0]))\n",
    "\n",
    "print(len(all_ts[0]))\n",
    "print(len(all_magnotether_angle[0]))\n",
    "#plt.plot(np.diff(all_motion_ros_tstamps[0]-all_motion_ros_tstamps[0][0]))"
   ]
  },
  {
   "cell_type": "code",
   "execution_count": 12,
   "metadata": {
    "code_folding": []
   },
   "outputs": [
    {
     "name": "stdout",
     "output_type": "stream",
     "text": [
      "[0.47083616256713867, 30.471431016921997, 210.51492309570312, 395.73914313316345, 579.2285640239716, 762.854730129242, 946.2382340431213]\n",
      "[30.451422214508057, 210.4949231147766, 395.7191650867462, 579.206493139267, 762.8347861766815, 946.2182412147522, 1129.1800601482391]\n",
      "[0, 1501, 10501, 19502, 28503, 37504, 46505]\n",
      "[1500, 10500, 19501, 28502, 37503, 46504, 55505]\n",
      "[0.4663405418395996, 30.457223653793335, 210.50138115882874, 395.74185013771057, 579.2443437576294, 762.847493648529, 946.2488586902618]\n",
      "[30.457223653793335, 210.50138115882874, 395.7006776332855, 579.2088062763214, 762.847493648529, 946.2182102203369, 1129.1853337287903]\n",
      "[14, 914, 6269, 11752, 17193, 22616, 28065]\n",
      "[914, 6269, 11751, 17192, 22616, 28064, 33474]\n"
     ]
    }
   ],
   "source": [
    "#this gets the times when the trial changes in the virtual desert node\n",
    "#then see when that corresponds in magnotether\n",
    "all_start_times = []\n",
    "all_end_times = []\n",
    "for i in range(len(datapaths)):\n",
    "    start_times_trials = []\n",
    "    end_times_trials = []\n",
    "    for j in range((number_trials)):\n",
    "        start_time = all_elapsed_time[i][np.where(all_trial_index[i]==j)][0]\n",
    "        end_time = all_elapsed_time[i][np.where(all_trial_index[i]==j)][-1]\n",
    "        start_times_trials.append(start_time)\n",
    "        end_times_trials.append(end_time)\n",
    "    all_start_times.append(start_times_trials)\n",
    "    all_end_times.append(end_times_trials)\n",
    "    \n",
    "print(all_start_times[0])\n",
    "print(all_end_times[0])\n",
    "\n",
    "all_start_frames = []\n",
    "all_end_frames = []\n",
    "for i in range(len(datapaths)):\n",
    "    start_frames_trials = []\n",
    "    end_frames_trials = []\n",
    "    for j in range((number_trials)):\n",
    "        start_frame = [np.where(all_trial_index[i]==j)][0][0][0]\n",
    "        end_frame = [np.where(all_trial_index[i]==j)][0][0][-1]\n",
    "        start_frames_trials.append(start_frame)\n",
    "        end_frames_trials.append(end_frame)\n",
    "    all_start_frames.append(start_frames_trials)\n",
    "    all_end_frames.append(end_frames_trials)\n",
    "print(all_start_frames[0])\n",
    "print(all_end_frames[0])\n",
    "\n",
    "def find_nearest(array, value):\n",
    "    array = np.asarray(array)\n",
    "    idx = (np.abs(array - value)).argmin()\n",
    "    return array[idx]\n",
    "\n",
    "def find_nearest_idx(array, value):\n",
    "    array = np.asarray(array)\n",
    "    idx = (np.abs(array - value)).argmin()\n",
    "    return idx\n",
    "\n",
    "#get elapsed times from magnotether node\n",
    "all_magnotether_elapsed = []\n",
    "for i in range(len(datapaths)):\n",
    "    magno_elapsed = all_magnotether_ros_tstamps[i] - all_magnotether_ros_tstamps[i][0]\n",
    "    all_magnotether_elapsed.append(magno_elapsed)\n",
    "\n",
    "all_start_times_m = []    \n",
    "all_end_times_m = []   \n",
    "for i in range(len(all_start_times)): \n",
    "    start_times_trials_m = []\n",
    "    end_times_trials_m = []    \n",
    "    for j in range((number_trials)):\n",
    "        start_times_m = find_nearest(all_magnotether_elapsed[i], all_start_times[i][j])\n",
    "        end_times_m = find_nearest(all_magnotether_elapsed[i], all_end_times[i][j])\n",
    "        start_times_trials_m.append(start_times_m)\n",
    "        end_times_trials_m.append(end_times_m)\n",
    "    all_start_times_m.append(start_times_trials_m)    \n",
    "    all_end_times_m.append(end_times_trials_m)     \n",
    "    \n",
    "print(all_start_times_m[0])   \n",
    "print(all_end_times_m[0])   \n",
    "\n",
    "all_start_frames_m = []    \n",
    "all_end_frames_m = []   \n",
    "for i in range(len(all_start_times)): \n",
    "    start_frames_trials_m = []\n",
    "    end_frames_trials_m = []    \n",
    "    for j in range((number_trials)):\n",
    "        start_frames_m = find_nearest_idx(all_magnotether_elapsed[i], all_start_times[i][j])\n",
    "        end_frames_m = find_nearest_idx(all_magnotether_elapsed[i], all_end_times[i][j])\n",
    "        start_frames_trials_m.append(start_frames_m)\n",
    "        end_frames_trials_m.append(end_frames_m)\n",
    "    all_start_frames_m.append(start_frames_trials_m)    \n",
    "    all_end_frames_m.append(end_frames_trials_m)     \n",
    "    \n",
    "print(all_start_frames_m[0])   \n",
    "print(all_end_frames_m[0]) "
   ]
  },
  {
   "cell_type": "code",
   "execution_count": 13,
   "metadata": {
    "code_folding": [
     0
    ],
    "collapsed": true
   },
   "outputs": [],
   "source": [
    "# all_start_times_m = []\n",
    "# all_end_times_m = []\n",
    "# for i in range(len(datapaths)):\n",
    "#     start_times_trials_m = []\n",
    "#     end_times_trials_m = []\n",
    "#     for j in range((number_trials)):\n",
    "#         start_time_m = all_magnotether_elapsed[i][np.where(all_trial_index[i]==j)][0]\n",
    "#         end_time_m = all_magnotether_elapsed[i][np.where(all_trial_index[i]==j)][-1]\n",
    "#         start_times_trials_m.append(start_time_m)\n",
    "#         end_times_trials_m.append(end_time_m)\n",
    "#     all_start_times_m.append(start_times_trials_m)\n",
    "#     all_end_times_m.append(end_times_trials_m)\n",
    "# print(all_start_times_m[0])\n",
    "# print(all_end_times_m[0])\n"
   ]
  },
  {
   "cell_type": "code",
   "execution_count": 14,
   "metadata": {},
   "outputs": [
    {
     "name": "stdout",
     "output_type": "stream",
     "text": [
      "[0, 1501, 10501, 19502, 28503, 37504, 46505]\n",
      "[1500, 10500, 19501, 28502, 37503, 46504, 55505]\n"
     ]
    }
   ],
   "source": [
    "#this gets the times when the trial changes in the virtual desert node\n",
    "#then see when that corresponds in magnotether\n",
    "\n",
    "all_start_frames = []\n",
    "all_end_frames = []\n",
    "for i in range(len(datapaths)):\n",
    "    start_frames_trials = []\n",
    "    end_frames_trials = []\n",
    "    for j in range((number_trials)):\n",
    "        start_frame = [np.where(all_trial_index[i]==j)][0][0][0]\n",
    "        end_frame = [np.where(all_trial_index[i]==j)][0][0][-1]\n",
    "        start_frames_trials.append(start_frame)\n",
    "        end_frames_trials.append(end_frame)\n",
    "    all_start_frames.append(start_frames_trials)\n",
    "    all_end_frames.append(end_frames_trials)\n",
    "print(all_start_frames[0])\n",
    "print(all_end_frames[0])\n",
    "\n"
   ]
  },
  {
   "cell_type": "code",
   "execution_count": 15,
   "metadata": {},
   "outputs": [
    {
     "ename": "NameError",
     "evalue": "name 'allangles' is not defined",
     "output_type": "error",
     "traceback": [
      "\u001b[0;31m---------------------------------------------------------------------------\u001b[0m",
      "\u001b[0;31mNameError\u001b[0m                                 Traceback (most recent call last)",
      "\u001b[0;32m<ipython-input-15-2057cf8e9a1c>\u001b[0m in \u001b[0;36m<module>\u001b[0;34m()\u001b[0m\n\u001b[1;32m      2\u001b[0m \u001b[0mj\u001b[0m\u001b[0;34m=\u001b[0m \u001b[0;36m0\u001b[0m\u001b[0;34m\u001b[0m\u001b[0m\n\u001b[1;32m      3\u001b[0m \u001b[0mplt\u001b[0m\u001b[0;34m.\u001b[0m\u001b[0mfigure\u001b[0m\u001b[0;34m(\u001b[0m\u001b[0;34m)\u001b[0m\u001b[0;34m\u001b[0m\u001b[0m\n\u001b[0;32m----> 4\u001b[0;31m \u001b[0mang\u001b[0m \u001b[0;34m=\u001b[0m \u001b[0mallangles\u001b[0m\u001b[0;34m[\u001b[0m\u001b[0mi\u001b[0m\u001b[0;34m]\u001b[0m\u001b[0;34m[\u001b[0m\u001b[0mall_start_frames_m\u001b[0m\u001b[0;34m[\u001b[0m\u001b[0mi\u001b[0m\u001b[0;34m]\u001b[0m\u001b[0;34m[\u001b[0m\u001b[0mj\u001b[0m\u001b[0;34m]\u001b[0m\u001b[0;34m:\u001b[0m\u001b[0mall_end_frames_m\u001b[0m\u001b[0;34m[\u001b[0m\u001b[0mi\u001b[0m\u001b[0;34m]\u001b[0m\u001b[0;34m[\u001b[0m\u001b[0mj\u001b[0m\u001b[0;34m]\u001b[0m\u001b[0;34m]\u001b[0m\u001b[0;34m\u001b[0m\u001b[0m\n\u001b[0m\u001b[1;32m      5\u001b[0m \u001b[0mtimes\u001b[0m \u001b[0;34m=\u001b[0m \u001b[0malltimes\u001b[0m\u001b[0;34m[\u001b[0m\u001b[0mi\u001b[0m\u001b[0;34m]\u001b[0m\u001b[0;34m[\u001b[0m\u001b[0mall_start_frames_m\u001b[0m\u001b[0;34m[\u001b[0m\u001b[0mi\u001b[0m\u001b[0;34m]\u001b[0m\u001b[0;34m[\u001b[0m\u001b[0mj\u001b[0m\u001b[0;34m]\u001b[0m\u001b[0;34m:\u001b[0m\u001b[0mall_end_frames_m\u001b[0m\u001b[0;34m[\u001b[0m\u001b[0mi\u001b[0m\u001b[0;34m]\u001b[0m\u001b[0;34m[\u001b[0m\u001b[0mj\u001b[0m\u001b[0;34m]\u001b[0m\u001b[0;34m]\u001b[0m\u001b[0;34m\u001b[0m\u001b[0m\n\u001b[1;32m      6\u001b[0m \u001b[0mplt\u001b[0m\u001b[0;34m.\u001b[0m\u001b[0mplot\u001b[0m\u001b[0;34m(\u001b[0m\u001b[0mtimes\u001b[0m\u001b[0;34m,\u001b[0m \u001b[0mang\u001b[0m\u001b[0;34m)\u001b[0m\u001b[0;34m\u001b[0m\u001b[0m\n",
      "\u001b[0;31mNameError\u001b[0m: name 'allangles' is not defined"
     ]
    },
    {
     "data": {
      "text/plain": [
       "<matplotlib.figure.Figure at 0x109807b70>"
      ]
     },
     "metadata": {},
     "output_type": "display_data"
    }
   ],
   "source": [
    "i = 0\n",
    "j= 0\n",
    "plt.figure()\n",
    "ang = allangles[i][all_start_frames_m[i][j]:all_end_frames_m[i][j]]\n",
    "times = alltimes[i][all_start_frames_m[i][j]:all_end_frames_m[i][j]]\n",
    "plt.plot(times, ang)\n",
    "\n",
    "i = 0\n",
    "j= 1\n",
    "plt.figure()\n",
    "ang = allangles[i][all_start_frames_m[i][j]:all_end_frames_m[i][j]]\n",
    "times = alltimes[i][all_start_frames_m[i][j]:all_end_frames_m[i][j]]\n",
    "plt.plot(times, ang)"
   ]
  },
  {
   "cell_type": "code",
   "execution_count": 34,
   "metadata": {
    "scrolled": false
   },
   "outputs": [
    {
     "name": "stdout",
     "output_type": "stream",
     "text": [
      "34110\n"
     ]
    },
    {
     "ename": "NameError",
     "evalue": "name 'ax' is not defined",
     "output_type": "error",
     "traceback": [
      "\u001b[0;31m---------------------------------------------------------------------------\u001b[0m",
      "\u001b[0;31mNameError\u001b[0m                                 Traceback (most recent call last)",
      "\u001b[0;32m<ipython-input-34-4304d9a11767>\u001b[0m in \u001b[0;36m<module>\u001b[0;34m()\u001b[0m\n\u001b[1;32m     15\u001b[0m         \u001b[0ma\u001b[0m \u001b[0;34m=\u001b[0m \u001b[0mall_start_frames_m\u001b[0m\u001b[0;34m[\u001b[0m\u001b[0mi\u001b[0m\u001b[0;34m]\u001b[0m\u001b[0;34m[\u001b[0m\u001b[0mj\u001b[0m\u001b[0;34m]\u001b[0m\u001b[0;34m\u001b[0m\u001b[0m\n\u001b[1;32m     16\u001b[0m         \u001b[0mb\u001b[0m \u001b[0;34m=\u001b[0m \u001b[0mall_end_frames_m\u001b[0m\u001b[0;34m[\u001b[0m\u001b[0mi\u001b[0m\u001b[0;34m]\u001b[0m\u001b[0;34m[\u001b[0m\u001b[0mj\u001b[0m\u001b[0;34m]\u001b[0m\u001b[0;34m\u001b[0m\u001b[0m\n\u001b[0;32m---> 17\u001b[0;31m         \u001b[0max\u001b[0m\u001b[0;34m[\u001b[0m\u001b[0mj\u001b[0m\u001b[0;34m+\u001b[0m\u001b[0;36m1\u001b[0m\u001b[0;34m]\u001b[0m \u001b[0;34m=\u001b[0m \u001b[0mplt\u001b[0m\u001b[0;34m.\u001b[0m\u001b[0msubplot\u001b[0m\u001b[0;34m(\u001b[0m\u001b[0mgs\u001b[0m\u001b[0;34m[\u001b[0m\u001b[0mj\u001b[0m\u001b[0;34m,\u001b[0m \u001b[0;34m:\u001b[0m\u001b[0;34m]\u001b[0m\u001b[0;34m)\u001b[0m\u001b[0;34m\u001b[0m\u001b[0m\n\u001b[0m\u001b[1;32m     18\u001b[0m         \u001b[0mang\u001b[0m \u001b[0;34m=\u001b[0m \u001b[0mallangles\u001b[0m\u001b[0;34m[\u001b[0m\u001b[0mi\u001b[0m\u001b[0;34m]\u001b[0m\u001b[0;34m[\u001b[0m\u001b[0ma\u001b[0m\u001b[0;34m:\u001b[0m\u001b[0mb\u001b[0m\u001b[0;34m]\u001b[0m\u001b[0;34m\u001b[0m\u001b[0m\n\u001b[1;32m     19\u001b[0m         \u001b[0mtimes\u001b[0m \u001b[0;34m=\u001b[0m \u001b[0malltimes\u001b[0m\u001b[0;34m[\u001b[0m\u001b[0mi\u001b[0m\u001b[0;34m]\u001b[0m\u001b[0;34m[\u001b[0m\u001b[0ma\u001b[0m\u001b[0;34m:\u001b[0m\u001b[0mb\u001b[0m\u001b[0;34m]\u001b[0m\u001b[0;34m\u001b[0m\u001b[0m\n",
      "\u001b[0;31mNameError\u001b[0m: name 'ax' is not defined"
     ]
    },
    {
     "data": {
      "image/png": "[encoded data removed]",
      "text/plain": [
       "<matplotlib.figure.Figure at 0x10c37d6d8>"
      ]
     },
     "metadata": {},
     "output_type": "display_data"
    }
   ],
   "source": [
    "allangles = all_magnotether_angle\n",
    "alltimes = all_magnotether_elapsed\n",
    "print(len(alltimes[0]))\n",
    "for i in [0]:#range(len(datapaths)):\n",
    "    exp = '0520_params'\n",
    "    fig, axs = plt.subplots(figsize = (15,25), facecolor='w', edgecolor='k')\n",
    "    fig.subplots_adjust(hspace = .4, wspace=.09)\n",
    "    fig.suptitle('Experiment '+exp+'\\n'+'raw data '+'Fly '+str(i),fontsize = 20, fontweight='bold')\n",
    "    fig.subplots_adjust(top=0.95,bottom=0.01 )\n",
    "\n",
    "    gs = gridspec.GridSpec(7,1)\n",
    "\n",
    "    j = 0\n",
    "    a = all_start_frames_m[i][j]\n",
    "    b = all_end_frames_m[i][j]\n",
    "    ax1 = plt.subplot(gs[j, :])\n",
    "    ang = allangles[i][a:b]\n",
    "    times = alltimes[i][a:b]\n",
    "    ax1.plot(times, ang)\n",
    "    ax1.set_ylim([-200, 200])\n",
    "    ax1.set_xlim(alltimes[i][a], alltimes[i][b])\n",
    "    #ax1.set_xticks(np.arange(all_start_frames[j], all_end_frames[j+1], 10798))\n",
    "    ax1.set_yticks(np.arange(-180, 225,45))\n",
    "    ax1.yaxis.set_tick_params(labelsize=15)\n",
    "    ax1.xaxis.set_tick_params(labelsize=15)\n",
    "\n",
    "    ##\n",
    "    j = 1\n",
    "    a = all_start_frames_m[i][j]\n",
    "    b = all_end_frames_m[i][j]\n",
    "    \n",
    "    ax2 = plt.subplot(gs[1, :])\n",
    "    ang = allangles[i][all_start_frames_m[i][j]:all_end_frames_m[i][j]]\n",
    "    times = alltimes[i][all_start_frames_m[i][j]:all_end_frames_m[i][j]]\n",
    "    ax2.plot(times, ang)\n",
    "    \n",
    "    ##\n",
    "    j = 2\n",
    "    a = all_start_frames_m[i][j]\n",
    "    b = all_end_frames_m[i][j]\n",
    "    \n",
    "    ax3 = plt.subplot(gs[2, :])\n",
    "    ang = allangles[i][all_start_frames_m[i][j]:all_end_frames_m[i][j]]\n",
    "    times = alltimes[i][all_start_frames_m[i][j]:all_end_frames_m[i][j]]\n",
    "    ax3.plot(times, ang)\n",
    "    \n",
    "    ##\n",
    "    j = 3\n",
    "    a = all_start_frames_m[i][j]\n",
    "    b = all_end_frames_m[i][j]\n",
    "    \n",
    "    ax4 = plt.subplot(gs[3, :])\n",
    "    ang = allangles[i][all_start_frames_m[i][j]:all_end_frames_m[i][j]]\n",
    "    times = alltimes[i][all_start_frames_m[i][j]:all_end_frames_m[i][j]]\n",
    "    ax4.plot(times, ang)\n",
    "    \n",
    "    ##\n",
    "    j = 4\n",
    "    a = all_start_frames_m[i][j]\n",
    "    b = all_end_frames_m[i][j]\n",
    "    \n",
    "    ax5 = plt.subplot(gs[4, :])\n",
    "    ang = allangles[i][all_start_frames_m[i][j]:all_end_frames_m[i][j]]\n",
    "    times = alltimes[i][all_start_frames_m[i][j]:all_end_frames_m[i][j]]\n",
    "    ax5.plot(times, ang)\n",
    "    \n",
    "    ##\n",
    "    j = 5\n",
    "    a = all_start_frames_m[i][j]\n",
    "    b = all_end_frames_m[i][j]\n",
    "    \n",
    "    ax6 = plt.subplot(gs[5, :])\n",
    "    ang = allangles[i][all_start_frames_m[i][j]:all_end_frames_m[i][j]]\n",
    "    times = alltimes[i][all_start_frames_m[i][j]:all_end_frames_m[i][j]]\n",
    "    ax6.plot(times, ang)\n",
    "    \n",
    "    ##\n",
    "    j = 6\n",
    "    a = all_start_frames_m[i][j]\n",
    "    b = all_end_frames_m[i][j]\n",
    "    \n",
    "    ax7 = plt.subplot(gs[6, :])\n",
    "    ang = allangles[i][all_start_frames_m[i][j]:all_end_frames_m[i][j]]\n",
    "    times = alltimes[i][all_start_frames_m[i][j]:all_end_frames_m[i][j]]\n",
    "    ax7.plot(times, ang)"
   ]
  },
  {
   "cell_type": "code",
   "execution_count": 280,
   "metadata": {
    "scrolled": false
   },
   "outputs": [],
   "source": [
    "# #panels \n",
    "# # [[-180.0,  -90.0], 5] -> 90\n",
    "# # [[ -90.0,    0.0], 4] -> 180\n",
    "# # [[   0.0,   90.0], 6] -> -90\n",
    "# # [[  90.0,  180.0], 3] -> 0\n",
    "\n",
    "# for i in range(len(datapaths)):\n",
    "#     plt.figure(figsize = (15,5))\n",
    "#     plt.plot(all_magnotether_angle[i])#[1501:10500]"
   ]
  },
  {
   "cell_type": "code",
   "execution_count": 33,
   "metadata": {
    "scrolled": false
   },
   "outputs": [
    {
     "name": "stdout",
     "output_type": "stream",
     "text": [
      "/Users/fponce/Documents/vdesert/temp/data_2019-06-25-14-14-54.hdf5\n",
      "34110\n",
      "###\n",
      "[0 0 0 ... 6 6 6]\n",
      "###\n",
      "/Users/fponce/Documents/vdesert/temp/data_2019-06-25-14-37-38.hdf5\n",
      "35663\n",
      "###\n",
      "[0 0 0 ... 6 6 6]\n",
      "###\n",
      "/Users/fponce/Documents/vdesert/temp/data_2019-06-25-15-37-57.hdf5\n",
      "37632\n",
      "###\n",
      "[0 0 0 ... 6 6 6]\n",
      "###\n",
      "/Users/fponce/Documents/vdesert/temp/data_2019-06-25-18-21-07.hdf5\n",
      "34101\n",
      "###\n",
      "[0 0 0 ... 6 6 6]\n",
      "###\n",
      "/Users/fponce/Documents/vdesert/temp/data_2019-06-25-18-40-36.hdf5\n",
      "34299\n",
      "###\n",
      "[0 0 0 ... 6 6 6]\n",
      "###\n",
      "/Users/fponce/Documents/vdesert/temp/data_2019-06-25-19-08-47.hdf5\n",
      "33796\n",
      "###\n",
      "[0 0 0 ... 6 6 6]\n",
      "###\n",
      "/Users/fponce/Documents/vdesert/temp/data_2019-06-25-19-40-18.hdf5\n",
      "34510\n",
      "###\n",
      "[0 0 0 ... 6 6 6]\n",
      "###\n"
     ]
    }
   ],
   "source": [
    "for i in range(len(datapaths)):\n",
    "    print(datapaths[i])\n",
    "    print(len(all_magnotether_angle[i]))\n",
    "    print('###')\n",
    "    print((all_trial_index[i]))\n",
    "    print('###')\n"
   ]
  },
  {
   "cell_type": "code",
   "execution_count": null,
   "metadata": {
    "collapsed": true
   },
   "outputs": [],
   "source": []
  },
  {
   "cell_type": "code",
   "execution_count": null,
   "metadata": {
    "collapsed": true
   },
   "outputs": [],
   "source": []
  },
  {
   "cell_type": "code",
   "execution_count": 113,
   "metadata": {},
   "outputs": [
    {
     "name": "stdout",
     "output_type": "stream",
     "text": [
      "10983\n"
     ]
    }
   ],
   "source": [
    "for i in range(len(all_autostep_running)):\n",
    "    aa = all_autostep_started[i].tolist()\n",
    "    res = list(compress(range(len(aa)), aa)) \n",
    "    print(len(res))"
   ]
  },
  {
   "cell_type": "code",
   "execution_count": 83,
   "metadata": {},
   "outputs": [
    {
     "name": "stdout",
     "output_type": "stream",
     "text": [
      "True\n",
      "[False  True  True ...  True  True  True]\n"
     ]
    }
   ],
   "source": [
    "from itertools import compress \n",
    "test_list = (all_flow_started[0])\n",
    "if test_list[100] == True:\n",
    "    print(test_list[100])\n",
    "    print(test_list)"
   ]
  },
  {
   "cell_type": "code",
   "execution_count": 85,
   "metadata": {},
   "outputs": [
    {
     "data": {
      "text/plain": [
       "numpy.ndarray"
      ]
     },
     "execution_count": 85,
     "metadata": {},
     "output_type": "execute_result"
    }
   ],
   "source": [
    "# print(isinstance(test_list, ))\n",
    "type(test_list)"
   ]
  },
  {
   "cell_type": "code",
   "execution_count": null,
   "metadata": {
    "collapsed": true
   },
   "outputs": [],
   "source": []
  },
  {
   "cell_type": "code",
   "execution_count": null,
   "metadata": {
    "collapsed": true
   },
   "outputs": [],
   "source": []
  }
 ],
 "metadata": {
  "kernelspec": {
   "display_name": "Python 3",
   "language": "python",
   "name": "python3"
  },
  "language_info": {
   "codemirror_mode": {
    "name": "ipython",
    "version": 3
   },
   "file_extension": ".py",
   "mimetype": "text/x-python",
   "name": "python",
   "nbconvert_exporter": "python",
   "pygments_lexer": "ipython3",
   "version": "3.6.1"
  }
 },
 "nbformat": 4,
 "nbformat_minor": 2
}
