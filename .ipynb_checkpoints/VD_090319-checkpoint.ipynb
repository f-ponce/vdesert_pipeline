{
 "cells": [
  {
   "cell_type": "code",
   "execution_count": 1,
   "metadata": {
    "code_folding": [
     0
    ]
   },
   "outputs": [
    {
     "name": "stderr",
     "output_type": "stream",
     "text": [
      "/usr/local/lib/python3.6/site-packages/h5py/__init__.py:34: FutureWarning: Conversion of the second argument of issubdtype from `float` to `np.floating` is deprecated. In future, it will be treated as `np.float64 == np.dtype(float).type`.\n",
      "  from ._conv import register_converters as _register_converters\n"
     ]
    }
   ],
   "source": [
    "#import packages\n",
    "import numpy as np\n",
    "import copy\n",
    "import pandas\n",
    "import os\n",
    "import imp\n",
    "import pickle\n",
    "from scipy.interpolate import interp1d\n",
    "import warnings\n",
    "import time\n",
    "import matplotlib.pyplot as plt\n",
    "import inspect\n",
    "import types\n",
    "import math as mat\n",
    "import seaborn as sns\n",
    "import matplotlib.gridspec as gridspec\n",
    "from matplotlib.colors import LogNorm\n",
    "import datetime\n",
    "from matplotlib import animation\n",
    "from IPython.display import HTML\n",
    "from tempfile import NamedTemporaryFile\n",
    "import matplotlib.backends.backend_pdf\n",
    "from scipy import interpolate\n",
    "from itertools import groupby\n",
    "import re\n",
    "import csv\n",
    "import copy\n",
    "from fnmatch import fnmatch\n",
    "import json\n",
    "import h5py \n",
    "import copy\n",
    "import math\n",
    "pi = math.pi\n",
    "\n",
    "sns.set()\n",
    "sns.set_style()\n",
    "%matplotlib inline"
   ]
  },
  {
   "cell_type": "code",
   "execution_count": 2,
   "metadata": {
    "code_folding": [
     0
    ],
    "collapsed": true
   },
   "outputs": [],
   "source": [
    "#functions\n",
    "\n",
    "def find_nearest(array, value):\n",
    "    array = np.asarray(array)\n",
    "    idx = (np.abs(array - value)).argmin()\n",
    "    return array[idx]\n",
    "\n",
    "def find_nearest_idx(array, value):\n",
    "    array = np.asarray(array)\n",
    "    idx = (np.abs(array - value)).argmin()\n",
    "    return idx\n",
    "\n",
    "def get_elapsed_time(my_list):\n",
    "#for list of lists\n",
    "    all_t_ellapsed = []\n",
    "    for i in range(len(my_list)):\n",
    "        t_ellapsed = my_list[i] - my_list[i][0]\n",
    "        all_t_ellapsed.append(t_ellapsed)\n",
    "    return all_t_ellapsed\n",
    "\n",
    "def smallestSignedAngleBetween(x, y):\n",
    "    a = math.atan2(math.sin(y-x), math.cos(y-x))\n",
    "    return a\n",
    "\n",
    "def get_smallestSignedAngleBetween(ax, y):\n",
    "    yy=np.deg2rad(np.ones(len(ax))*y)\n",
    "    axx = np.deg2rad(ax)\n",
    "    \n",
    "    array_smallestsignedangle = []\n",
    "    for k in range(len(ax)):\n",
    "        kk = smallestSignedAngleBetween(axx[k], yy[k])*-1\n",
    "        kk = (np.rad2deg(kk))\n",
    "        array_smallestsignedangle.append(kk)\n",
    "    \n",
    "    return array_smallestsignedangle\n",
    "\n",
    "def circmean(alpha,axis=None):\n",
    "    mean_angle = np.arctan2(np.mean(np.sin(alpha),axis),np.mean(np.cos(alpha),axis))\n",
    "    return mean_angle\n",
    "\n",
    "def circvar(alpha,axis=None):\n",
    "#### vector strength = 1 - circvar\n",
    "#     if np.ma.isMaskedArray(alpha) and alpha.mask.shape!=():\n",
    "#         N = np.sum(~alpha.mask,axis)\n",
    "#     else:\n",
    "#         if axis is None:\n",
    "#             N = alpha.size\n",
    "#         else:\n",
    "#             N = alpha.shape[axis]\n",
    "    R = np.sqrt(np.sum(np.sin(alpha),axis)**2 + np.sum(np.cos(alpha),axis)**2)/len(alpha)\n",
    "    V = 1-R\n",
    "    return R"
   ]
  },
  {
   "cell_type": "code",
   "execution_count": 3,
   "metadata": {
    "collapsed": true
   },
   "outputs": [],
   "source": [
    "#Notes:\n",
    "#Patterns are big blobz approximately of 4px by 6px. They are dithered with 10 to 14 intensity levels (depending\n",
    "#if the are moving diagonally or cardinally). 8 different patterns. Only panels are included in this experiment. \n",
    "#Everything else is off. Code for pattern is saved in blobz_ivo_0919"
   ]
  },
  {
   "cell_type": "code",
   "execution_count": 26,
   "metadata": {},
   "outputs": [
    {
     "name": "stdout",
     "output_type": "stream",
     "text": [
      "1295\n"
     ]
    }
   ],
   "source": [
    "dataDir = '/Users/fponce/Documents/vdesert/temp'\n",
    "pattern_vdesert_data = \"*.hdf5\"\n",
    "exp = 'VD_090319'\n",
    "\n",
    "#pattern table used from vdesert params\n",
    "#pattern_angles should correspond to pattern_ids 1 to 1\n",
    "pattern_ids = [1,2,3,4,5,6,7,8]\n",
    "pattern_angles = [45, 135, 90, 180, -45, 0, -90, -135]\n",
    "\n",
    "#for magnotether angle interpolation\n",
    "number_trials = 14\n",
    "trial_time = int((180*number_trials/2) + (5*number_trials/2))\n",
    "number_frames_per_sec = 30\n",
    "print(trial_time)"
   ]
  },
  {
   "cell_type": "code",
   "execution_count": 27,
   "metadata": {},
   "outputs": [
    {
     "name": "stdout",
     "output_type": "stream",
     "text": [
      "/Users/fponce/Documents/vdesert/temp/data_2019-09-04-18-23-31.hdf5\n",
      "4\n"
     ]
    }
   ],
   "source": [
    "#import data\n",
    "datapaths = []\n",
    "for path, subdirs, files in os.walk(dataDir):\n",
    "    for name in files:\n",
    "        if fnmatch(name, pattern_vdesert_data):\n",
    "            datapaths.append(os.path.join(path, name))\n",
    "            \n",
    "print(datapaths[-1])\n",
    "print(len(datapaths))\n",
    "\n",
    "#check for keys\n",
    "# for i in range(len(datapaths)):\n",
    "#     f = h5py.File(datapaths[i], \"r\")\n",
    "#     datasetNames = [n for n in f.keys()]\n",
    "# print(datasetNames)"
   ]
  },
  {
   "cell_type": "code",
   "execution_count": 28,
   "metadata": {
    "code_folding": [
     0
    ]
   },
   "outputs": [],
   "source": [
    "#hdf5 -> np.arrays\n",
    "all_params_ts = []\n",
    "all_data_params = []\n",
    "\n",
    "all_ros_ts = []\n",
    "all_ts = []\n",
    "all_elapsed_time = []\n",
    "all_trial_index = []\n",
    "all_trial_elapsed_time = []\n",
    "all_angle_for_autostep = []\n",
    "all_init_angle = []\n",
    "all_autostep_running = []\n",
    "all_autostep_started = []\n",
    "all_autostep_stopped = []\n",
    "all_flow_running = []\n",
    "all_flow_started = []\n",
    "all_flow_stopped = []\n",
    "all_panels_running = []\n",
    "all_panels_started = []\n",
    "all_panels_stopped = []\n",
    "\n",
    "all_magnotether_angle = []\n",
    "all_magnotether_ros_tstamps = []\n",
    "all_magnotether_tstamps = []\n",
    "\n",
    "all_motion_ros_tstamps = []\n",
    "all_motion_tstamps = []\n",
    "all_motion_setpoint = []\n",
    "all_motion_position = []\n",
    "\n",
    "all_ledpanels_ros_tstamps = []\n",
    "all_ledpanels_command = []\n",
    "all_ledpanels_1 = []\n",
    "all_ledpanels_2 = []\n",
    "all_ledpanels_3 = []\n",
    "all_ledpanels_4 = []\n",
    "all_ledpanels_5 = []\n",
    "all_ledpanels_6 = []\n",
    "\n",
    "for i in range(len(datapaths)):\n",
    "    f = h5py.File(datapaths[i], \"r\")\n",
    "    \n",
    "    #parameters topic\n",
    "    params_ts = np.asarray(f['data_params_ros_tstamps'])\n",
    "    data_params = np.asarray(f['data_params'])\n",
    "    \n",
    "    #virtual_desert topic\n",
    "    ros_ts = np.asarray(f['ros_tstamps'])\n",
    "    ts = np.asarray(f['tstamps'])\n",
    "    elapsed_time = np.asarray(f['elapsed_time'])\n",
    "    trial_index = np.asarray(f['current_trial_index'])\n",
    "    trial_elapsed_time = np.asarray(f['trial_e_time'])\n",
    "    angle_for_autostep = np.asarray(f['angle'])\n",
    "    init_angle = np.asarray(f['init_angle'])\n",
    "    \n",
    "    #actions\n",
    "    autostep_running = np.asarray(f['autostep_action_running'])\n",
    "    autostep_started = np.asarray(f['autostep_action_started'])\n",
    "    autostep_stopped = np.asarray(f['autostep_action_stopped'])\n",
    "    \n",
    "    flow_running = np.asarray(f['flow_action_running'])\n",
    "    flow_started = np.asarray(f['flow_action_started'])\n",
    "    flow_stopped = np.asarray(f['flow_action_stopped'])  \n",
    "    \n",
    "    panels_running = np.asarray(f['panels_action_running'])\n",
    "    panels_started = np.asarray(f['panels_action_started'])\n",
    "    panels_stopped = np.asarray(f['panels_action_stopped'])      \n",
    "    \n",
    "    #magnotether_angle topic\n",
    "    magnotether_angle = np.asarray(f['magnotether_angle'])\n",
    "    magnotether_ros_tstamps = np.asarray(f['magnotether_ros_tstamps'])\n",
    "    magnotether_tstamps = np.asarray(f['magnotether_tstamps'])\n",
    "    \n",
    "    #motion_data topic\n",
    "    motion_ros_tstamps = np.asarray(f['motion_data_ros_tstamps'])\n",
    "    motion_tstamps = np.asarray(f['motion_data_tstamps'])\n",
    "    motion_setpoint = np.asarray(f['motion_data_setpoint'])\n",
    "    motion_position = np.asarray(f['motion_data_position'])\n",
    "    \n",
    "    #ledpanels topic\n",
    "    ledpanels_ros_tstamps = np.asarray(f['ledpanels_ros_tstamps'])\n",
    "    ledpanels_command = np.asarray(f['ledpanels_panels_command'])\n",
    "    ledpanels_1 = np.asarray(f['ledpanels_panels_arg1'])\n",
    "    ledpanels_2 = np.asarray(f['ledpanels_panels_arg2'])\n",
    "    ledpanels_3 = np.asarray(f['ledpanels_panels_arg3'])\n",
    "    ledpanels_4 = np.asarray(f['ledpanels_panels_arg4']) \n",
    "    ledpanels_5 = np.asarray(f['ledpanels_panels_arg5']) \n",
    "    ledpanels_6 = np.asarray(f['ledpanels_panels_arg6']) \n",
    "    \n",
    "    all_params_ts.append(params_ts)\n",
    "    all_data_params.append(data_params)\n",
    "    all_ros_ts.append(ros_ts)\n",
    "    all_ts.append(ts)\n",
    "    all_elapsed_time.append(elapsed_time)\n",
    "    all_trial_index.append(trial_index)\n",
    "    all_trial_elapsed_time.append(trial_elapsed_time)\n",
    "    all_angle_for_autostep.append(angle_for_autostep)\n",
    "    all_init_angle.append(init_angle)\n",
    "    all_autostep_running.append(autostep_running)\n",
    "    all_autostep_started.append(autostep_started)\n",
    "    all_autostep_stopped.append(autostep_stopped)\n",
    "    all_flow_running.append(flow_running)\n",
    "    all_flow_started.append(flow_started)\n",
    "    all_flow_stopped.append(flow_stopped)\n",
    "    all_panels_running.append(panels_running)\n",
    "    all_panels_started.append(panels_started)\n",
    "    all_panels_stopped.append(panels_stopped)\n",
    "    all_magnotether_angle.append(magnotether_angle)\n",
    "    all_magnotether_ros_tstamps.append(magnotether_ros_tstamps)\n",
    "    all_magnotether_tstamps.append(magnotether_tstamps)\n",
    "    all_motion_ros_tstamps.append(motion_ros_tstamps)\n",
    "    all_motion_tstamps.append(motion_tstamps)\n",
    "    all_motion_setpoint.append(motion_setpoint)\n",
    "    all_motion_position.append(motion_position)\n",
    "    all_ledpanels_1.append(ledpanels_1)\n",
    "    all_ledpanels_2.append(ledpanels_2)\n",
    "    all_ledpanels_3.append(ledpanels_3)\n",
    "    all_ledpanels_4.append(ledpanels_4)\n",
    "    all_ledpanels_5.append(ledpanels_5)\n",
    "    all_ledpanels_6.append(ledpanels_6)\n",
    "    all_ledpanels_command.append(ledpanels_command)\n",
    "    all_ledpanels_ros_tstamps.append(ledpanels_ros_tstamps)"
   ]
  },
  {
   "cell_type": "code",
   "execution_count": 29,
   "metadata": {},
   "outputs": [],
   "source": [
    "# #quick look data\n",
    "# for i in range(len(all_magnotether_angle)):\n",
    "#     plt.figure()\n",
    "#     plt.plot(all_magnotether_angle[i])\n",
    "#     plt.title(datapaths[i])"
   ]
  },
  {
   "cell_type": "code",
   "execution_count": 30,
   "metadata": {
    "code_folding": [
     0
    ]
   },
   "outputs": [],
   "source": [
    "#get ledpanels info\n",
    "\n",
    "#gets the indeces of the set pattern id command\n",
    "all_idx_pat_command = []\n",
    "all_idx_gain_command = []\n",
    "for i in range(len(datapaths)):\n",
    "    idx_pat_command = [i for i, x in enumerate(all_ledpanels_command[i])\n",
    "               if x == b'set_pattern_id']\n",
    "    idx_gain_command = [i for i, x in enumerate(all_ledpanels_command[i])\n",
    "               if x == b'send_gain_bias']\n",
    "    all_idx_pat_command.append(idx_pat_command)\n",
    "    all_idx_gain_command.append(idx_gain_command)\n",
    "\n",
    "#get elapsed time of panels\n",
    "all_ledpanels_elapsed_t = get_elapsed_time(all_ledpanels_ros_tstamps)\n",
    "\n",
    "#get the timestamp and elapsed time of the set pattern id command\n",
    "all_ros_tstamps_pat_id = []\n",
    "all_ledpanels_elapsed_t_pat_id  = []\n",
    "for i in range(len(all_idx_pat_command)):\n",
    "    ros_tstamps_pat_id_file = []\n",
    "    ledpanels_elapsed_t_pat_id_file = []\n",
    "    for j in (all_idx_pat_command[i]):\n",
    "        ros_tstamps_pat_id = all_ledpanels_ros_tstamps[i][j]\n",
    "        ledpanels_elapsed_t_pat_id = all_ledpanels_elapsed_t[i][j]\n",
    "        \n",
    "        ros_tstamps_pat_id_file.append(ros_tstamps_pat_id)\n",
    "        ledpanels_elapsed_t_pat_id_file.append(ledpanels_elapsed_t_pat_id)\n",
    "        \n",
    "    all_ros_tstamps_pat_id.append(ros_tstamps_pat_id_file)\n",
    "    all_ledpanels_elapsed_t_pat_id.append(ledpanels_elapsed_t_pat_id_file) \n",
    "    \n",
    "#get arg1 for pannel_id command and gains\n",
    "#get the arg1 for the rows of pattern_id command\n",
    "all_pattern_id = []\n",
    "for i in range(len(all_idx_pat_command)):\n",
    "    pattern_id_file = []\n",
    "    for j in (all_idx_pat_command[i]):\n",
    "        arg1 = all_ledpanels_1[i][j]\n",
    "        pattern_id_file.append(arg1)\n",
    "    all_pattern_id.append(pattern_id_file)\n",
    "    \n",
    "#get the arg1 for the rows of gain command\n",
    "all_gains = []\n",
    "for i in range(len(all_idx_gain_command)):\n",
    "    gains_file = []\n",
    "    for j in (all_idx_gain_command[i]):\n",
    "        arg1 = all_ledpanels_1[i][j]\n",
    "        gains_file.append(arg1)\n",
    "    all_gains.append(gains_file)\n",
    "    \n",
    "# print(all_ledpanels_elapsed_t_pat_id[0])\n",
    "# print(all_pattern_id[0])\n",
    "# print(all_gains[0])"
   ]
  },
  {
   "cell_type": "code",
   "execution_count": 31,
   "metadata": {
    "code_folding": [
     0
    ]
   },
   "outputs": [
    {
     "name": "stdout",
     "output_type": "stream",
     "text": [
      "38850\n"
     ]
    }
   ],
   "source": [
    "#interpolation of magnotether angles\n",
    "\n",
    "t = [0,trial_time]\n",
    "print(trial_time*number_frames_per_sec)\n",
    "reg_t = np.linspace(t[0], t[-1],(trial_time*number_frames_per_sec)+1)\n",
    "\n",
    "#getting elapsed time of time stamps to use\n",
    "all_ts = get_elapsed_time(all_magnotether_ros_tstamps)\n",
    "\n",
    "#making the interpolation\n",
    "all_magnotether_interp_angles = []\n",
    "for i in range(len(datapaths)):       \n",
    "    mysecs_np = all_ts[i]\n",
    "    myangles_np = all_magnotether_angle[i]    \n",
    "    f_a = interp1d(mysecs_np, myangles_np, bounds_error=False)\n",
    "    reg_a = f_a(reg_t)\n",
    "    all_magnotether_interp_angles.append(reg_a)"
   ]
  },
  {
   "cell_type": "code",
   "execution_count": 39,
   "metadata": {
    "code_folding": []
   },
   "outputs": [],
   "source": [
    "#this gets the times(all_elapsed_time) when the trial changes in the virtual desert node\n",
    "\n",
    "all_start_times = []\n",
    "all_end_times = []\n",
    "for i in range(len(datapaths)):\n",
    "    start_times_trials = []\n",
    "    end_times_trials = []\n",
    "    for j in range(number_trials):\n",
    "        start_time = all_elapsed_time[i][np.where(all_trial_index[i]==j)][0]\n",
    "        end_time = all_elapsed_time[i][np.where(all_trial_index[i]==j)][-1]\n",
    "        start_times_trials.append(start_time)\n",
    "        end_times_trials.append(end_time)\n",
    "    all_start_times.append(start_times_trials)\n",
    "    all_end_times.append(end_times_trials)\n",
    "    \n",
    "# print(all_start_times[0])\n",
    "# print(all_end_times[0])\n",
    "\n",
    "all_start_frames = []\n",
    "all_end_frames = []\n",
    "for i in range(len(datapaths)):\n",
    "    start_frames_trials = []\n",
    "    end_frames_trials = []\n",
    "    for j in range((number_trials)):\n",
    "        start_frame = [np.where(all_trial_index[i]==j)][0][0][0]\n",
    "        end_frame = [np.where(all_trial_index[i]==j)][0][0][-1]\n",
    "        start_frames_trials.append(start_frame)\n",
    "        end_frames_trials.append(end_frame)\n",
    "    all_start_frames.append(start_frames_trials)\n",
    "    all_end_frames.append(end_frames_trials)\n",
    "# print(all_start_frames[0])\n",
    "# print(all_end_frames[0])"
   ]
  },
  {
   "cell_type": "code",
   "execution_count": 10,
   "metadata": {},
   "outputs": [
    {
     "ename": "AttributeError",
     "evalue": "'Dataset' object has no attribute 'tolist'",
     "output_type": "error",
     "traceback": [
      "\u001b[0;31m--------------------------------------------------------------------\u001b[0m",
      "\u001b[0;31mAttributeError\u001b[0m                     Traceback (most recent call last)",
      "\u001b[0;32m<ipython-input-10-46b5053b13bb>\u001b[0m in \u001b[0;36m<module>\u001b[0;34m()\u001b[0m\n\u001b[0;32m----> 1\u001b[0;31m \u001b[0mt\u001b[0m \u001b[0;34m=\u001b[0m \u001b[0mall_data_params\u001b[0m\u001b[0;34m[\u001b[0m\u001b[0;36m0\u001b[0m\u001b[0;34m]\u001b[0m\u001b[0;34m.\u001b[0m\u001b[0mtolist\u001b[0m\u001b[0;34m(\u001b[0m\u001b[0;34m)\u001b[0m\u001b[0;34m\u001b[0m\u001b[0m\n\u001b[0m\u001b[1;32m      2\u001b[0m \u001b[0mtc\u001b[0m \u001b[0;34m=\u001b[0m \u001b[0;34m[\u001b[0m\u001b[0mi\u001b[0m \u001b[0;32mfor\u001b[0m \u001b[0mi\u001b[0m\u001b[0;34m,\u001b[0m \u001b[0mx\u001b[0m \u001b[0;32min\u001b[0m \u001b[0menumerate\u001b[0m\u001b[0;34m(\u001b[0m\u001b[0mt\u001b[0m\u001b[0;34m)\u001b[0m \u001b[0;32mif\u001b[0m \u001b[0mx\u001b[0m \u001b[0;34m==\u001b[0m \u001b[0;34m\"wait_for_param_sub\"\u001b[0m\u001b[0;34m]\u001b[0m\u001b[0;34m\u001b[0m\u001b[0m\n\u001b[1;32m      3\u001b[0m \u001b[0mprint\u001b[0m\u001b[0;34m(\u001b[0m\u001b[0mtc\u001b[0m\u001b[0;34m)\u001b[0m\u001b[0;34m\u001b[0m\u001b[0m\n",
      "\u001b[0;31mAttributeError\u001b[0m: 'Dataset' object has no attribute 'tolist'"
     ]
    }
   ],
   "source": [
    "# map pattern_ids with angles in lab corrdinates\n",
    "\n",
    "all_pat_angles = []\n",
    "for i in range(len(all_pattern_id)):\n",
    "    pat_angles_file = []\n",
    "    for j in range(len(all_pattern_id[i])):\n",
    "        if all_pattern_id[i][j]==1:\n",
    "            p=-135\n",
    "        elif all_pattern_id[i][j]==2:\n",
    "            p=45\n",
    "        elif all_pattern_id[i][j]==3:\n",
    "            p=135\n",
    "        elif all_pattern_id[i][j]==4:\n",
    "            p=-45\n",
    "        elif all_pattern_id[i][j]==5:\n",
    "            p=90\n",
    "        elif all_pattern_id[i][j]==6:\n",
    "            p=180\n",
    "        elif all_pattern_id[i][j]==7:\n",
    "            p=-90\n",
    "        elif all_pattern_id[i][j]==8:\n",
    "            p=0\n",
    "        else:\n",
    "            print('SOMETHING IS WRONG')\n",
    "        pat_angles_file.append(p)\n",
    "    all_pat_angles.append(pat_angles_file)\n",
    "print(all_pat_angles[3])"
   ]
  },
  {
   "cell_type": "code",
   "execution_count": null,
   "metadata": {
    "collapsed": true
   },
   "outputs": [],
   "source": []
  }
 ],
 "metadata": {
  "kernelspec": {
   "display_name": "Python 3",
   "language": "python",
   "name": "python3"
  },
  "language_info": {
   "codemirror_mode": {
    "name": "ipython",
    "version": 3
   },
   "file_extension": ".py",
   "mimetype": "text/x-python",
   "name": "python",
   "nbconvert_exporter": "python",
   "pygments_lexer": "ipython3",
   "version": "3.6.1"
  }
 },
 "nbformat": 4,
 "nbformat_minor": 2
}
