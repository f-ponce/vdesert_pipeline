{
 "cells": [
  {
   "cell_type": "code",
   "execution_count": 6,
   "metadata": {
    "code_folding": [
     0
    ]
   },
   "outputs": [],
   "source": [
    "#import packages\n",
    "import numpy as np\n",
    "import copy\n",
    "import pandas\n",
    "import os\n",
    "import imp\n",
    "import pickle\n",
    "from scipy.interpolate import interp1d\n",
    "import warnings\n",
    "import time\n",
    "import matplotlib.pyplot as plt\n",
    "import inspect\n",
    "import types\n",
    "import math as mat\n",
    "import seaborn as sns\n",
    "import matplotlib.gridspec as gridspec\n",
    "from matplotlib.colors import LogNorm\n",
    "import datetime\n",
    "from matplotlib import animation\n",
    "from IPython.display import HTML\n",
    "from tempfile import NamedTemporaryFile\n",
    "import matplotlib.backends.backend_pdf\n",
    "from scipy import interpolate\n",
    "from itertools import groupby\n",
    "import re\n",
    "import csv\n",
    "import copy\n",
    "from fnmatch import fnmatch\n",
    "import json\n",
    "import h5py \n",
    "import copy\n",
    "import math\n",
    "import glob\n",
    "pi = math.pi\n",
    "\n",
    "sns.set()\n",
    "sns.set_style()\n",
    "%matplotlib inline"
   ]
  },
  {
   "cell_type": "code",
   "execution_count": 15,
   "metadata": {
    "scrolled": false
   },
   "outputs": [
    {
     "name": "stdout",
     "output_type": "stream",
     "text": [
      "444\n"
     ]
    }
   ],
   "source": [
    "dataDir = \"/Users/fponce/pilot_with_dickinson_lab/with_opto_files\"\n",
    "mystr = '*.txt'\n",
    "\n",
    "datapaths = []\n",
    "for path, subdirs, files in os.walk(dataDir):\n",
    "    for name in files:\n",
    "        all_files.append(name)\n",
    "        if fnmatch(name, mystr):\n",
    "            datapaths.append(os.path.join(path, name))\n",
    "\n",
    "print(len(datapaths))\n",
    "\n",
    "#renaming files that end with .txt with the name of their directory + filename\n",
    "# for f in datapaths:\n",
    "#     ff = (os.path.dirname(f))\n",
    "#     k = os.path.split(os.path.dirname(f))[-1]\n",
    "#     k1 = os.path.basename(f)\n",
    "#     os.rename(f, os.path.join(ff, k+'_'+k1)) "
   ]
  },
  {
   "cell_type": "code",
   "execution_count": 66,
   "metadata": {},
   "outputs": [],
   "source": [
    "mystr = '*.mkv'\n",
    "\n",
    "datapaths = []\n",
    "for path, subdirs, files in os.walk(dataDir):\n",
    "    for name in files:\n",
    "        all_files.append(name)\n",
    "        if fnmatch(name, mystr):\n",
    "            datapaths.append(os.path.join(path, name))\n",
    "\n",
    "for f in datapaths:\n",
    "    os.remove(f)"
   ]
  },
  {
   "cell_type": "code",
   "execution_count": 30,
   "metadata": {
    "scrolled": false
   },
   "outputs": [
    {
     "name": "stdout",
     "output_type": "stream",
     "text": [
      "/Users/fponce/pilot_with_dickinson_lab/with_opto_files/exp-20190828-094443/trial-1-20190828-095102/trial-1-20190828-095102_cnc.txt\n"
     ]
    }
   ],
   "source": [
    "#making a list of paths to files\n",
    "\n",
    "#finding cnc files\n",
    "str_cnc = '*cnc.txt'\n",
    "\n",
    "datapaths_cnc = []\n",
    "for path, subdirs, files in os.walk(dataDir):\n",
    "    for name in files:\n",
    "        all_files.append(name)\n",
    "        if fnmatch(name, str_cnc):\n",
    "            datapaths_cnc.append(os.path.join(path, name))\n",
    "print((datapaths_cnc[0]))\n",
    "\n",
    "#finding cam files\n",
    "str_cam = '*cam.txt'\n",
    "\n",
    "datapaths_cam = []\n",
    "for path, subdirs, files in os.walk(dataDir):\n",
    "    for name in files:\n",
    "        all_files.append(name)\n",
    "        if fnmatch(name, str_cam):\n",
    "            datapaths_cam.append(os.path.join(path, name))\n",
    "\n",
    "str_opto = '*opto.txt'\n",
    "\n",
    "datapaths_opto = []\n",
    "for path, subdirs, files in os.walk(dataDir):\n",
    "    for name in files:\n",
    "        all_files.append(name)\n",
    "        if fnmatch(name, str_opto):\n",
    "            datapaths_opto.append(os.path.join(path, name))"
   ]
  },
  {
   "cell_type": "code",
   "execution_count": 32,
   "metadata": {
    "code_folding": []
   },
   "outputs": [],
   "source": [
    "#reading in the data (t,x,y) into separate lists and \n",
    "#appending them into a list of all the files tested\n",
    "\n",
    "allfiles_t_cnc_s = []\n",
    "allfiles_x_cnc_s = []\n",
    "allfiles_y_cnc_s = []        \n",
    "for i in range(len(datapaths_cnc)):\n",
    "    t_cnc = []\n",
    "    x_cnc = []\n",
    "    y_cnc = []\n",
    "    with open (datapaths_cnc[i]) as myfile:\n",
    "        for line in myfile:\n",
    "            x1,x2,x3 = line.rstrip().split(',')\n",
    "            t_cnc.append(x1)\n",
    "            x_cnc.append(x2)\n",
    "            y_cnc.append(x3)\n",
    "    allfiles_t_cnc_s.append(t_cnc)\n",
    "    allfiles_x_cnc_s.append(x_cnc)\n",
    "    allfiles_y_cnc_s.append(y_cnc)\n",
    "            \n",
    "allfiles_t_cam_s = []\n",
    "allfiles_x_cam_s = []\n",
    "allfiles_y_cam_s = [] \n",
    "allfiles_a_cam_s = [] #angle\n",
    "for i in range(len(datapaths_cam)):\n",
    "    t_cam = []\n",
    "    x_cam = []\n",
    "    y_cam = []\n",
    "    a_cam = []\n",
    "    with open (datapaths_cam[i]) as myfile:\n",
    "        for line in myfile:\n",
    "            x1,x2,x3,x4 = line.rstrip().split(',')\n",
    "            t_cam.append(x1)\n",
    "            x_cam.append(x2)\n",
    "            y_cam.append(x3)\n",
    "            a_cam.append(x4)\n",
    "    allfiles_t_cam_s.append(t_cam)\n",
    "    allfiles_x_cam_s.append(x_cam)\n",
    "    allfiles_y_cam_s.append(y_cam)\n",
    "    allfiles_a_cam_s.append(a_cam)"
   ]
  },
  {
   "cell_type": "code",
   "execution_count": 33,
   "metadata": {
    "collapsed": true
   },
   "outputs": [],
   "source": [
    "def get_elapsed_time(my_list):\n",
    "#for list of lists\n",
    "    all_t_ellapsed = []\n",
    "    for i in range(len(my_list)):\n",
    "        t_ellapsed = my_list[i] - my_list[i][0]\n",
    "        all_t_ellapsed.append(t_ellapsed)\n",
    "    return all_t_ellapsed"
   ]
  },
  {
   "cell_type": "code",
   "execution_count": 62,
   "metadata": {},
   "outputs": [
    {
     "name": "stdout",
     "output_type": "stream",
     "text": [
      "range(0, 10)\n"
     ]
    }
   ],
   "source": [
    "print(range(0,10))#start, stop[, step]"
   ]
  },
  {
   "cell_type": "code",
   "execution_count": 61,
   "metadata": {},
   "outputs": [
    {
     "ename": "TypeError",
     "evalue": "len() takes exactly one argument (2 given)",
     "output_type": "error",
     "traceback": [
      "\u001b[0;31m----------------------------------------------------------------------\u001b[0m",
      "\u001b[0;31mTypeError\u001b[0m                            Traceback (most recent call last)",
      "\u001b[0;32m<ipython-input-61-11b9eaf6a01b>\u001b[0m in \u001b[0;36m<module>\u001b[0;34m()\u001b[0m\n\u001b[1;32m      6\u001b[0m     \u001b[0mx_cnc\u001b[0m \u001b[0;34m=\u001b[0m \u001b[0;34m[\u001b[0m\u001b[0;34m]\u001b[0m\u001b[0;34m\u001b[0m\u001b[0m\n\u001b[1;32m      7\u001b[0m     \u001b[0my_cnc\u001b[0m \u001b[0;34m=\u001b[0m \u001b[0;34m[\u001b[0m\u001b[0;34m]\u001b[0m\u001b[0;34m\u001b[0m\u001b[0m\n\u001b[0;32m----> 8\u001b[0;31m     \u001b[0;32mfor\u001b[0m \u001b[0mj\u001b[0m \u001b[0;32min\u001b[0m \u001b[0mrange\u001b[0m\u001b[0;34m(\u001b[0m\u001b[0;36m1\u001b[0m\u001b[0;34m,\u001b[0m\u001b[0mlen\u001b[0m\u001b[0;34m(\u001b[0m\u001b[0mdatapaths_cnc\u001b[0m\u001b[0;34m[\u001b[0m\u001b[0mi\u001b[0m\u001b[0;34m]\u001b[0m\u001b[0;34m,\u001b[0m\u001b[0;36m1\u001b[0m\u001b[0;34m)\u001b[0m\u001b[0;34m)\u001b[0m\u001b[0;34m:\u001b[0m\u001b[0;34m\u001b[0m\u001b[0m\n\u001b[0m\u001b[1;32m      9\u001b[0m         \u001b[0mt_cnc\u001b[0m \u001b[0;34m=\u001b[0m \u001b[0mfloat\u001b[0m\u001b[0;34m(\u001b[0m\u001b[0mallfiles_t_cnc\u001b[0m\u001b[0;34m[\u001b[0m\u001b[0mi\u001b[0m\u001b[0;34m]\u001b[0m\u001b[0;34m[\u001b[0m\u001b[0mj\u001b[0m\u001b[0;34m]\u001b[0m\u001b[0;34m)\u001b[0m\u001b[0;34m\u001b[0m\u001b[0m\n\u001b[1;32m     10\u001b[0m         \u001b[0mx_cnc\u001b[0m \u001b[0;34m=\u001b[0m \u001b[0mfloat\u001b[0m\u001b[0;34m(\u001b[0m\u001b[0mallfiles_x_cnc\u001b[0m\u001b[0;34m[\u001b[0m\u001b[0mi\u001b[0m\u001b[0;34m]\u001b[0m\u001b[0;34m[\u001b[0m\u001b[0mj\u001b[0m\u001b[0;34m]\u001b[0m\u001b[0;34m)\u001b[0m\u001b[0;34m\u001b[0m\u001b[0m\n",
      "\u001b[0;31mTypeError\u001b[0m: len() takes exactly one argument (2 given)"
     ]
    }
   ],
   "source": [
    "allfiles_t_cnc = []\n",
    "allfiles_x_cnc = []\n",
    "allfiles_y_cnc = []        \n",
    "for i in range(len(datapaths_cnc)):\n",
    "    t_cnc = []\n",
    "    x_cnc = []\n",
    "    y_cnc = []\n",
    "    for j in range(1,len(datapaths_cnc[i])):\n",
    "        t_cnc = float(allfiles_t_cnc[i][j])\n",
    "        x_cnc = float(allfiles_x_cnc[i][j])\n",
    "        y_cnc = float(allfiles_y_cnc[i][j])\n",
    "    allfiles_t_cnc.append(t_cnc)\n",
    "    allfiles_x_cnc.append(x_cnc)\n",
    "    allfiles_y_cnc.append(y_cnc)"
   ]
  },
  {
   "cell_type": "code",
   "execution_count": 43,
   "metadata": {},
   "outputs": [
    {
     "ename": "TypeError",
     "evalue": "unsupported operand type(s) for -: 'numpy.str_' and 'str'",
     "output_type": "error",
     "traceback": [
      "\u001b[0;31m----------------------------------------------------------------------\u001b[0m",
      "\u001b[0;31mTypeError\u001b[0m                            Traceback (most recent call last)",
      "\u001b[0;32m<ipython-input-43-25286db1733a>\u001b[0m in \u001b[0;36m<module>\u001b[0;34m()\u001b[0m\n\u001b[1;32m      5\u001b[0m \u001b[0mallfiles_et_opto\u001b[0m \u001b[0;34m=\u001b[0m \u001b[0;34m[\u001b[0m\u001b[0;34m]\u001b[0m\u001b[0;34m\u001b[0m\u001b[0m\n\u001b[1;32m      6\u001b[0m \u001b[0;32mfor\u001b[0m \u001b[0mi\u001b[0m \u001b[0;32min\u001b[0m \u001b[0mrange\u001b[0m\u001b[0;34m(\u001b[0m\u001b[0mlen\u001b[0m\u001b[0;34m(\u001b[0m\u001b[0mallfiles_t_cnc\u001b[0m\u001b[0;34m)\u001b[0m\u001b[0;34m)\u001b[0m\u001b[0;34m:\u001b[0m\u001b[0;34m\u001b[0m\u001b[0m\n\u001b[0;32m----> 7\u001b[0;31m     \u001b[0met_cnc\u001b[0m \u001b[0;34m=\u001b[0m \u001b[0mget_elapsed_time\u001b[0m\u001b[0;34m(\u001b[0m\u001b[0mnp\u001b[0m\u001b[0;34m.\u001b[0m\u001b[0masarray\u001b[0m\u001b[0;34m(\u001b[0m\u001b[0mallfiles_t_cnc\u001b[0m\u001b[0;34m[\u001b[0m\u001b[0mi\u001b[0m\u001b[0;34m]\u001b[0m\u001b[0;34m[\u001b[0m\u001b[0;36m1\u001b[0m\u001b[0;34m:\u001b[0m\u001b[0;34m]\u001b[0m\u001b[0;34m)\u001b[0m\u001b[0;34m)\u001b[0m\u001b[0;34m\u001b[0m\u001b[0m\n\u001b[0m\u001b[1;32m      8\u001b[0m     \u001b[0met_cam\u001b[0m \u001b[0;34m=\u001b[0m \u001b[0mget_elapsed_time\u001b[0m\u001b[0;34m(\u001b[0m\u001b[0mnp\u001b[0m\u001b[0;34m.\u001b[0m\u001b[0masarray\u001b[0m\u001b[0;34m(\u001b[0m\u001b[0mallfiles_t_cam\u001b[0m\u001b[0;34m[\u001b[0m\u001b[0mi\u001b[0m\u001b[0;34m]\u001b[0m\u001b[0;34m[\u001b[0m\u001b[0;36m1\u001b[0m\u001b[0;34m:\u001b[0m\u001b[0;34m]\u001b[0m\u001b[0;34m)\u001b[0m\u001b[0;34m)\u001b[0m\u001b[0;34m\u001b[0m\u001b[0m\n\u001b[1;32m      9\u001b[0m     \u001b[0met_opto\u001b[0m \u001b[0;34m=\u001b[0m \u001b[0mget_elapsed_time\u001b[0m\u001b[0;34m(\u001b[0m\u001b[0mnp\u001b[0m\u001b[0;34m.\u001b[0m\u001b[0masarray\u001b[0m\u001b[0;34m(\u001b[0m\u001b[0mallfiles_t_opto\u001b[0m\u001b[0;34m[\u001b[0m\u001b[0mi\u001b[0m\u001b[0;34m]\u001b[0m\u001b[0;34m[\u001b[0m\u001b[0;36m1\u001b[0m\u001b[0;34m:\u001b[0m\u001b[0;34m]\u001b[0m\u001b[0;34m)\u001b[0m\u001b[0;34m)\u001b[0m\u001b[0;34m\u001b[0m\u001b[0m\n",
      "\u001b[0;32m<ipython-input-33-2a84d4a80b60>\u001b[0m in \u001b[0;36mget_elapsed_time\u001b[0;34m(my_list)\u001b[0m\n\u001b[1;32m      3\u001b[0m     \u001b[0mall_t_ellapsed\u001b[0m \u001b[0;34m=\u001b[0m \u001b[0;34m[\u001b[0m\u001b[0;34m]\u001b[0m\u001b[0;34m\u001b[0m\u001b[0m\n\u001b[1;32m      4\u001b[0m     \u001b[0;32mfor\u001b[0m \u001b[0mi\u001b[0m \u001b[0;32min\u001b[0m \u001b[0mrange\u001b[0m\u001b[0;34m(\u001b[0m\u001b[0mlen\u001b[0m\u001b[0;34m(\u001b[0m\u001b[0mmy_list\u001b[0m\u001b[0;34m)\u001b[0m\u001b[0;34m)\u001b[0m\u001b[0;34m:\u001b[0m\u001b[0;34m\u001b[0m\u001b[0m\n\u001b[0;32m----> 5\u001b[0;31m         \u001b[0mt_ellapsed\u001b[0m \u001b[0;34m=\u001b[0m \u001b[0mmy_list\u001b[0m\u001b[0;34m[\u001b[0m\u001b[0mi\u001b[0m\u001b[0;34m]\u001b[0m \u001b[0;34m-\u001b[0m \u001b[0mmy_list\u001b[0m\u001b[0;34m[\u001b[0m\u001b[0mi\u001b[0m\u001b[0;34m]\u001b[0m\u001b[0;34m[\u001b[0m\u001b[0;36m0\u001b[0m\u001b[0;34m]\u001b[0m\u001b[0;34m\u001b[0m\u001b[0m\n\u001b[0m\u001b[1;32m      6\u001b[0m         \u001b[0mall_t_ellapsed\u001b[0m\u001b[0;34m.\u001b[0m\u001b[0mappend\u001b[0m\u001b[0;34m(\u001b[0m\u001b[0mt_ellapsed\u001b[0m\u001b[0;34m)\u001b[0m\u001b[0;34m\u001b[0m\u001b[0m\n\u001b[1;32m      7\u001b[0m     \u001b[0;32mreturn\u001b[0m \u001b[0mall_t_ellapsed\u001b[0m\u001b[0;34m\u001b[0m\u001b[0m\n",
      "\u001b[0;31mTypeError\u001b[0m: unsupported operand type(s) for -: 'numpy.str_' and 'str'"
     ]
    }
   ],
   "source": [
    "#getting elapsed time\n",
    "\n",
    "allfiles_et_cam = []\n",
    "allfiles_et_cnc = []\n",
    "allfiles_et_opto = []\n",
    "for i in range(len(allfiles_t_cnc)):\n",
    "    et_cnc = get_elapsed_time(np.asarray(allfiles_t_cnc[i][1:]))\n",
    "    et_cam = get_elapsed_time(np.asarray(allfiles_t_cam[i][1:]))\n",
    "    et_opto = get_elapsed_time(np.asarray(allfiles_t_opto[i][1:]))\n",
    "    allfiles_et_cam.append(et_cnc)\n",
    "    allfiles_et_cnc.append(et_cam)\n",
    "    allfiles_et_opto.append(et_opto)\n",
    "print(et_cnc)"
   ]
  },
  {
   "cell_type": "code",
   "execution_count": null,
   "metadata": {
    "collapsed": true
   },
   "outputs": [],
   "source": [
    "#interpolation of magnotether angles\n",
    "\n",
    "t = [0,trial_time]\n",
    "print(trial_time*number_frames_per_sec)\n",
    "reg_t = np.linspace(t[0], t[-1],(trial_time*number_frames_per_sec)+1)\n",
    "\n",
    "#getting elapsed time of time stamps to use\n",
    "all_ts = get_elapsed_time(all_magnotether_ros_tstamps)\n",
    "\n",
    "#making the interpolation\n",
    "all_magnotether_interp_angles = []\n",
    "for i in range(len(datapaths)):       \n",
    "    mysecs_np = all_ts[i]\n",
    "    myangles_np = all_magnotether_angle[i]    \n",
    "    f_a = interp1d(mysecs_np, myangles_np, bounds_error=False)\n",
    "    reg_a = f_a(reg_t)\n",
    "    all_magnotether_interp_angles.append(reg_a)"
   ]
  },
  {
   "cell_type": "code",
   "execution_count": null,
   "metadata": {},
   "outputs": [],
   "source": [
    "for i in range(len(allfiles_t_cam)):"
   ]
  },
  {
   "cell_type": "code",
   "execution_count": null,
   "metadata": {
    "scrolled": false
   },
   "outputs": [],
   "source": []
  },
  {
   "cell_type": "code",
   "execution_count": null,
   "metadata": {
    "collapsed": true
   },
   "outputs": [],
   "source": []
  }
 ],
 "metadata": {
  "kernelspec": {
   "display_name": "Python 3",
   "language": "python",
   "name": "python3"
  },
  "language_info": {
   "codemirror_mode": {
    "name": "ipython",
    "version": 3
   },
   "file_extension": ".py",
   "mimetype": "text/x-python",
   "name": "python",
   "nbconvert_exporter": "python",
   "pygments_lexer": "ipython3",
   "version": "3.6.1"
  }
 },
 "nbformat": 4,
 "nbformat_minor": 2
}
